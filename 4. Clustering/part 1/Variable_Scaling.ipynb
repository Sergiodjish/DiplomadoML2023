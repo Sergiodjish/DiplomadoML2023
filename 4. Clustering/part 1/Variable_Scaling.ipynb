{
  "cells": [
    {
      "cell_type": "markdown",
      "metadata": {
        "id": "CqqA8CWBIknK"
      },
      "source": [
        "## Ejemplo cálculo distancias"
      ]
    },
    {
      "cell_type": "markdown",
      "metadata": {
        "id": "WVScxAAdIk5f"
      },
      "source": [
        "El set de datos USArrests contiene el porcentaje de asaltos (Assault), asesinatos (Murder) y secuestros (Rape) por cada 100,000 habitantes para cada uno de los 50 estados de USA (1973). Además, también incluye el porcentaje de la población de cada estado que vive en zonas rurales (UrbanPoP). Empleando estas variables, se pretende calcular una matriz de distancias que permita identificar los estados más similares."
      ]
    },
    {
      "cell_type": "markdown",
      "metadata": {
        "id": "BkssdSJKIsgy"
      },
      "source": [
        "Tareas\n",
        "\n",
        "* Aplicar el escalado de los datos\n",
        "* Calcular la distancia\n",
        "* Observaciones: Las más similares y estados con mayor y menor distancia"
      ]
    },
    {
      "cell_type": "markdown",
      "metadata": {
        "id": "d-NI0ltMIwWS"
      },
      "source": [
        "#### Librerías a utilizar"
      ]
    },
    {
      "cell_type": "code",
      "execution_count": 5,
      "metadata": {
        "id": "ubMuaWDvIgBX"
      },
      "outputs": [],
      "source": [
        "import numpy as np\n",
        "import pandas as pd\n",
        "import statsmodels.api as sm\n",
        "\n",
        "import matplotlib.pyplot as plt\n",
        "import matplotlib.font_manager\n",
        "from matplotlib import style\n",
        "style.use('ggplot') or plt.style.use('ggplot')\n",
        "\n",
        "\n",
        "from sklearn.preprocessing import scale\n",
        "from sklearn.metrics import pairwise_distances"
      ]
    },
    {
      "cell_type": "markdown",
      "metadata": {
        "id": "G3vRF1KzIywH"
      },
      "source": [
        "#### Cargue de los Datos"
      ]
    },
    {
      "cell_type": "code",
      "execution_count": 6,
      "metadata": {
        "id": "IQsow8XPI7SB"
      },
      "outputs": [
        {
          "data": {
            "text/html": [
              "<div>\n",
              "<style scoped>\n",
              "    .dataframe tbody tr th:only-of-type {\n",
              "        vertical-align: middle;\n",
              "    }\n",
              "\n",
              "    .dataframe tbody tr th {\n",
              "        vertical-align: top;\n",
              "    }\n",
              "\n",
              "    .dataframe thead th {\n",
              "        text-align: right;\n",
              "    }\n",
              "</style>\n",
              "<table border=\"1\" class=\"dataframe\">\n",
              "  <thead>\n",
              "    <tr style=\"text-align: right;\">\n",
              "      <th></th>\n",
              "      <th>State</th>\n",
              "      <th>Murder</th>\n",
              "      <th>Assault</th>\n",
              "      <th>UrbanPop</th>\n",
              "      <th>Rape</th>\n",
              "    </tr>\n",
              "  </thead>\n",
              "  <tbody>\n",
              "    <tr>\n",
              "      <th>0</th>\n",
              "      <td>Alabama</td>\n",
              "      <td>13.2</td>\n",
              "      <td>236</td>\n",
              "      <td>58</td>\n",
              "      <td>21.2</td>\n",
              "    </tr>\n",
              "    <tr>\n",
              "      <th>1</th>\n",
              "      <td>Alaska</td>\n",
              "      <td>10.0</td>\n",
              "      <td>263</td>\n",
              "      <td>48</td>\n",
              "      <td>44.5</td>\n",
              "    </tr>\n",
              "    <tr>\n",
              "      <th>2</th>\n",
              "      <td>Arizona</td>\n",
              "      <td>8.1</td>\n",
              "      <td>294</td>\n",
              "      <td>80</td>\n",
              "      <td>31.0</td>\n",
              "    </tr>\n",
              "    <tr>\n",
              "      <th>3</th>\n",
              "      <td>Arkansas</td>\n",
              "      <td>8.8</td>\n",
              "      <td>190</td>\n",
              "      <td>50</td>\n",
              "      <td>19.5</td>\n",
              "    </tr>\n",
              "  </tbody>\n",
              "</table>\n",
              "</div>"
            ],
            "text/plain": [
              "      State  Murder  Assault  UrbanPop  Rape\n",
              "0   Alabama    13.2      236        58  21.2\n",
              "1    Alaska    10.0      263        48  44.5\n",
              "2   Arizona     8.1      294        80  31.0\n",
              "3  Arkansas     8.8      190        50  19.5"
            ]
          },
          "execution_count": 6,
          "metadata": {},
          "output_type": "execute_result"
        }
      ],
      "source": [
        "datos = pd.read_csv(\"data/USArrests.csv\", sep=\";\")\n",
        "datos.head(4)"
      ]
    },
    {
      "cell_type": "code",
      "execution_count": 7,
      "metadata": {
        "id": "iOz-75S7I87D"
      },
      "outputs": [
        {
          "data": {
            "text/html": [
              "<div>\n",
              "<style scoped>\n",
              "    .dataframe tbody tr th:only-of-type {\n",
              "        vertical-align: middle;\n",
              "    }\n",
              "\n",
              "    .dataframe tbody tr th {\n",
              "        vertical-align: top;\n",
              "    }\n",
              "\n",
              "    .dataframe thead th {\n",
              "        text-align: right;\n",
              "    }\n",
              "</style>\n",
              "<table border=\"1\" class=\"dataframe\">\n",
              "  <thead>\n",
              "    <tr style=\"text-align: right;\">\n",
              "      <th></th>\n",
              "      <th>Murder</th>\n",
              "      <th>Assault</th>\n",
              "      <th>UrbanPop</th>\n",
              "      <th>Rape</th>\n",
              "    </tr>\n",
              "    <tr>\n",
              "      <th>State</th>\n",
              "      <th></th>\n",
              "      <th></th>\n",
              "      <th></th>\n",
              "      <th></th>\n",
              "    </tr>\n",
              "  </thead>\n",
              "  <tbody>\n",
              "    <tr>\n",
              "      <th>Alabama</th>\n",
              "      <td>13.2</td>\n",
              "      <td>236</td>\n",
              "      <td>58</td>\n",
              "      <td>21.2</td>\n",
              "    </tr>\n",
              "    <tr>\n",
              "      <th>Alaska</th>\n",
              "      <td>10.0</td>\n",
              "      <td>263</td>\n",
              "      <td>48</td>\n",
              "      <td>44.5</td>\n",
              "    </tr>\n",
              "    <tr>\n",
              "      <th>Arizona</th>\n",
              "      <td>8.1</td>\n",
              "      <td>294</td>\n",
              "      <td>80</td>\n",
              "      <td>31.0</td>\n",
              "    </tr>\n",
              "    <tr>\n",
              "      <th>Arkansas</th>\n",
              "      <td>8.8</td>\n",
              "      <td>190</td>\n",
              "      <td>50</td>\n",
              "      <td>19.5</td>\n",
              "    </tr>\n",
              "  </tbody>\n",
              "</table>\n",
              "</div>"
            ],
            "text/plain": [
              "          Murder  Assault  UrbanPop  Rape\n",
              "State                                    \n",
              "Alabama     13.2      236        58  21.2\n",
              "Alaska      10.0      263        48  44.5\n",
              "Arizona      8.1      294        80  31.0\n",
              "Arkansas     8.8      190        50  19.5"
            ]
          },
          "execution_count": 7,
          "metadata": {},
          "output_type": "execute_result"
        }
      ],
      "source": [
        "# Se cambia el indice del DataFrame por el nombre del estado\n",
        "datos= datos.set_index('State')\n",
        "datos.head(4)"
      ]
    },
    {
      "cell_type": "code",
      "execution_count": 8,
      "metadata": {
        "id": "b5Xg0WsuI-V7"
      },
      "outputs": [
        {
          "data": {
            "text/html": [
              "<div>\n",
              "<style scoped>\n",
              "    .dataframe tbody tr th:only-of-type {\n",
              "        vertical-align: middle;\n",
              "    }\n",
              "\n",
              "    .dataframe tbody tr th {\n",
              "        vertical-align: top;\n",
              "    }\n",
              "\n",
              "    .dataframe thead th {\n",
              "        text-align: right;\n",
              "    }\n",
              "</style>\n",
              "<table border=\"1\" class=\"dataframe\">\n",
              "  <thead>\n",
              "    <tr style=\"text-align: right;\">\n",
              "      <th></th>\n",
              "      <th>Murder</th>\n",
              "      <th>Assault</th>\n",
              "      <th>UrbanPop</th>\n",
              "      <th>Rape</th>\n",
              "    </tr>\n",
              "    <tr>\n",
              "      <th>State</th>\n",
              "      <th></th>\n",
              "      <th></th>\n",
              "      <th></th>\n",
              "      <th></th>\n",
              "    </tr>\n",
              "  </thead>\n",
              "  <tbody>\n",
              "    <tr>\n",
              "      <th>Alabama</th>\n",
              "      <td>1.255179</td>\n",
              "      <td>0.790787</td>\n",
              "      <td>-0.526195</td>\n",
              "      <td>-0.003451</td>\n",
              "    </tr>\n",
              "    <tr>\n",
              "      <th>Alaska</th>\n",
              "      <td>0.513019</td>\n",
              "      <td>1.118060</td>\n",
              "      <td>-1.224067</td>\n",
              "      <td>2.509424</td>\n",
              "    </tr>\n",
              "    <tr>\n",
              "      <th>Arizona</th>\n",
              "      <td>0.072361</td>\n",
              "      <td>1.493817</td>\n",
              "      <td>1.009122</td>\n",
              "      <td>1.053466</td>\n",
              "    </tr>\n",
              "    <tr>\n",
              "      <th>Arkansas</th>\n",
              "      <td>0.234708</td>\n",
              "      <td>0.233212</td>\n",
              "      <td>-1.084492</td>\n",
              "      <td>-0.186794</td>\n",
              "    </tr>\n",
              "  </tbody>\n",
              "</table>\n",
              "</div>"
            ],
            "text/plain": [
              "            Murder   Assault  UrbanPop      Rape\n",
              "State                                           \n",
              "Alabama   1.255179  0.790787 -0.526195 -0.003451\n",
              "Alaska    0.513019  1.118060 -1.224067  2.509424\n",
              "Arizona   0.072361  1.493817  1.009122  1.053466\n",
              "Arkansas  0.234708  0.233212 -1.084492 -0.186794"
            ]
          },
          "execution_count": 8,
          "metadata": {},
          "output_type": "execute_result"
        }
      ],
      "source": [
        "# Escalado de las variables\n",
        "datos_scaled = scale(X=datos, axis=0, with_mean=True, with_std=True) \n",
        "datos_scaled = pd.DataFrame(datos_scaled, columns=datos.columns, index=datos.index)\n",
        "datos_scaled.head(4)"
      ]
    },
    {
      "cell_type": "markdown",
      "metadata": {
        "id": "Xm7g8uTwJAOk"
      },
      "source": [
        "#### Cálculo de distancia"
      ]
    },
    {
      "cell_type": "code",
      "execution_count": 9,
      "metadata": {
        "id": "0HOFSj9DI-1n"
      },
      "outputs": [
        {
          "name": "stdout",
          "output_type": "stream",
          "text": [
            "------------------\n",
            "Distancia Euclídiana\n",
            "------------------\n"
          ]
        },
        {
          "data": {
            "text/html": [
              "<div>\n",
              "<style scoped>\n",
              "    .dataframe tbody tr th:only-of-type {\n",
              "        vertical-align: middle;\n",
              "    }\n",
              "\n",
              "    .dataframe tbody tr th {\n",
              "        vertical-align: top;\n",
              "    }\n",
              "\n",
              "    .dataframe thead th {\n",
              "        text-align: right;\n",
              "    }\n",
              "</style>\n",
              "<table border=\"1\" class=\"dataframe\">\n",
              "  <thead>\n",
              "    <tr style=\"text-align: right;\">\n",
              "      <th>State</th>\n",
              "      <th>Alabama</th>\n",
              "      <th>Alaska</th>\n",
              "      <th>Arizona</th>\n",
              "      <th>Arkansas</th>\n",
              "    </tr>\n",
              "    <tr>\n",
              "      <th>State</th>\n",
              "      <th></th>\n",
              "      <th></th>\n",
              "      <th></th>\n",
              "      <th></th>\n",
              "    </tr>\n",
              "  </thead>\n",
              "  <tbody>\n",
              "    <tr>\n",
              "      <th>Alabama</th>\n",
              "      <td>NaN</td>\n",
              "      <td>NaN</td>\n",
              "      <td>NaN</td>\n",
              "      <td>NaN</td>\n",
              "    </tr>\n",
              "    <tr>\n",
              "      <th>Alaska</th>\n",
              "      <td>2.731204</td>\n",
              "      <td>NaN</td>\n",
              "      <td>NaN</td>\n",
              "      <td>NaN</td>\n",
              "    </tr>\n",
              "    <tr>\n",
              "      <th>Arizona</th>\n",
              "      <td>2.316805</td>\n",
              "      <td>2.728061</td>\n",
              "      <td>NaN</td>\n",
              "      <td>NaN</td>\n",
              "    </tr>\n",
              "    <tr>\n",
              "      <th>Arkansas</th>\n",
              "      <td>1.302905</td>\n",
              "      <td>2.854730</td>\n",
              "      <td>2.74535</td>\n",
              "      <td>NaN</td>\n",
              "    </tr>\n",
              "  </tbody>\n",
              "</table>\n",
              "</div>"
            ],
            "text/plain": [
              "State      Alabama    Alaska  Arizona  Arkansas\n",
              "State                                          \n",
              "Alabama        NaN       NaN      NaN       NaN\n",
              "Alaska    2.731204       NaN      NaN       NaN\n",
              "Arizona   2.316805  2.728061      NaN       NaN\n",
              "Arkansas  1.302905  2.854730  2.74535       NaN"
            ]
          },
          "execution_count": 9,
          "metadata": {},
          "output_type": "execute_result"
        }
      ],
      "source": [
        "# Cálculo de distancias\n",
        "print('------------------')\n",
        "print('Distancia Euclídiana')\n",
        "print('------------------')\n",
        "distancias = pairwise_distances(\n",
        "                X = datos_scaled,\n",
        "                metric ='euclidean'\n",
        "             )\n",
        "\n",
        "# Se descarta la diagonal superior de la matriz\n",
        "distancias[np.triu_indices(n=distancias.shape[0])] = np.nan\n",
        "\n",
        "distancias = pd.DataFrame(\n",
        "                distancias,\n",
        "                columns=datos_scaled.index,\n",
        "                index = datos_scaled.index\n",
        "            )\n",
        "\n",
        "distancias.iloc[:4,:4]"
      ]
    },
    {
      "cell_type": "markdown",
      "metadata": {
        "id": "JO8hhzDpJChM"
      },
      "source": [
        "#### Observaciones"
      ]
    },
    {
      "cell_type": "code",
      "execution_count": 10,
      "metadata": {
        "id": "_70aVh_EJOkH"
      },
      "outputs": [
        {
          "data": {
            "text/html": [
              "<div>\n",
              "<style scoped>\n",
              "    .dataframe tbody tr th:only-of-type {\n",
              "        vertical-align: middle;\n",
              "    }\n",
              "\n",
              "    .dataframe tbody tr th {\n",
              "        vertical-align: top;\n",
              "    }\n",
              "\n",
              "    .dataframe thead th {\n",
              "        text-align: right;\n",
              "    }\n",
              "</style>\n",
              "<table border=\"1\" class=\"dataframe\">\n",
              "  <thead>\n",
              "    <tr style=\"text-align: right;\">\n",
              "      <th></th>\n",
              "      <th>estado_a</th>\n",
              "      <th>estado_b</th>\n",
              "      <th>distancia</th>\n",
              "    </tr>\n",
              "  </thead>\n",
              "  <tbody>\n",
              "    <tr>\n",
              "      <th>728</th>\n",
              "      <td>New Hampshire</td>\n",
              "      <td>Iowa</td>\n",
              "      <td>0.207944</td>\n",
              "    </tr>\n",
              "    <tr>\n",
              "      <th>631</th>\n",
              "      <td>New York</td>\n",
              "      <td>Illinois</td>\n",
              "      <td>0.353774</td>\n",
              "    </tr>\n",
              "    <tr>\n",
              "      <th>665</th>\n",
              "      <td>Kansas</td>\n",
              "      <td>Indiana</td>\n",
              "      <td>0.433124</td>\n",
              "    </tr>\n",
              "    <tr>\n",
              "      <th>1148</th>\n",
              "      <td>Wisconsin</td>\n",
              "      <td>Minnesota</td>\n",
              "      <td>0.499099</td>\n",
              "    </tr>\n",
              "    <tr>\n",
              "      <th>928</th>\n",
              "      <td>New Hampshire</td>\n",
              "      <td>Maine</td>\n",
              "      <td>0.504669</td>\n",
              "    </tr>\n",
              "    <tr>\n",
              "      <th>...</th>\n",
              "      <td>...</td>\n",
              "      <td>...</td>\n",
              "      <td>...</td>\n",
              "    </tr>\n",
              "    <tr>\n",
              "      <th>244</th>\n",
              "      <td>Vermont</td>\n",
              "      <td>California</td>\n",
              "      <td>6.093594</td>\n",
              "    </tr>\n",
              "    <tr>\n",
              "      <th>433</th>\n",
              "      <td>North Dakota</td>\n",
              "      <td>Florida</td>\n",
              "      <td>6.096939</td>\n",
              "    </tr>\n",
              "    <tr>\n",
              "      <th>1394</th>\n",
              "      <td>Vermont</td>\n",
              "      <td>Nevada</td>\n",
              "      <td>6.105144</td>\n",
              "    </tr>\n",
              "    <tr>\n",
              "      <th>1383</th>\n",
              "      <td>North Dakota</td>\n",
              "      <td>Nevada</td>\n",
              "      <td>6.113387</td>\n",
              "    </tr>\n",
              "    <tr>\n",
              "      <th>444</th>\n",
              "      <td>Vermont</td>\n",
              "      <td>Florida</td>\n",
              "      <td>6.138335</td>\n",
              "    </tr>\n",
              "  </tbody>\n",
              "</table>\n",
              "<p>1225 rows × 3 columns</p>\n",
              "</div>"
            ],
            "text/plain": [
              "           estado_a    estado_b  distancia\n",
              "728   New Hampshire        Iowa   0.207944\n",
              "631        New York    Illinois   0.353774\n",
              "665          Kansas     Indiana   0.433124\n",
              "1148      Wisconsin   Minnesota   0.499099\n",
              "928   New Hampshire       Maine   0.504669\n",
              "...             ...         ...        ...\n",
              "244         Vermont  California   6.093594\n",
              "433    North Dakota     Florida   6.096939\n",
              "1394        Vermont      Nevada   6.105144\n",
              "1383   North Dakota      Nevada   6.113387\n",
              "444         Vermont     Florida   6.138335\n",
              "\n",
              "[1225 rows x 3 columns]"
            ]
          },
          "execution_count": 10,
          "metadata": {},
          "output_type": "execute_result"
        }
      ],
      "source": [
        "# Observaciones más similares\n",
        "distancias.melt(ignore_index=False, var_name=\"estado_b\", value_name='distancia') \\\n",
        "    .rename_axis(\"estado_a\") \\\n",
        "    .reset_index() \\\n",
        "    .sort_values('distancia') \\\n",
        "    .dropna()"
      ]
    },
    {
      "cell_type": "code",
      "execution_count": 11,
      "metadata": {
        "id": "2HHQckCgJPnw"
      },
      "outputs": [
        {
          "data": {
            "text/plain": [
              "Text(0.5, 1.0, 'Estados con mayor distancia')"
            ]
          },
          "execution_count": 11,
          "metadata": {},
          "output_type": "execute_result"
        },
        {
          "data": {
            "image/png": "[encoded data removed]",
            "text/plain": [
              "<Figure size 900x384 with 2 Axes>"
            ]
          },
          "metadata": {},
          "output_type": "display_data"
        }
      ],
      "source": [
        "# Estados con mayor y menor distancia\n",
        "fig, axs = plt.subplots(1,2, figsize=(9, 3.84))\n",
        "datos.loc[['New Hampshire', 'Iowa']].transpose().plot(ax= axs[0])\n",
        "axs[0].set_title('Estados con menor distancia')\n",
        "datos.loc[['Vermont', 'Florida']].transpose().plot(ax= axs[1])\n",
        "axs[1].set_title('Estados con mayor distancia')"
      ]
    }
  ],
  "metadata": {
    "colab": {
      "provenance": []
    },
    "kernelspec": {
      "display_name": "Python 3",
      "name": "python3"
    },
    "language_info": {
      "codemirror_mode": {
        "name": "ipython",
        "version": 3
      },
      "file_extension": ".py",
      "mimetype": "text/x-python",
      "name": "python",
      "nbconvert_exporter": "python",
      "pygments_lexer": "ipython3",
      "version": "3.11.3"
    }
  },
  "nbformat": 4,
  "nbformat_minor": 0
}
