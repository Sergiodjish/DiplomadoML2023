{
  "cells": [
    {
      "cell_type": "markdown",
      "metadata": {
        "id": "eKZKRglZH9s3"
      },
      "source": [
        "# Ejercicios Cálculo Distancias: Euclídiana y Manhattan"
      ]
    },
    {
      "cell_type": "markdown",
      "metadata": {
        "id": "NbKy99fbH-58"
      },
      "source": [
        "### Librerías a utilizar"
      ]
    },
    {
      "cell_type": "code",
      "execution_count": 1,
      "metadata": {
        "id": "FocIMCfXH6hN"
      },
      "outputs": [],
      "source": [
        "# Librería para procesos matemáticos\n",
        "import numpy as np\n",
        "import pandas as pd"
      ]
    },
    {
      "cell_type": "markdown",
      "metadata": {
        "id": "DWt3p2BJIDrX"
      },
      "source": [
        "## Euclídiana"
      ]
    },
    {
      "cell_type": "markdown",
      "metadata": {
        "id": "qXZSA238IDg4"
      },
      "source": [
        "### Se cargan los datos"
      ]
    },
    {
      "cell_type": "code",
      "execution_count": 2,
      "metadata": {
        "colab": {
          "base_uri": "https://localhost:8080/"
        },
        "id": "CSY9V8XtIB2S",
        "outputId": "61f25f42-5da2-4ac1-dc50-e38224387068"
      },
      "outputs": [
        {
          "name": "stdout",
          "output_type": "stream",
          "text": [
            "[-23.99, 24.25]\n",
            "[32.51, 91.82]\n"
          ]
        }
      ],
      "source": [
        "# Se cargan los valores en dos listas, una para cliente1 y otra para cliente2\n",
        "cliente1 = [-23.99, 24.25]\n",
        "cliente2 = [32.51, 91.82]\n",
        "\n",
        "print(cliente1)\n",
        "print(cliente2)"
      ]
    },
    {
      "cell_type": "markdown",
      "metadata": {
        "id": "T3BP6s19II7J"
      },
      "source": [
        "#### Función para el cálculo de la distancia Euclídiana"
      ]
    },
    {
      "cell_type": "code",
      "execution_count": 3,
      "metadata": {
        "colab": {
          "base_uri": "https://localhost:8080/"
        },
        "id": "xQMHTiyyRj6p",
        "outputId": "84a3dbda-a66b-474e-a173-9c1b6ae9c6a5"
      },
      "outputs": [
        {
          "name": "stdout",
          "output_type": "stream",
          "text": [
            "Distancia Euclídiana =  88.079\n"
          ]
        }
      ],
      "source": [
        "# Cálculo de distancia Euclídiana\n",
        "def distancia_euclidiana(cliente1, cliente2):\n",
        "    distancia = np.sqrt( np.power( (cliente2[0] - cliente1[0]), 2) + np.power( (cliente2[1] - cliente1[1]), 2))\n",
        "    return round(distancia, 3)\n",
        "\n",
        "resultado = distancia_euclidiana(cliente1, cliente2)\n",
        "\n",
        "print(\"Distancia Euclídiana = \", resultado)"
      ]
    },
    {
      "cell_type": "markdown",
      "metadata": {
        "id": "yj3uaG3pIKpA"
      },
      "source": [
        "## Manhattan\n"
      ]
    },
    {
      "cell_type": "markdown",
      "metadata": {
        "id": "0B3j2-OFILXm"
      },
      "source": [
        "#### Se cargan los datos"
      ]
    },
    {
      "cell_type": "code",
      "execution_count": 4,
      "metadata": {
        "colab": {
          "base_uri": "https://localhost:8080/"
        },
        "id": "knkzLknyIXKG",
        "outputId": "8d9392fd-d459-4465-aa25-8d129f9d01d0"
      },
      "outputs": [
        {
          "name": "stdout",
          "output_type": "stream",
          "text": [
            "[-1, 1, 3, 2]\n",
            "[5, 6, 5, 3]\n",
            "4\n"
          ]
        }
      ],
      "source": [
        "# Se cargan los registros en listas\n",
        "x = [-1, 1, 3, 2]\n",
        "y = [5, 6, 5, 3]\n",
        "n = len(x)\n",
        "\n",
        "print(x)\n",
        "print(y)\n",
        "print(n)"
      ]
    },
    {
      "cell_type": "markdown",
      "metadata": {
        "id": "9NAOpYy2IYwE"
      },
      "source": [
        "### Función para distancia Manhattan"
      ]
    },
    {
      "cell_type": "code",
      "execution_count": 5,
      "metadata": {
        "colab": {
          "base_uri": "https://localhost:8080/"
        },
        "id": "-ohKQrjMIaNG",
        "outputId": "bbaf8eaa-7316-4d1d-8b26-8f1f6add259d"
      },
      "outputs": [
        {
          "name": "stdout",
          "output_type": "stream",
          "text": [
            "Distancia Manhattan =  22\n"
          ]
        }
      ],
      "source": [
        "# Cálculo de la distancia Manhattan\n",
        "def distancia_manhattan(x, y, n):\n",
        "    # Acumulador\n",
        "    sum = 0\n",
        "\n",
        "    # Ciclo para n\n",
        "    for i in range(n):\n",
        "        # Ciclo para procesar los elementos de x y y\n",
        "        for j in range(i+1, n):\n",
        "            sum += ( abs(x[i] - x[j]) ) + ( abs(y[i] - y[j]))\n",
        "    \n",
        "    return sum\n",
        "\n",
        "resultado = distancia_manhattan(x, y, n)\n",
        "\n",
        "print(\"Distancia Manhattan = \", resultado)"
      ]
    }
  ],
  "metadata": {
    "colab": {
      "provenance": []
    },
    "kernelspec": {
      "display_name": "Python 3",
      "name": "python3"
    },
    "language_info": {
      "codemirror_mode": {
        "name": "ipython",
        "version": 3
      },
      "file_extension": ".py",
      "mimetype": "text/x-python",
      "name": "python",
      "nbconvert_exporter": "python",
      "pygments_lexer": "ipython3",
      "version": "3.11.3"
    }
  },
  "nbformat": 4,
  "nbformat_minor": 0
}
