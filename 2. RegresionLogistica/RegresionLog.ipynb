{
  "cells": [
    {
      "cell_type": "markdown",
      "metadata": {
        "id": "RlxXynzhACsM"
      },
      "source": [
        "## Regresion Logistica Binomial"
      ]
    },
    {
      "cell_type": "markdown",
      "metadata": {
        "id": "9CTxYqv5AGbA"
      },
      "source": [
        "#### Paso 1: Librerías"
      ]
    },
    {
      "cell_type": "code",
      "execution_count": 1,
      "metadata": {
        "id": "KvwxYzEn_73_"
      },
      "outputs": [],
      "source": [
        "##Importar librerias\n",
        "import numpy as np\n",
        "import pandas as pd\n",
        "import matplotlib.pyplot as plt\n",
        "import seaborn as sns\n",
        "\n",
        "import warnings\n",
        "warnings.filterwarnings('ignore')\n",
        "\n",
        "from sklearn import preprocessing\n",
        "from sklearn.preprocessing import MinMaxScaler, StandardScaler, LabelEncoder\n",
        "from sklearn.model_selection import train_test_split\n",
        "from sklearn.linear_model import LinearRegression\n",
        "from sklearn.metrics import r2_score, mean_squared_error"
      ]
    },
    {
      "cell_type": "markdown",
      "metadata": {
        "id": "mMrZSBE3BATF"
      },
      "source": [
        "## Funciones"
      ]
    },
    {
      "cell_type": "code",
      "execution_count": 2,
      "metadata": {
        "id": "VgLesp9DBC9r"
      },
      "outputs": [],
      "source": [
        "### Función cargar data sea .csv o .xlsx\n",
        "def importDatos(ruta, archivo, ext):\n",
        "    if ext == '.csv':\n",
        "        data = pd.read_csv(ruta+archivo+ext)\n",
        "        return data\n",
        "    elif ext == '.xlsx':\n",
        "        data = pd.read_excel(ruta+archivo+ext)\n",
        "        return data\n",
        "    else:\n",
        "        print('Extensión Diferente')\n",
        "\n",
        "# Función para reemplazo de valore numéricos con la mediana\n",
        "def imputacionNa(df, nomCol, param):\n",
        "    if param == 'media':\n",
        "        df[nomCol] = df[nomCol].fillna(df[nomCol].mean())\n",
        "        return df[nomCol]\n",
        "    else:\n",
        "        df[nomCol] = df[nomCol].fillna(df[nomCol].median())\n",
        "        return df[nomCol]\n",
        "\n",
        "# Función para reeemplazo NA categóricos\n",
        "def imputacionCatNa(df, nomCol):\n",
        "    df[nomCol] = df[nomCol].fillna(df[nomCol].mode()[0])\n",
        "    return df[nomCol]\n",
        "\n",
        "# Función para datos categóricos modificaciones\n",
        "def imputacionCat(df, nomCol, busqueda, reempl):\n",
        "    df[nomCol] = np.where(df[nomCol] == busqueda, reempl, df[nomCol])\n",
        "    return df[nomCol]\n",
        "\n",
        "# Función para variables dummies\n",
        "def convDummies(df, nomCol):\n",
        "    dummies = pd.get_dummies(df[nomCol])\n",
        "    data = pd.concat([df, dummies], axis=1)\n",
        "    data.drop(columns=[nomCol], inplace=True)\n",
        "    return data\n",
        "\n",
        "# Funcion para revisar datos categóricos o texto\n",
        "def revCategoricos(df, nomCol):\n",
        "    rev = df[nomCol].value_counts()\n",
        "    return rev\n",
        "    \n",
        "## Función para datos NAN -> Null -> 0 (IRQ) -> NAN\n",
        "def datos_NAN(df):\n",
        "    if isinstance(df, pd.DataFrame):\n",
        "        total_na = df.isna().sum().sum()\n",
        "        print(\"Dimesiones: %d filas, %d columnas\" % (df.shape[0], df.shape[1]))\n",
        "        print(\"Total de Valores NAN: %d\" % (total_na))\n",
        "        print(\"%40s %10s  %10s %10s\" % (\"Nombre Columna\", \"Tipo Dato\", \"#Unicos\", \"Cant Valores NAN\"))\n",
        "        col_name = df.columns\n",
        "        dtyp = df.dtypes\n",
        "        uniq = df.nunique()\n",
        "        na_val = df.isna().sum()\n",
        "        for i in range(len(df.columns)):\n",
        "            print(\"%40s %10s  %10s %10s\" % (col_name[i], dtyp[i], uniq[i], na_val[i]))\n",
        "    else:\n",
        "        print(\"Se esperaba un dataframe: %15s\" % (type(df)))\n",
        "\n",
        "# Función para cambiar datos de texto a numerico float64\n",
        "def cambioTextNum(df, nomCol, tipo):\n",
        "    df[nomCol] = df[nomCol].astype(tipo)\n",
        "    return df[nomCol]\n",
        "\n",
        "# Función modificar a 1 y 0 los datos categóricos\n",
        "def camTextBi(df, nomCol, busqueda, camuno, camdos):\n",
        "    df[nomCol] = np.where(df[nomCol] == busqueda, camuno, camdos)\n",
        "    return df[nomCol]\n",
        "\n",
        "##Función de label encoder\n",
        "def Codificacion(df, nomCol):\n",
        "    label_e = LabelEncoder()\n",
        "    df[nomCol] = label_e.fit_transform(df[nomCol])\n",
        "    return df[nomCol]\n",
        "\n",
        "##Función multigraficas\n",
        "def multigraf (df, coluno, coldos):\n",
        "    g = sns.FacetGrid(df, col=coluno)\n",
        "    g.map(sns.histplot, coldos)\n",
        "    return g\n",
        "\n",
        "##Funcion multigraficas para tres variables\n",
        "def multigrafTres (df, coluno, coldos, coltres):\n",
        "    h = sns.FacetGrid(df, col=coluno, height=4, aspect=.5)\n",
        "    h.map(sns.barplot, coldos, coltres, order=['M','F'])\n",
        "    return h\n",
        "\n",
        "##Función de barras y de dispersion\n",
        "def barras(df, colx, coly, cruce):\n",
        "    sns.catplot(x=colx, y=coly, hue=cruce, kind='bar', data=df)\n",
        "\n",
        "def dispersion (df, cruce, num, numdos):\n",
        "    g = sns.FacetGrid(df, hue=cruce, palette='flare', height=5)\n",
        "    g.map(sns.scatterplot, num, numdos, s=100, alpha=0.5)\n",
        "    g.add_legend()\n",
        "    return g\n",
        "\n",
        "from sklearn.preprocessing import MinMaxScaler\n",
        "def normaData(df):\n",
        "    valores = df.values  \n",
        "    scaler = MinMaxScaler(feature_range=(0, 1))\n",
        "    scaler = scaler.fit(valores)\n",
        "\n",
        "    pd.DataFrame(np.vstack((scaler.data_min_, scaler.data_max_)),\n",
        "             index=['Min', 'Max'],\n",
        "             columns=df.columns)\n",
        "\n",
        "    normalizados = scaler.transform(valores)\n",
        "    df_norm = pd.DataFrame(normalizados,\n",
        "                       index=df.index,\n",
        "                       columns=df.columns)\n",
        "    return df_norm\n",
        "    \n",
        "## Función para hacer la matriz de correlación de manera Tidy\n",
        "def tidy_corr_matrix(corr_mat):\n",
        "    '''\n",
        "    Función para convertir una matriz de correlación de pandas en formato tidy.\n",
        "    '''\n",
        "    corr_mat = corr_mat.stack().reset_index()\n",
        "    corr_mat.columns = ['variable_1','variable_2','r']\n",
        "    corr_mat = corr_mat.loc[corr_mat['variable_1'] != corr_mat['variable_2'], :]\n",
        "    corr_mat['abs_r'] = np.abs(corr_mat['r'])\n",
        "    corr_mat = corr_mat.sort_values('abs_r', ascending=False)\n",
        "    \n",
        "    return(corr_mat)"
      ]
    },
    {
      "cell_type": "markdown",
      "metadata": {
        "id": "THRM68A8ALZp"
      },
      "source": [
        "## Paso 2: Importar Dataset"
      ]
    },
    {
      "cell_type": "markdown",
      "metadata": {
        "id": "UPR_1J-UBGDr"
      },
      "source": [
        "## Análisis inicial"
      ]
    },
    {
      "cell_type": "code",
      "execution_count": 3,
      "metadata": {
        "colab": {
          "base_uri": "https://localhost:8080/",
          "height": 386
        },
        "id": "qFkeMsVoBHfP",
        "outputId": "bdef1c67-f97b-4993-b6aa-e5f3b5c4d235"
      },
      "outputs": [
        {
          "data": {
            "text/html": [
              "<div>\n",
              "<style scoped>\n",
              "    .dataframe tbody tr th:only-of-type {\n",
              "        vertical-align: middle;\n",
              "    }\n",
              "\n",
              "    .dataframe tbody tr th {\n",
              "        vertical-align: top;\n",
              "    }\n",
              "\n",
              "    .dataframe thead th {\n",
              "        text-align: right;\n",
              "    }\n",
              "</style>\n",
              "<table border=\"1\" class=\"dataframe\">\n",
              "  <thead>\n",
              "    <tr style=\"text-align: right;\">\n",
              "      <th></th>\n",
              "      <th>Date</th>\n",
              "      <th>Location</th>\n",
              "      <th>MinTemp</th>\n",
              "      <th>MaxTemp</th>\n",
              "      <th>Rainfall</th>\n",
              "      <th>Evaporation</th>\n",
              "      <th>Sunshine</th>\n",
              "      <th>WindGustDir</th>\n",
              "      <th>WindGustSpeed</th>\n",
              "      <th>WindDir9am</th>\n",
              "      <th>...</th>\n",
              "      <th>Humidity9am</th>\n",
              "      <th>Humidity3pm</th>\n",
              "      <th>Pressure9am</th>\n",
              "      <th>Pressure3pm</th>\n",
              "      <th>Cloud9am</th>\n",
              "      <th>Cloud3pm</th>\n",
              "      <th>Temp9am</th>\n",
              "      <th>Temp3pm</th>\n",
              "      <th>RainToday</th>\n",
              "      <th>RainTomorrow</th>\n",
              "    </tr>\n",
              "  </thead>\n",
              "  <tbody>\n",
              "    <tr>\n",
              "      <th>0</th>\n",
              "      <td>2008-12-01</td>\n",
              "      <td>Albury</td>\n",
              "      <td>13.4</td>\n",
              "      <td>22.9</td>\n",
              "      <td>0.6</td>\n",
              "      <td>NaN</td>\n",
              "      <td>NaN</td>\n",
              "      <td>W</td>\n",
              "      <td>44.0</td>\n",
              "      <td>W</td>\n",
              "      <td>...</td>\n",
              "      <td>71.0</td>\n",
              "      <td>22.0</td>\n",
              "      <td>1007.7</td>\n",
              "      <td>1007.1</td>\n",
              "      <td>8.0</td>\n",
              "      <td>NaN</td>\n",
              "      <td>16.9</td>\n",
              "      <td>21.8</td>\n",
              "      <td>No</td>\n",
              "      <td>No</td>\n",
              "    </tr>\n",
              "    <tr>\n",
              "      <th>1</th>\n",
              "      <td>2008-12-02</td>\n",
              "      <td>Albury</td>\n",
              "      <td>7.4</td>\n",
              "      <td>25.1</td>\n",
              "      <td>0.0</td>\n",
              "      <td>NaN</td>\n",
              "      <td>NaN</td>\n",
              "      <td>WNW</td>\n",
              "      <td>44.0</td>\n",
              "      <td>NNW</td>\n",
              "      <td>...</td>\n",
              "      <td>44.0</td>\n",
              "      <td>25.0</td>\n",
              "      <td>1010.6</td>\n",
              "      <td>1007.8</td>\n",
              "      <td>NaN</td>\n",
              "      <td>NaN</td>\n",
              "      <td>17.2</td>\n",
              "      <td>24.3</td>\n",
              "      <td>No</td>\n",
              "      <td>No</td>\n",
              "    </tr>\n",
              "    <tr>\n",
              "      <th>2</th>\n",
              "      <td>2008-12-03</td>\n",
              "      <td>Albury</td>\n",
              "      <td>12.9</td>\n",
              "      <td>25.7</td>\n",
              "      <td>0.0</td>\n",
              "      <td>NaN</td>\n",
              "      <td>NaN</td>\n",
              "      <td>WSW</td>\n",
              "      <td>46.0</td>\n",
              "      <td>W</td>\n",
              "      <td>...</td>\n",
              "      <td>38.0</td>\n",
              "      <td>30.0</td>\n",
              "      <td>1007.6</td>\n",
              "      <td>1008.7</td>\n",
              "      <td>NaN</td>\n",
              "      <td>2.0</td>\n",
              "      <td>21.0</td>\n",
              "      <td>23.2</td>\n",
              "      <td>No</td>\n",
              "      <td>No</td>\n",
              "    </tr>\n",
              "    <tr>\n",
              "      <th>3</th>\n",
              "      <td>2008-12-04</td>\n",
              "      <td>Albury</td>\n",
              "      <td>9.2</td>\n",
              "      <td>28.0</td>\n",
              "      <td>0.0</td>\n",
              "      <td>NaN</td>\n",
              "      <td>NaN</td>\n",
              "      <td>NE</td>\n",
              "      <td>24.0</td>\n",
              "      <td>SE</td>\n",
              "      <td>...</td>\n",
              "      <td>45.0</td>\n",
              "      <td>16.0</td>\n",
              "      <td>1017.6</td>\n",
              "      <td>1012.8</td>\n",
              "      <td>NaN</td>\n",
              "      <td>NaN</td>\n",
              "      <td>18.1</td>\n",
              "      <td>26.5</td>\n",
              "      <td>No</td>\n",
              "      <td>No</td>\n",
              "    </tr>\n",
              "    <tr>\n",
              "      <th>4</th>\n",
              "      <td>2008-12-05</td>\n",
              "      <td>Albury</td>\n",
              "      <td>17.5</td>\n",
              "      <td>32.3</td>\n",
              "      <td>1.0</td>\n",
              "      <td>NaN</td>\n",
              "      <td>NaN</td>\n",
              "      <td>W</td>\n",
              "      <td>41.0</td>\n",
              "      <td>ENE</td>\n",
              "      <td>...</td>\n",
              "      <td>82.0</td>\n",
              "      <td>33.0</td>\n",
              "      <td>1010.8</td>\n",
              "      <td>1006.0</td>\n",
              "      <td>7.0</td>\n",
              "      <td>8.0</td>\n",
              "      <td>17.8</td>\n",
              "      <td>29.7</td>\n",
              "      <td>No</td>\n",
              "      <td>No</td>\n",
              "    </tr>\n",
              "  </tbody>\n",
              "</table>\n",
              "<p>5 rows × 23 columns</p>\n",
              "</div>"
            ],
            "text/plain": [
              "         Date Location  MinTemp  MaxTemp  Rainfall  Evaporation  Sunshine   \n",
              "0  2008-12-01   Albury     13.4     22.9       0.6          NaN       NaN  \\\n",
              "1  2008-12-02   Albury      7.4     25.1       0.0          NaN       NaN   \n",
              "2  2008-12-03   Albury     12.9     25.7       0.0          NaN       NaN   \n",
              "3  2008-12-04   Albury      9.2     28.0       0.0          NaN       NaN   \n",
              "4  2008-12-05   Albury     17.5     32.3       1.0          NaN       NaN   \n",
              "\n",
              "  WindGustDir  WindGustSpeed WindDir9am  ... Humidity9am  Humidity3pm   \n",
              "0           W           44.0          W  ...        71.0         22.0  \\\n",
              "1         WNW           44.0        NNW  ...        44.0         25.0   \n",
              "2         WSW           46.0          W  ...        38.0         30.0   \n",
              "3          NE           24.0         SE  ...        45.0         16.0   \n",
              "4           W           41.0        ENE  ...        82.0         33.0   \n",
              "\n",
              "   Pressure9am  Pressure3pm  Cloud9am  Cloud3pm  Temp9am  Temp3pm  RainToday   \n",
              "0       1007.7       1007.1       8.0       NaN     16.9     21.8         No  \\\n",
              "1       1010.6       1007.8       NaN       NaN     17.2     24.3         No   \n",
              "2       1007.6       1008.7       NaN       2.0     21.0     23.2         No   \n",
              "3       1017.6       1012.8       NaN       NaN     18.1     26.5         No   \n",
              "4       1010.8       1006.0       7.0       8.0     17.8     29.7         No   \n",
              "\n",
              "   RainTomorrow  \n",
              "0            No  \n",
              "1            No  \n",
              "2            No  \n",
              "3            No  \n",
              "4            No  \n",
              "\n",
              "[5 rows x 23 columns]"
            ]
          },
          "execution_count": 3,
          "metadata": {},
          "output_type": "execute_result"
        }
      ],
      "source": [
        "### Cargue de datos\n",
        "data = importDatos('./Dataset/','weatherAUS','.csv')\n",
        "\n",
        "data.head()"
      ]
    },
    {
      "cell_type": "code",
      "execution_count": 4,
      "metadata": {
        "colab": {
          "base_uri": "https://localhost:8080/"
        },
        "id": "PqzrcyDoBdN8",
        "outputId": "b0be49a4-efd0-45c3-8012-43ae2883b2fa"
      },
      "outputs": [
        {
          "name": "stdout",
          "output_type": "stream",
          "text": [
            "Dimesiones: 145460 filas, 23 columnas\n",
            "Total de Valores NAN: 343248\n",
            "                          Nombre Columna  Tipo Dato     #Unicos Cant Valores NAN\n",
            "                                    Date     object        3436          0\n",
            "                                Location     object          49          0\n",
            "                                 MinTemp    float64         389       1485\n",
            "                                 MaxTemp    float64         505       1261\n",
            "                                Rainfall    float64         681       3261\n",
            "                             Evaporation    float64         358      62790\n",
            "                                Sunshine    float64         145      69835\n",
            "                             WindGustDir     object          16      10326\n",
            "                           WindGustSpeed    float64          67      10263\n",
            "                              WindDir9am     object          16      10566\n",
            "                              WindDir3pm     object          16       4228\n",
            "                            WindSpeed9am    float64          43       1767\n",
            "                            WindSpeed3pm    float64          44       3062\n",
            "                             Humidity9am    float64         101       2654\n",
            "                             Humidity3pm    float64         101       4507\n",
            "                             Pressure9am    float64         546      15065\n",
            "                             Pressure3pm    float64         549      15028\n",
            "                                Cloud9am    float64          10      55888\n",
            "                                Cloud3pm    float64          10      59358\n",
            "                                 Temp9am    float64         441       1767\n",
            "                                 Temp3pm    float64         502       3609\n",
            "                               RainToday     object           2       3261\n",
            "                            RainTomorrow     object           2       3267\n"
          ]
        }
      ],
      "source": [
        "##Valores NAN\n",
        "datos_NAN(data)"
      ]
    },
    {
      "cell_type": "code",
      "execution_count": 5,
      "metadata": {
        "id": "FK-evsxKDAZi"
      },
      "outputs": [],
      "source": [
        "##Limpiar NAN mintemp y max temp\n",
        "data['MinTemp'] = imputacionNa(data, 'MinTemp', 'Mediana')\n",
        "data['MaxTemp'] = imputacionNa(data, 'MaxTemp', 'Mediana')\n",
        "data['Rainfall'] = imputacionNa(data, 'Rainfall', 'Mediana')\n",
        "data['Evaporation'] = imputacionNa(data, 'Evaporation', 'Mediana')\n",
        "data['Sunshine'] = imputacionNa(data, 'Sunshine', 'Mediana')\n",
        "data['WindGustSpeed'] = imputacionNa(data, 'WindGustSpeed', 'Mediana')\n",
        "\n",
        "data['WindSpeed9am'] = imputacionNa(data, 'WindSpeed9am', 'Mediana')\n",
        "data['WindSpeed3pm'] = imputacionNa(data, 'WindSpeed3pm', 'Mediana')\n",
        "data['Humidity9am'] = imputacionNa(data, 'Humidity9am', 'Mediana')\n",
        "data['Humidity3pm'] = imputacionNa(data, 'Humidity3pm', 'Mediana')\n",
        "data['Pressure9am'] = imputacionNa(data, 'Pressure9am', 'Mediana')\n",
        "data['Pressure3pm'] = imputacionNa(data, 'Pressure3pm', 'Mediana')\n",
        "data['Cloud9am'] = imputacionNa(data, 'Cloud9am', 'Mediana')\n",
        "data['Cloud3pm'] = imputacionNa(data, 'Cloud3pm', 'Mediana')\n",
        "data['Temp9am'] = imputacionNa(data, 'Temp9am', 'Mediana')\n",
        "data['Temp3pm'] = imputacionNa(data, 'Temp3pm', 'Mediana')\n"
      ]
    },
    {
      "cell_type": "code",
      "execution_count": 6,
      "metadata": {
        "id": "FHSt2ATUDWFO"
      },
      "outputs": [],
      "source": [
        "##Limpieza Categóricos\n",
        "data['WindGustDir'] = imputacionCatNa(data, 'WindGustDir')\n",
        "data['WindDir9am'] = imputacionCatNa(data, 'WindDir9am')\n",
        "data['WindDir3pm'] = imputacionCatNa(data, 'WindDir3pm')\n",
        "data['RainToday'] = imputacionCatNa(data, 'RainToday')\n",
        "data['RainTomorrow'] = imputacionCatNa(data, 'RainTomorrow')"
      ]
    },
    {
      "cell_type": "code",
      "execution_count": 7,
      "metadata": {
        "colab": {
          "base_uri": "https://localhost:8080/"
        },
        "id": "RTbiqsHKDoIh",
        "outputId": "95871796-3ef8-4b1d-971c-9a4d52003015"
      },
      "outputs": [
        {
          "name": "stdout",
          "output_type": "stream",
          "text": [
            "Dimesiones: 145460 filas, 23 columnas\n",
            "Total de Valores NAN: 0\n",
            "                          Nombre Columna  Tipo Dato     #Unicos Cant Valores NAN\n",
            "                                    Date     object        3436          0\n",
            "                                Location     object          49          0\n",
            "                                 MinTemp    float64         389          0\n",
            "                                 MaxTemp    float64         505          0\n",
            "                                Rainfall    float64         681          0\n",
            "                             Evaporation    float64         358          0\n",
            "                                Sunshine    float64         145          0\n",
            "                             WindGustDir     object          16          0\n",
            "                           WindGustSpeed    float64          67          0\n",
            "                              WindDir9am     object          16          0\n",
            "                              WindDir3pm     object          16          0\n",
            "                            WindSpeed9am    float64          43          0\n",
            "                            WindSpeed3pm    float64          44          0\n",
            "                             Humidity9am    float64         101          0\n",
            "                             Humidity3pm    float64         101          0\n",
            "                             Pressure9am    float64         546          0\n",
            "                             Pressure3pm    float64         549          0\n",
            "                                Cloud9am    float64          10          0\n",
            "                                Cloud3pm    float64          10          0\n",
            "                                 Temp9am    float64         441          0\n",
            "                                 Temp3pm    float64         502          0\n",
            "                               RainToday     object           2          0\n",
            "                            RainTomorrow     object           2          0\n"
          ]
        }
      ],
      "source": [
        "## Hacemos revisión nuevamente para confirmar que no hayan datos NAN\n",
        "datos_NAN(data)"
      ]
    },
    {
      "cell_type": "markdown",
      "metadata": {
        "id": "AMGbGPVJEXeW"
      },
      "source": [
        "### Re categorización de los valores"
      ]
    },
    {
      "cell_type": "code",
      "execution_count": 8,
      "metadata": {
        "id": "7-DC0ECdEdle"
      },
      "outputs": [],
      "source": [
        "## Generamos una copia de la data original\n",
        "dataN = data"
      ]
    },
    {
      "cell_type": "code",
      "execution_count": 9,
      "metadata": {
        "colab": {
          "base_uri": "https://localhost:8080/",
          "height": 386
        },
        "id": "AWcHD0W6GcMs",
        "outputId": "ee61e78e-1500-45eb-fc0f-1fdb7231b448"
      },
      "outputs": [
        {
          "data": {
            "text/html": [
              "<div>\n",
              "<style scoped>\n",
              "    .dataframe tbody tr th:only-of-type {\n",
              "        vertical-align: middle;\n",
              "    }\n",
              "\n",
              "    .dataframe tbody tr th {\n",
              "        vertical-align: top;\n",
              "    }\n",
              "\n",
              "    .dataframe thead th {\n",
              "        text-align: right;\n",
              "    }\n",
              "</style>\n",
              "<table border=\"1\" class=\"dataframe\">\n",
              "  <thead>\n",
              "    <tr style=\"text-align: right;\">\n",
              "      <th></th>\n",
              "      <th>Date</th>\n",
              "      <th>MinTemp</th>\n",
              "      <th>MaxTemp</th>\n",
              "      <th>Rainfall</th>\n",
              "      <th>Evaporation</th>\n",
              "      <th>Sunshine</th>\n",
              "      <th>WindGustDir</th>\n",
              "      <th>WindGustSpeed</th>\n",
              "      <th>WindDir9am</th>\n",
              "      <th>WindDir3pm</th>\n",
              "      <th>...</th>\n",
              "      <th>Townsville</th>\n",
              "      <th>Tuggeranong</th>\n",
              "      <th>Uluru</th>\n",
              "      <th>WaggaWagga</th>\n",
              "      <th>Walpole</th>\n",
              "      <th>Watsonia</th>\n",
              "      <th>Williamtown</th>\n",
              "      <th>Witchcliffe</th>\n",
              "      <th>Wollongong</th>\n",
              "      <th>Woomera</th>\n",
              "    </tr>\n",
              "  </thead>\n",
              "  <tbody>\n",
              "    <tr>\n",
              "      <th>0</th>\n",
              "      <td>2008-12-01</td>\n",
              "      <td>13.4</td>\n",
              "      <td>22.9</td>\n",
              "      <td>0.6</td>\n",
              "      <td>4.8</td>\n",
              "      <td>8.4</td>\n",
              "      <td>W</td>\n",
              "      <td>44.0</td>\n",
              "      <td>W</td>\n",
              "      <td>WNW</td>\n",
              "      <td>...</td>\n",
              "      <td>False</td>\n",
              "      <td>False</td>\n",
              "      <td>False</td>\n",
              "      <td>False</td>\n",
              "      <td>False</td>\n",
              "      <td>False</td>\n",
              "      <td>False</td>\n",
              "      <td>False</td>\n",
              "      <td>False</td>\n",
              "      <td>False</td>\n",
              "    </tr>\n",
              "    <tr>\n",
              "      <th>1</th>\n",
              "      <td>2008-12-02</td>\n",
              "      <td>7.4</td>\n",
              "      <td>25.1</td>\n",
              "      <td>0.0</td>\n",
              "      <td>4.8</td>\n",
              "      <td>8.4</td>\n",
              "      <td>WNW</td>\n",
              "      <td>44.0</td>\n",
              "      <td>NNW</td>\n",
              "      <td>WSW</td>\n",
              "      <td>...</td>\n",
              "      <td>False</td>\n",
              "      <td>False</td>\n",
              "      <td>False</td>\n",
              "      <td>False</td>\n",
              "      <td>False</td>\n",
              "      <td>False</td>\n",
              "      <td>False</td>\n",
              "      <td>False</td>\n",
              "      <td>False</td>\n",
              "      <td>False</td>\n",
              "    </tr>\n",
              "    <tr>\n",
              "      <th>2</th>\n",
              "      <td>2008-12-03</td>\n",
              "      <td>12.9</td>\n",
              "      <td>25.7</td>\n",
              "      <td>0.0</td>\n",
              "      <td>4.8</td>\n",
              "      <td>8.4</td>\n",
              "      <td>WSW</td>\n",
              "      <td>46.0</td>\n",
              "      <td>W</td>\n",
              "      <td>WSW</td>\n",
              "      <td>...</td>\n",
              "      <td>False</td>\n",
              "      <td>False</td>\n",
              "      <td>False</td>\n",
              "      <td>False</td>\n",
              "      <td>False</td>\n",
              "      <td>False</td>\n",
              "      <td>False</td>\n",
              "      <td>False</td>\n",
              "      <td>False</td>\n",
              "      <td>False</td>\n",
              "    </tr>\n",
              "    <tr>\n",
              "      <th>3</th>\n",
              "      <td>2008-12-04</td>\n",
              "      <td>9.2</td>\n",
              "      <td>28.0</td>\n",
              "      <td>0.0</td>\n",
              "      <td>4.8</td>\n",
              "      <td>8.4</td>\n",
              "      <td>NE</td>\n",
              "      <td>24.0</td>\n",
              "      <td>SE</td>\n",
              "      <td>E</td>\n",
              "      <td>...</td>\n",
              "      <td>False</td>\n",
              "      <td>False</td>\n",
              "      <td>False</td>\n",
              "      <td>False</td>\n",
              "      <td>False</td>\n",
              "      <td>False</td>\n",
              "      <td>False</td>\n",
              "      <td>False</td>\n",
              "      <td>False</td>\n",
              "      <td>False</td>\n",
              "    </tr>\n",
              "    <tr>\n",
              "      <th>4</th>\n",
              "      <td>2008-12-05</td>\n",
              "      <td>17.5</td>\n",
              "      <td>32.3</td>\n",
              "      <td>1.0</td>\n",
              "      <td>4.8</td>\n",
              "      <td>8.4</td>\n",
              "      <td>W</td>\n",
              "      <td>41.0</td>\n",
              "      <td>ENE</td>\n",
              "      <td>NW</td>\n",
              "      <td>...</td>\n",
              "      <td>False</td>\n",
              "      <td>False</td>\n",
              "      <td>False</td>\n",
              "      <td>False</td>\n",
              "      <td>False</td>\n",
              "      <td>False</td>\n",
              "      <td>False</td>\n",
              "      <td>False</td>\n",
              "      <td>False</td>\n",
              "      <td>False</td>\n",
              "    </tr>\n",
              "  </tbody>\n",
              "</table>\n",
              "<p>5 rows × 71 columns</p>\n",
              "</div>"
            ],
            "text/plain": [
              "         Date  MinTemp  MaxTemp  Rainfall  Evaporation  Sunshine WindGustDir   \n",
              "0  2008-12-01     13.4     22.9       0.6          4.8       8.4           W  \\\n",
              "1  2008-12-02      7.4     25.1       0.0          4.8       8.4         WNW   \n",
              "2  2008-12-03     12.9     25.7       0.0          4.8       8.4         WSW   \n",
              "3  2008-12-04      9.2     28.0       0.0          4.8       8.4          NE   \n",
              "4  2008-12-05     17.5     32.3       1.0          4.8       8.4           W   \n",
              "\n",
              "   WindGustSpeed WindDir9am WindDir3pm  ...  Townsville  Tuggeranong  Uluru   \n",
              "0           44.0          W        WNW  ...       False        False  False  \\\n",
              "1           44.0        NNW        WSW  ...       False        False  False   \n",
              "2           46.0          W        WSW  ...       False        False  False   \n",
              "3           24.0         SE          E  ...       False        False  False   \n",
              "4           41.0        ENE         NW  ...       False        False  False   \n",
              "\n",
              "   WaggaWagga  Walpole  Watsonia  Williamtown  Witchcliffe  Wollongong   \n",
              "0       False    False     False        False        False       False  \\\n",
              "1       False    False     False        False        False       False   \n",
              "2       False    False     False        False        False       False   \n",
              "3       False    False     False        False        False       False   \n",
              "4       False    False     False        False        False       False   \n",
              "\n",
              "   Woomera  \n",
              "0    False  \n",
              "1    False  \n",
              "2    False  \n",
              "3    False  \n",
              "4    False  \n",
              "\n",
              "[5 rows x 71 columns]"
            ]
          },
          "execution_count": 9,
          "metadata": {},
          "output_type": "execute_result"
        }
      ],
      "source": [
        "##Convertir a Número variables categóricas\n",
        "dataN = convDummies(dataN, 'Location')\n",
        "\n",
        "dataN.head()"
      ]
    },
    {
      "cell_type": "code",
      "execution_count": 10,
      "metadata": {
        "id": "rvog8h1G31Ni"
      },
      "outputs": [],
      "source": [
        "## Eliminamos Date de la DataN\n",
        "dataN.drop('Date', axis=1, inplace=True)"
      ]
    },
    {
      "cell_type": "code",
      "execution_count": 11,
      "metadata": {
        "colab": {
          "base_uri": "https://localhost:8080/"
        },
        "id": "Yp-1WRDGEB3W",
        "outputId": "2b81da08-2436-4c68-ec5a-aec509aac10a"
      },
      "outputs": [
        {
          "data": {
            "text/plain": [
              "WindGustDir\n",
              "6    26772\n",
              "5    26006\n",
              "3    22994\n",
              "2    21785\n",
              "7    20241\n",
              "1     9313\n",
              "0     9181\n",
              "4     9168\n",
              "Name: count, dtype: int64"
            ]
          },
          "execution_count": 11,
          "metadata": {},
          "output_type": "execute_result"
        }
      ],
      "source": [
        "##Cambiar a North, South, East, West, NW, NE, SE, SW - label encoder\n",
        "dataN.WindGustDir = imputacionCat(dataN, 'WindGustDir', 'SSE','SE')\n",
        "dataN.WindGustDir = imputacionCat(dataN, 'WindGustDir', 'WSW','SW')\n",
        "dataN.WindGustDir = imputacionCat(dataN, 'WindGustDir', 'SSW','SW')\n",
        "dataN.WindGustDir = imputacionCat(dataN, 'WindGustDir', 'WNW','NW')\n",
        "dataN.WindGustDir = imputacionCat(dataN, 'WindGustDir', 'ENE','NE')\n",
        "dataN.WindGustDir = imputacionCat(dataN, 'WindGustDir', 'ESE','SE')\n",
        "dataN.WindGustDir = imputacionCat(dataN, 'WindGustDir', 'NNE','NE')\n",
        "dataN.WindGustDir = imputacionCat(dataN, 'WindGustDir', 'NNW','NW')\n",
        "\n",
        "##Label encoder\n",
        "from sklearn import preprocessing\n",
        "\n",
        "label_e = preprocessing.LabelEncoder()\n",
        "\n",
        "dataN.WindGustDir = label_e.fit_transform(dataN.WindGustDir)\n",
        "\n",
        "revCategoricos(dataN, 'WindGustDir')"
      ]
    },
    {
      "cell_type": "code",
      "execution_count": 12,
      "metadata": {
        "colab": {
          "base_uri": "https://localhost:8080/"
        },
        "id": "p17jRGfzFLtm",
        "outputId": "52d44aa8-0152-4203-9a51-b055be4af91e"
      },
      "outputs": [
        {
          "data": {
            "text/plain": [
              "WindDir9am\n",
              "5    26029\n",
              "3    24143\n",
              "2    23636\n",
              "6    23034\n",
              "1    22324\n",
              "0     9176\n",
              "4     8659\n",
              "7     8459\n",
              "Name: count, dtype: int64"
            ]
          },
          "execution_count": 12,
          "metadata": {},
          "output_type": "execute_result"
        }
      ],
      "source": [
        "##Cambiar a North, South, East, West, NW, NE, SE, SW \n",
        "dataN.WindDir9am = imputacionCat(dataN, 'WindDir9am', 'SSE','SE')\n",
        "dataN.WindDir9am = imputacionCat(dataN, 'WindDir9am', 'WSW','SW')\n",
        "dataN.WindDir9am = imputacionCat(dataN, 'WindDir9am', 'SSW','SW')\n",
        "dataN.WindDir9am = imputacionCat(dataN, 'WindDir9am', 'WNW','NW')\n",
        "dataN.WindDir9am = imputacionCat(dataN, 'WindDir9am', 'ENE','NE')\n",
        "dataN.WindDir9am = imputacionCat(dataN, 'WindDir9am', 'ESE','SE')\n",
        "dataN.WindDir9am = imputacionCat(dataN, 'WindDir9am', 'NNE','NE')\n",
        "dataN.WindDir9am = imputacionCat(dataN, 'WindDir9am', 'NNW','NW')\n",
        "\n",
        "##Label encoder\n",
        "from sklearn import preprocessing\n",
        "\n",
        "label_e = preprocessing.LabelEncoder()\n",
        "\n",
        "dataN.WindDir9am = label_e.fit_transform(dataN.WindDir9am)\n",
        "\n",
        "revCategoricos(dataN, 'WindDir9am')"
      ]
    },
    {
      "cell_type": "code",
      "execution_count": 13,
      "metadata": {
        "colab": {
          "base_uri": "https://localhost:8080/"
        },
        "id": "Qs4aSjMRFgkU",
        "outputId": "c7960638-87d2-4c3a-936c-a452db2cd9c1"
      },
      "outputs": [
        {
          "data": {
            "text/plain": [
              "WindDir3pm\n",
              "5    32970\n",
              "6    27028\n",
              "3    25354\n",
              "2    22710\n",
              "7    10110\n",
              "4     9926\n",
              "1     8890\n",
              "0     8472\n",
              "Name: count, dtype: int64"
            ]
          },
          "execution_count": 13,
          "metadata": {},
          "output_type": "execute_result"
        }
      ],
      "source": [
        "##Cambiar a North, South, East, West, NW, NE, SE, SW \n",
        "dataN.WindDir3pm = imputacionCat(dataN, 'WindDir3pm', 'SSE', 'SE') \n",
        "dataN.WindDir3pm = imputacionCat(dataN, 'WindDir3pm', 'WSW', 'SW')\n",
        "dataN.WindDir3pm = imputacionCat(dataN, 'WindDir3pm', 'SSW', 'SW')\n",
        "dataN.WindDir3pm = imputacionCat(dataN, 'WindDir3pm', 'WNW', 'NW')\n",
        "dataN.WindDir3pm = imputacionCat(dataN, 'WindDir3pm', 'ENE', 'NE')\n",
        "dataN.WindDir3pm = imputacionCat(dataN, 'WindDir3pm', 'ESE', 'SE')\n",
        "dataN.WindDir3pm = imputacionCat(dataN, 'WindDir3pm', 'NNE', 'NE')\n",
        "dataN.WindDir3pm = imputacionCat(dataN, 'WindDir3pm', 'NNW', 'NW')\n",
        "\n",
        "dataN.WindDir3pm = Codificacion(dataN, 'WindDir3pm')\n",
        "\n",
        "revCategoricos(dataN, 'WindDir3pm')"
      ]
    },
    {
      "cell_type": "code",
      "execution_count": 14,
      "metadata": {
        "colab": {
          "base_uri": "https://localhost:8080/"
        },
        "id": "ujaGT2WNFqzw",
        "outputId": "2d60e914-a3d3-4afd-8c4c-1485669b312f"
      },
      "outputs": [
        {
          "data": {
            "text/plain": [
              "RainToday\n",
              "0    113580\n",
              "1     31880\n",
              "Name: count, dtype: int64"
            ]
          },
          "execution_count": 14,
          "metadata": {},
          "output_type": "execute_result"
        }
      ],
      "source": [
        "##Binarizar No =0 y Si=1\n",
        "dataN['RainToday'] = camTextBi(dataN, 'RainToday', 'No', 0, 1)\n",
        "revCategoricos(dataN, 'RainToday')"
      ]
    },
    {
      "cell_type": "code",
      "execution_count": 15,
      "metadata": {
        "colab": {
          "base_uri": "https://localhost:8080/"
        },
        "id": "-JYWPOk9FuXF",
        "outputId": "9e1f205b-07df-4d16-83d6-4f708d8ea61a"
      },
      "outputs": [
        {
          "data": {
            "text/plain": [
              "RainTomorrow\n",
              "0    113583\n",
              "1     31877\n",
              "Name: count, dtype: int64"
            ]
          },
          "execution_count": 15,
          "metadata": {},
          "output_type": "execute_result"
        }
      ],
      "source": [
        "##Imputación de variables predictora\n",
        "dataN['RainTomorrow'] = imputacionCatNa(dataN, 'RainTomorrow')\n",
        "dataN['RainTomorrow'] = camTextBi(dataN, 'RainTomorrow', 'No', 0, 1)\n",
        "\n",
        "revCategoricos(dataN, 'RainTomorrow')"
      ]
    },
    {
      "cell_type": "code",
      "execution_count": 16,
      "metadata": {
        "colab": {
          "base_uri": "https://localhost:8080/"
        },
        "id": "5WK4NhtmF9KO",
        "outputId": "3c40b954-487a-48dc-9c90-d74dd2bd8e34"
      },
      "outputs": [
        {
          "name": "stdout",
          "output_type": "stream",
          "text": [
            "<class 'pandas.core.frame.DataFrame'>\n",
            "RangeIndex: 145460 entries, 0 to 145459\n",
            "Data columns (total 70 columns):\n",
            " #   Column            Non-Null Count   Dtype  \n",
            "---  ------            --------------   -----  \n",
            " 0   MinTemp           145460 non-null  float64\n",
            " 1   MaxTemp           145460 non-null  float64\n",
            " 2   Rainfall          145460 non-null  float64\n",
            " 3   Evaporation       145460 non-null  float64\n",
            " 4   Sunshine          145460 non-null  float64\n",
            " 5   WindGustDir       145460 non-null  int32  \n",
            " 6   WindGustSpeed     145460 non-null  float64\n",
            " 7   WindDir9am        145460 non-null  int32  \n",
            " 8   WindDir3pm        145460 non-null  int32  \n",
            " 9   WindSpeed9am      145460 non-null  float64\n",
            " 10  WindSpeed3pm      145460 non-null  float64\n",
            " 11  Humidity9am       145460 non-null  float64\n",
            " 12  Humidity3pm       145460 non-null  float64\n",
            " 13  Pressure9am       145460 non-null  float64\n",
            " 14  Pressure3pm       145460 non-null  float64\n",
            " 15  Cloud9am          145460 non-null  float64\n",
            " 16  Cloud3pm          145460 non-null  float64\n",
            " 17  Temp9am           145460 non-null  float64\n",
            " 18  Temp3pm           145460 non-null  float64\n",
            " 19  RainToday         145460 non-null  int32  \n",
            " 20  RainTomorrow      145460 non-null  int32  \n",
            " 21  Adelaide          145460 non-null  bool   \n",
            " 22  Albany            145460 non-null  bool   \n",
            " 23  Albury            145460 non-null  bool   \n",
            " 24  AliceSprings      145460 non-null  bool   \n",
            " 25  BadgerysCreek     145460 non-null  bool   \n",
            " 26  Ballarat          145460 non-null  bool   \n",
            " 27  Bendigo           145460 non-null  bool   \n",
            " 28  Brisbane          145460 non-null  bool   \n",
            " 29  Cairns            145460 non-null  bool   \n",
            " 30  Canberra          145460 non-null  bool   \n",
            " 31  Cobar             145460 non-null  bool   \n",
            " 32  CoffsHarbour      145460 non-null  bool   \n",
            " 33  Dartmoor          145460 non-null  bool   \n",
            " 34  Darwin            145460 non-null  bool   \n",
            " 35  GoldCoast         145460 non-null  bool   \n",
            " 36  Hobart            145460 non-null  bool   \n",
            " 37  Katherine         145460 non-null  bool   \n",
            " 38  Launceston        145460 non-null  bool   \n",
            " 39  Melbourne         145460 non-null  bool   \n",
            " 40  MelbourneAirport  145460 non-null  bool   \n",
            " 41  Mildura           145460 non-null  bool   \n",
            " 42  Moree             145460 non-null  bool   \n",
            " 43  MountGambier      145460 non-null  bool   \n",
            " 44  MountGinini       145460 non-null  bool   \n",
            " 45  Newcastle         145460 non-null  bool   \n",
            " 46  Nhil              145460 non-null  bool   \n",
            " 47  NorahHead         145460 non-null  bool   \n",
            " 48  NorfolkIsland     145460 non-null  bool   \n",
            " 49  Nuriootpa         145460 non-null  bool   \n",
            " 50  PearceRAAF        145460 non-null  bool   \n",
            " 51  Penrith           145460 non-null  bool   \n",
            " 52  Perth             145460 non-null  bool   \n",
            " 53  PerthAirport      145460 non-null  bool   \n",
            " 54  Portland          145460 non-null  bool   \n",
            " 55  Richmond          145460 non-null  bool   \n",
            " 56  Sale              145460 non-null  bool   \n",
            " 57  SalmonGums        145460 non-null  bool   \n",
            " 58  Sydney            145460 non-null  bool   \n",
            " 59  SydneyAirport     145460 non-null  bool   \n",
            " 60  Townsville        145460 non-null  bool   \n",
            " 61  Tuggeranong       145460 non-null  bool   \n",
            " 62  Uluru             145460 non-null  bool   \n",
            " 63  WaggaWagga        145460 non-null  bool   \n",
            " 64  Walpole           145460 non-null  bool   \n",
            " 65  Watsonia          145460 non-null  bool   \n",
            " 66  Williamtown       145460 non-null  bool   \n",
            " 67  Witchcliffe       145460 non-null  bool   \n",
            " 68  Wollongong        145460 non-null  bool   \n",
            " 69  Woomera           145460 non-null  bool   \n",
            "dtypes: bool(49), float64(16), int32(5)\n",
            "memory usage: 27.3 MB\n"
          ]
        }
      ],
      "source": [
        "dataN.info()"
      ]
    },
    {
      "cell_type": "code",
      "execution_count": 17,
      "metadata": {
        "colab": {
          "base_uri": "https://localhost:8080/"
        },
        "id": "ML-_lW3L4xOS",
        "outputId": "a74bc0c9-0c07-483e-8f55-40f3c25c34cd"
      },
      "outputs": [
        {
          "name": "stdout",
          "output_type": "stream",
          "text": [
            "Hay 70 variables de tipo Numéricas\n",
            "Las variables Numéricas son: ['MinTemp', 'MaxTemp', 'Rainfall', 'Evaporation', 'Sunshine', 'WindGustDir', 'WindGustSpeed', 'WindDir9am', 'WindDir3pm', 'WindSpeed9am', 'WindSpeed3pm', 'Humidity9am', 'Humidity3pm', 'Pressure9am', 'Pressure3pm', 'Cloud9am', 'Cloud3pm', 'Temp9am', 'Temp3pm', 'RainToday', 'RainTomorrow', 'Adelaide', 'Albany', 'Albury', 'AliceSprings', 'BadgerysCreek', 'Ballarat', 'Bendigo', 'Brisbane', 'Cairns', 'Canberra', 'Cobar', 'CoffsHarbour', 'Dartmoor', 'Darwin', 'GoldCoast', 'Hobart', 'Katherine', 'Launceston', 'Melbourne', 'MelbourneAirport', 'Mildura', 'Moree', 'MountGambier', 'MountGinini', 'Newcastle', 'Nhil', 'NorahHead', 'NorfolkIsland', 'Nuriootpa', 'PearceRAAF', 'Penrith', 'Perth', 'PerthAirport', 'Portland', 'Richmond', 'Sale', 'SalmonGums', 'Sydney', 'SydneyAirport', 'Townsville', 'Tuggeranong', 'Uluru', 'WaggaWagga', 'Walpole', 'Watsonia', 'Williamtown', 'Witchcliffe', 'Wollongong', 'Woomera']\n"
          ]
        }
      ],
      "source": [
        "###Filtro para variables numéricas\n",
        "numericas = [i for i in dataN.columns if dataN[i].dtype!='O']\n",
        "\n",
        "print('Hay {} variables de tipo Numéricas'.format(len(numericas)))\n",
        "\n",
        "print('Las variables Numéricas son:', numericas)"
      ]
    },
    {
      "cell_type": "code",
      "execution_count": 18,
      "metadata": {
        "colab": {
          "base_uri": "https://localhost:8080/"
        },
        "id": "-mQi3ZMK43tA",
        "outputId": "11ad49fb-b383-4636-c84d-4c8bd8271917"
      },
      "outputs": [
        {
          "data": {
            "text/plain": [
              "MinTemp        0\n",
              "MaxTemp        0\n",
              "Rainfall       0\n",
              "Evaporation    0\n",
              "Sunshine       0\n",
              "              ..\n",
              "Watsonia       0\n",
              "Williamtown    0\n",
              "Witchcliffe    0\n",
              "Wollongong     0\n",
              "Woomera        0\n",
              "Length: 70, dtype: int64"
            ]
          },
          "execution_count": 18,
          "metadata": {},
          "output_type": "execute_result"
        }
      ],
      "source": [
        "dataN[numericas].isnull().sum()"
      ]
    },
    {
      "cell_type": "code",
      "execution_count": 19,
      "metadata": {
        "colab": {
          "base_uri": "https://localhost:8080/",
          "height": 870
        },
        "id": "yYeVgHpX48xU",
        "outputId": "15f6c7d7-b0a0-466f-e742-5a7f24d7d790"
      },
      "outputs": [
        {
          "data": {
            "text/plain": [
              "Text(0, 0.5, 'Cant Viento 3pm')"
            ]
          },
          "execution_count": 19,
          "metadata": {},
          "output_type": "execute_result"
        },
        {
          "data": {
            "image/png": "[encoded data removed]",
            "text/plain": [
              "<Figure size 1500x1000 with 4 Axes>"
            ]
          },
          "metadata": {},
          "output_type": "display_data"
        }
      ],
      "source": [
        "##Grafica para ver el ruido en los datos\n",
        "plt.figure(figsize=(15,10))\n",
        "\n",
        "plt.subplot(2,2,1)\n",
        "fig = dataN.boxplot(column='Rainfall')\n",
        "fig.set_title('Cantidad de Lluvia')\n",
        "fig.set_ylabel('Cant Lluvia')\n",
        "\n",
        "plt.subplot(2,2,2)\n",
        "fig = dataN.boxplot(column='Evaporation')\n",
        "fig.set_title('Cantidad de Evaporación')\n",
        "fig.set_ylabel('Cant Evaporación')\n",
        "\n",
        "plt.subplot(2,2,3)\n",
        "fig = dataN.boxplot(column='WindSpeed9am')\n",
        "fig.set_title('Cantidad de Viento 9am')\n",
        "fig.set_ylabel('Cant Viento')\n",
        "\n",
        "plt.subplot(2,2,4)\n",
        "fig = dataN.boxplot(column='WindSpeed3pm')\n",
        "fig.set_title('Cantidad de Viento 3pm')\n",
        "fig.set_ylabel('Cant Viento 3pm')"
      ]
    },
    {
      "cell_type": "code",
      "execution_count": 20,
      "metadata": {
        "colab": {
          "base_uri": "https://localhost:8080/",
          "height": 875
        },
        "id": "Pjoors-05Sr5",
        "outputId": "e041b5fc-c71b-42b9-c06c-f947f2134f59"
      },
      "outputs": [
        {
          "data": {
            "text/plain": [
              "Text(0, 0.5, 'Llover Mañana')"
            ]
          },
          "execution_count": 20,
          "metadata": {},
          "output_type": "execute_result"
        },
        {
          "data": {
            "image/png": "[encoded data removed]",
            "text/plain": [
              "<Figure size 1500x1000 with 4 Axes>"
            ]
          },
          "metadata": {},
          "output_type": "display_data"
        }
      ],
      "source": [
        "##Ver distribución de variables\n",
        "plt.figure(figsize=(15,10))\n",
        "\n",
        "plt.subplot(2,2,1)\n",
        "fig = dataN.Rainfall.hist(bins=10)\n",
        "fig.set_xlabel('Cantidad de Lluvia')\n",
        "fig.set_ylabel('Llover Mañana')\n",
        "\n",
        "plt.subplot(2,2,2)\n",
        "fig = dataN.Evaporation.hist(bins=10)\n",
        "fig.set_xlabel('Cantidad de Evaporación')\n",
        "fig.set_ylabel('Llover Mañana')\n",
        "\n",
        "plt.subplot(2,2,3)\n",
        "fig = dataN.WindSpeed9am.hist(bins=10)\n",
        "fig.set_xlabel('Cantidad de WindSpeed9am')\n",
        "fig.set_ylabel('Llover Mañana')\n",
        "\n",
        "\n",
        "plt.subplot(2,2,4)\n",
        "fig = dataN.WindSpeed3pm.hist(bins=10)\n",
        "fig.set_xlabel('Cantidad de WindSpeed3pm')\n",
        "fig.set_ylabel('Llover Mañana')"
      ]
    },
    {
      "cell_type": "code",
      "execution_count": 21,
      "metadata": {
        "colab": {
          "base_uri": "https://localhost:8080/"
        },
        "id": "Q3U8DMG55pnO",
        "outputId": "ccd82a1c-ed4b-49bf-c329-89387eb1edee"
      },
      "outputs": [
        {
          "name": "stdout",
          "output_type": "stream",
          "text": [
            "Rainfall el ruido esta entre los valores -1.7999999999999998 y 2.4\n",
            "El rango IQR es: 0.6\n"
          ]
        }
      ],
      "source": [
        "##Rango del ruido de esas variable numéricas - rango intercuantilico\n",
        "IQR1 = dataN.Rainfall.quantile(0.75)- dataN.Rainfall.quantile(0.25)\n",
        "puntomin = dataN.Rainfall.quantile(0.25) - (IQR1*3)\n",
        "puntomax = dataN.Rainfall.quantile(0.75) + (IQR1*3)\n",
        "\n",
        "print('Rainfall el ruido esta entre los valores {} y {}'.format(puntomin, puntomax))\n",
        "print('El rango IQR es:', IQR1)\n",
        "##El ruido arranca desde >2.4"
      ]
    },
    {
      "cell_type": "code",
      "execution_count": 22,
      "metadata": {
        "colab": {
          "base_uri": "https://localhost:8080/"
        },
        "id": "k8JNNeSn53Dl",
        "outputId": "bf0fab2f-4d63-4d11-dc17-5a5f472f0828"
      },
      "outputs": [
        {
          "name": "stdout",
          "output_type": "stream",
          "text": [
            "Evaporation el ruido esta entre los valores 0.39999999999999947 y 8.8\n",
            "El rango IQR es: 1.2000000000000002\n"
          ]
        }
      ],
      "source": [
        "IQR2 = dataN.Evaporation.quantile(0.75)- dataN.Evaporation.quantile(0.25)\n",
        "puntomin = dataN.Evaporation.quantile(0.25) - (IQR2*3)\n",
        "puntomax = dataN.Evaporation.quantile(0.75) + (IQR2*3)\n",
        "\n",
        "print('Evaporation el ruido esta entre los valores {} y {}'.format(puntomin, puntomax))\n",
        "print('El rango IQR es:', IQR2)"
      ]
    },
    {
      "cell_type": "code",
      "execution_count": 23,
      "metadata": {
        "colab": {
          "base_uri": "https://localhost:8080/"
        },
        "id": "kzUBjsI559JN",
        "outputId": "37046370-4896-40ea-cc61-80384d53cf3d"
      },
      "outputs": [
        {
          "name": "stdout",
          "output_type": "stream",
          "text": [
            "WindSpeed9am el ruido esta entre los valores -29.0 y 55.0\n",
            "El rango IQR es: 12.0\n"
          ]
        }
      ],
      "source": [
        "IQR3 = dataN.WindSpeed9am.quantile(0.75)- dataN.WindSpeed9am.quantile(0.25)\n",
        "puntomin = dataN.WindSpeed9am.quantile(0.25) - (IQR3*3)\n",
        "puntomax = dataN.WindSpeed9am.quantile(0.75) + (IQR3*3)\n",
        "\n",
        "print('WindSpeed9am el ruido esta entre los valores {} y {}'.format(puntomin, puntomax))\n",
        "print('El rango IQR es:', IQR3)\n"
      ]
    },
    {
      "cell_type": "code",
      "execution_count": 24,
      "metadata": {
        "colab": {
          "base_uri": "https://localhost:8080/"
        },
        "id": "mjh7o1hG6EP4",
        "outputId": "92389f07-e97f-48dc-91cf-ad2d2693caca"
      },
      "outputs": [
        {
          "name": "stdout",
          "output_type": "stream",
          "text": [
            "WindSpeed3pm el ruido esta entre los valores -20.0 y 57.0\n",
            "El rango IQR es: 11.0\n"
          ]
        }
      ],
      "source": [
        "IQR4 = dataN.WindSpeed3pm.quantile(0.75)- dataN.WindSpeed3pm.quantile(0.25)\n",
        "puntomin = dataN.WindSpeed3pm.quantile(0.25) - (IQR4*3)\n",
        "puntomax = dataN.WindSpeed3pm.quantile(0.75) + (IQR4*3)\n",
        "\n",
        "##df['Age'] = np.where(df['Age']>57.0,IQR,df['Age'] )\n",
        "\n",
        "print('WindSpeed3pm el ruido esta entre los valores {} y {}'.format(puntomin, puntomax))\n",
        "print('El rango IQR es:', IQR4)"
      ]
    },
    {
      "cell_type": "markdown",
      "metadata": {
        "id": "D8YCXcOx7jbh"
      },
      "source": [
        "### Eliminación del Ruido"
      ]
    },
    {
      "cell_type": "code",
      "execution_count": 25,
      "metadata": {
        "id": "dhtnI9Uz9MIH"
      },
      "outputs": [],
      "source": [
        "##Particiones X y\n",
        "X= dataN.drop(['RainTomorrow'], axis=1)\n",
        "y= dataN['RainTomorrow']"
      ]
    },
    {
      "cell_type": "code",
      "execution_count": 26,
      "metadata": {
        "colab": {
          "base_uri": "https://localhost:8080/"
        },
        "id": "reW0P7IpP1Cr",
        "outputId": "684cf314-b5f5-41a7-dc30-ac1b6896c2d2"
      },
      "outputs": [
        {
          "data": {
            "text/plain": [
              "count    145460.000000\n",
              "mean          0.219146\n",
              "std           0.413669\n",
              "min           0.000000\n",
              "25%           0.000000\n",
              "50%           0.000000\n",
              "75%           0.000000\n",
              "max           1.000000\n",
              "Name: RainTomorrow, dtype: float64"
            ]
          },
          "execution_count": 26,
          "metadata": {},
          "output_type": "execute_result"
        }
      ],
      "source": [
        "y.describe()"
      ]
    },
    {
      "cell_type": "code",
      "execution_count": 27,
      "metadata": {
        "id": "M6Ct61LG9Pnx"
      },
      "outputs": [],
      "source": [
        "##Particiones X_train, X_test, y_train, y_test\n",
        "\n",
        "from sklearn.model_selection import train_test_split\n",
        "\n",
        "X_train, X_test, y_train, y_test = train_test_split(X, y, test_size=0.20, random_state=42)"
      ]
    },
    {
      "cell_type": "code",
      "execution_count": 28,
      "metadata": {
        "colab": {
          "base_uri": "https://localhost:8080/"
        },
        "id": "o5mbz3DW9QDd",
        "outputId": "78f30a88-2c58-4fae-97c7-0d53ff16d79d"
      },
      "outputs": [
        {
          "data": {
            "text/plain": [
              "[]"
            ]
          },
          "execution_count": 28,
          "metadata": {},
          "output_type": "execute_result"
        }
      ],
      "source": [
        "###Filtros\n",
        "categoricos = [i for i in X_train.columns if X_train[i].dtype=='O']\n",
        "\n",
        "categoricos"
      ]
    },
    {
      "cell_type": "code",
      "execution_count": 29,
      "metadata": {
        "colab": {
          "base_uri": "https://localhost:8080/"
        },
        "id": "QpFSdSHF9RiM",
        "outputId": "48ebc793-447f-4093-eb94-62a21de42e6d"
      },
      "outputs": [
        {
          "data": {
            "text/plain": [
              "['MinTemp',\n",
              " 'MaxTemp',\n",
              " 'Rainfall',\n",
              " 'Evaporation',\n",
              " 'Sunshine',\n",
              " 'WindGustDir',\n",
              " 'WindGustSpeed',\n",
              " 'WindDir9am',\n",
              " 'WindDir3pm',\n",
              " 'WindSpeed9am',\n",
              " 'WindSpeed3pm',\n",
              " 'Humidity9am',\n",
              " 'Humidity3pm',\n",
              " 'Pressure9am',\n",
              " 'Pressure3pm',\n",
              " 'Cloud9am',\n",
              " 'Cloud3pm',\n",
              " 'Temp9am',\n",
              " 'Temp3pm',\n",
              " 'RainToday',\n",
              " 'Adelaide',\n",
              " 'Albany',\n",
              " 'Albury',\n",
              " 'AliceSprings',\n",
              " 'BadgerysCreek',\n",
              " 'Ballarat',\n",
              " 'Bendigo',\n",
              " 'Brisbane',\n",
              " 'Cairns',\n",
              " 'Canberra',\n",
              " 'Cobar',\n",
              " 'CoffsHarbour',\n",
              " 'Dartmoor',\n",
              " 'Darwin',\n",
              " 'GoldCoast',\n",
              " 'Hobart',\n",
              " 'Katherine',\n",
              " 'Launceston',\n",
              " 'Melbourne',\n",
              " 'MelbourneAirport',\n",
              " 'Mildura',\n",
              " 'Moree',\n",
              " 'MountGambier',\n",
              " 'MountGinini',\n",
              " 'Newcastle',\n",
              " 'Nhil',\n",
              " 'NorahHead',\n",
              " 'NorfolkIsland',\n",
              " 'Nuriootpa',\n",
              " 'PearceRAAF',\n",
              " 'Penrith',\n",
              " 'Perth',\n",
              " 'PerthAirport',\n",
              " 'Portland',\n",
              " 'Richmond',\n",
              " 'Sale',\n",
              " 'SalmonGums',\n",
              " 'Sydney',\n",
              " 'SydneyAirport',\n",
              " 'Townsville',\n",
              " 'Tuggeranong',\n",
              " 'Uluru',\n",
              " 'WaggaWagga',\n",
              " 'Walpole',\n",
              " 'Watsonia',\n",
              " 'Williamtown',\n",
              " 'Witchcliffe',\n",
              " 'Wollongong',\n",
              " 'Woomera']"
            ]
          },
          "execution_count": 29,
          "metadata": {},
          "output_type": "execute_result"
        }
      ],
      "source": [
        "numericos = [i for i in X_train.columns if X_train[i].dtype!='O']\n",
        "\n",
        "numericos"
      ]
    },
    {
      "cell_type": "code",
      "execution_count": 30,
      "metadata": {
        "id": "duFwtRxD9sH8"
      },
      "outputs": [],
      "source": [
        "### Rain today - Category encoders - pip install category_encoders\n",
        "##pip install category_encoders\n",
        "#import category_encoders as ce\n",
        "\n",
        "#encoder = ce.BinaryEncoder(cols=['RainToday'])\n",
        "\n",
        "#X_train = encoder.fit_transform(X_train)\n",
        "\n",
        "#X_test = encoder.fit_transform(X_test)\n",
        "\n",
        "#X_train.head()"
      ]
    },
    {
      "cell_type": "code",
      "execution_count": 31,
      "metadata": {
        "id": "NuT5xZ8Z_Yvp"
      },
      "outputs": [],
      "source": [
        "###Normalizar\n",
        "columnas = X_train.columns\n",
        "\n",
        "from sklearn.preprocessing import MinMaxScaler\n",
        "\n",
        "scaler = MinMaxScaler()\n",
        "\n",
        "X_train = scaler.fit_transform(X_train)\n",
        "\n",
        "X_test = scaler.fit_transform(X_test)"
      ]
    },
    {
      "cell_type": "code",
      "execution_count": 32,
      "metadata": {
        "id": "C2RQ1CkQ_jIQ"
      },
      "outputs": [],
      "source": [
        "##Agregar nombres de columnas\n",
        "X_train = pd.DataFrame(X_train, columns=[columnas])\n",
        "X_test = pd.DataFrame(X_test, columns=[columnas])"
      ]
    },
    {
      "cell_type": "code",
      "execution_count": 33,
      "metadata": {
        "colab": {
          "base_uri": "https://localhost:8080/",
          "height": 394
        },
        "id": "SG_38Mms_kaN",
        "outputId": "030912f7-2b6f-42d3-829d-0f360028c25b"
      },
      "outputs": [
        {
          "data": {
            "text/html": [
              "<div>\n",
              "<style scoped>\n",
              "    .dataframe tbody tr th:only-of-type {\n",
              "        vertical-align: middle;\n",
              "    }\n",
              "\n",
              "    .dataframe tbody tr th {\n",
              "        vertical-align: top;\n",
              "    }\n",
              "\n",
              "    .dataframe thead tr th {\n",
              "        text-align: left;\n",
              "    }\n",
              "</style>\n",
              "<table border=\"1\" class=\"dataframe\">\n",
              "  <thead>\n",
              "    <tr>\n",
              "      <th></th>\n",
              "      <th>MinTemp</th>\n",
              "      <th>MaxTemp</th>\n",
              "      <th>Rainfall</th>\n",
              "      <th>Evaporation</th>\n",
              "      <th>Sunshine</th>\n",
              "      <th>WindGustDir</th>\n",
              "      <th>WindGustSpeed</th>\n",
              "      <th>WindDir9am</th>\n",
              "      <th>WindDir3pm</th>\n",
              "      <th>WindSpeed9am</th>\n",
              "      <th>...</th>\n",
              "      <th>Townsville</th>\n",
              "      <th>Tuggeranong</th>\n",
              "      <th>Uluru</th>\n",
              "      <th>WaggaWagga</th>\n",
              "      <th>Walpole</th>\n",
              "      <th>Watsonia</th>\n",
              "      <th>Williamtown</th>\n",
              "      <th>Witchcliffe</th>\n",
              "      <th>Wollongong</th>\n",
              "      <th>Woomera</th>\n",
              "    </tr>\n",
              "  </thead>\n",
              "  <tbody>\n",
              "    <tr>\n",
              "      <th>count</th>\n",
              "      <td>29092.000000</td>\n",
              "      <td>29092.000000</td>\n",
              "      <td>29092.000000</td>\n",
              "      <td>29092.000000</td>\n",
              "      <td>29092.000000</td>\n",
              "      <td>29092.000000</td>\n",
              "      <td>29092.000000</td>\n",
              "      <td>29092.000000</td>\n",
              "      <td>29092.000000</td>\n",
              "      <td>29092.000000</td>\n",
              "      <td>...</td>\n",
              "      <td>29092.000000</td>\n",
              "      <td>29092.000000</td>\n",
              "      <td>29092.000000</td>\n",
              "      <td>29092.000000</td>\n",
              "      <td>29092.000000</td>\n",
              "      <td>29092.000000</td>\n",
              "      <td>29092.000000</td>\n",
              "      <td>29092.000000</td>\n",
              "      <td>29092.000000</td>\n",
              "      <td>29092.000000</td>\n",
              "    </tr>\n",
              "    <tr>\n",
              "      <th>mean</th>\n",
              "      <td>0.481621</td>\n",
              "      <td>0.519747</td>\n",
              "      <td>0.006087</td>\n",
              "      <td>0.075419</td>\n",
              "      <td>0.558331</td>\n",
              "      <td>0.579762</td>\n",
              "      <td>0.257491</td>\n",
              "      <td>0.494078</td>\n",
              "      <td>0.557105</td>\n",
              "      <td>0.160874</td>\n",
              "      <td>...</td>\n",
              "      <td>0.021037</td>\n",
              "      <td>0.020384</td>\n",
              "      <td>0.011034</td>\n",
              "      <td>0.021174</td>\n",
              "      <td>0.021174</td>\n",
              "      <td>0.021415</td>\n",
              "      <td>0.021277</td>\n",
              "      <td>0.020384</td>\n",
              "      <td>0.020968</td>\n",
              "      <td>0.021243</td>\n",
              "    </tr>\n",
              "    <tr>\n",
              "      <th>std</th>\n",
              "      <td>0.151785</td>\n",
              "      <td>0.136934</td>\n",
              "      <td>0.022170</td>\n",
              "      <td>0.046267</td>\n",
              "      <td>0.193397</td>\n",
              "      <td>0.303148</td>\n",
              "      <td>0.101766</td>\n",
              "      <td>0.294031</td>\n",
              "      <td>0.281463</td>\n",
              "      <td>0.101699</td>\n",
              "      <td>...</td>\n",
              "      <td>0.143509</td>\n",
              "      <td>0.141311</td>\n",
              "      <td>0.104463</td>\n",
              "      <td>0.143967</td>\n",
              "      <td>0.143967</td>\n",
              "      <td>0.144765</td>\n",
              "      <td>0.144310</td>\n",
              "      <td>0.141311</td>\n",
              "      <td>0.143279</td>\n",
              "      <td>0.144196</td>\n",
              "    </tr>\n",
              "    <tr>\n",
              "      <th>min</th>\n",
              "      <td>0.000000</td>\n",
              "      <td>0.000000</td>\n",
              "      <td>0.000000</td>\n",
              "      <td>0.000000</td>\n",
              "      <td>0.000000</td>\n",
              "      <td>0.000000</td>\n",
              "      <td>0.000000</td>\n",
              "      <td>0.000000</td>\n",
              "      <td>0.000000</td>\n",
              "      <td>0.000000</td>\n",
              "      <td>...</td>\n",
              "      <td>0.000000</td>\n",
              "      <td>0.000000</td>\n",
              "      <td>0.000000</td>\n",
              "      <td>0.000000</td>\n",
              "      <td>0.000000</td>\n",
              "      <td>0.000000</td>\n",
              "      <td>0.000000</td>\n",
              "      <td>0.000000</td>\n",
              "      <td>0.000000</td>\n",
              "      <td>0.000000</td>\n",
              "    </tr>\n",
              "    <tr>\n",
              "      <th>25%</th>\n",
              "      <td>0.372315</td>\n",
              "      <td>0.418919</td>\n",
              "      <td>0.000000</td>\n",
              "      <td>0.058140</td>\n",
              "      <td>0.573427</td>\n",
              "      <td>0.285714</td>\n",
              "      <td>0.187500</td>\n",
              "      <td>0.285714</td>\n",
              "      <td>0.285714</td>\n",
              "      <td>0.080460</td>\n",
              "      <td>...</td>\n",
              "      <td>0.000000</td>\n",
              "      <td>0.000000</td>\n",
              "      <td>0.000000</td>\n",
              "      <td>0.000000</td>\n",
              "      <td>0.000000</td>\n",
              "      <td>0.000000</td>\n",
              "      <td>0.000000</td>\n",
              "      <td>0.000000</td>\n",
              "      <td>0.000000</td>\n",
              "      <td>0.000000</td>\n",
              "    </tr>\n",
              "    <tr>\n",
              "      <th>50%</th>\n",
              "      <td>0.477327</td>\n",
              "      <td>0.507722</td>\n",
              "      <td>0.000000</td>\n",
              "      <td>0.069767</td>\n",
              "      <td>0.587413</td>\n",
              "      <td>0.714286</td>\n",
              "      <td>0.250000</td>\n",
              "      <td>0.428571</td>\n",
              "      <td>0.571429</td>\n",
              "      <td>0.149425</td>\n",
              "      <td>...</td>\n",
              "      <td>0.000000</td>\n",
              "      <td>0.000000</td>\n",
              "      <td>0.000000</td>\n",
              "      <td>0.000000</td>\n",
              "      <td>0.000000</td>\n",
              "      <td>0.000000</td>\n",
              "      <td>0.000000</td>\n",
              "      <td>0.000000</td>\n",
              "      <td>0.000000</td>\n",
              "      <td>0.000000</td>\n",
              "    </tr>\n",
              "    <tr>\n",
              "      <th>75%</th>\n",
              "      <td>0.591885</td>\n",
              "      <td>0.615830</td>\n",
              "      <td>0.001632</td>\n",
              "      <td>0.078488</td>\n",
              "      <td>0.608392</td>\n",
              "      <td>0.857143</td>\n",
              "      <td>0.304688</td>\n",
              "      <td>0.714286</td>\n",
              "      <td>0.857143</td>\n",
              "      <td>0.218391</td>\n",
              "      <td>...</td>\n",
              "      <td>0.000000</td>\n",
              "      <td>0.000000</td>\n",
              "      <td>0.000000</td>\n",
              "      <td>0.000000</td>\n",
              "      <td>0.000000</td>\n",
              "      <td>0.000000</td>\n",
              "      <td>0.000000</td>\n",
              "      <td>0.000000</td>\n",
              "      <td>0.000000</td>\n",
              "      <td>0.000000</td>\n",
              "    </tr>\n",
              "    <tr>\n",
              "      <th>max</th>\n",
              "      <td>1.000000</td>\n",
              "      <td>1.000000</td>\n",
              "      <td>1.000000</td>\n",
              "      <td>1.000000</td>\n",
              "      <td>1.000000</td>\n",
              "      <td>1.000000</td>\n",
              "      <td>1.000000</td>\n",
              "      <td>1.000000</td>\n",
              "      <td>1.000000</td>\n",
              "      <td>1.000000</td>\n",
              "      <td>...</td>\n",
              "      <td>1.000000</td>\n",
              "      <td>1.000000</td>\n",
              "      <td>1.000000</td>\n",
              "      <td>1.000000</td>\n",
              "      <td>1.000000</td>\n",
              "      <td>1.000000</td>\n",
              "      <td>1.000000</td>\n",
              "      <td>1.000000</td>\n",
              "      <td>1.000000</td>\n",
              "      <td>1.000000</td>\n",
              "    </tr>\n",
              "  </tbody>\n",
              "</table>\n",
              "<p>8 rows × 69 columns</p>\n",
              "</div>"
            ],
            "text/plain": [
              "            MinTemp       MaxTemp      Rainfall   Evaporation      Sunshine   \n",
              "count  29092.000000  29092.000000  29092.000000  29092.000000  29092.000000  \\\n",
              "mean       0.481621      0.519747      0.006087      0.075419      0.558331   \n",
              "std        0.151785      0.136934      0.022170      0.046267      0.193397   \n",
              "min        0.000000      0.000000      0.000000      0.000000      0.000000   \n",
              "25%        0.372315      0.418919      0.000000      0.058140      0.573427   \n",
              "50%        0.477327      0.507722      0.000000      0.069767      0.587413   \n",
              "75%        0.591885      0.615830      0.001632      0.078488      0.608392   \n",
              "max        1.000000      1.000000      1.000000      1.000000      1.000000   \n",
              "\n",
              "        WindGustDir WindGustSpeed    WindDir9am    WindDir3pm  WindSpeed9am   \n",
              "count  29092.000000  29092.000000  29092.000000  29092.000000  29092.000000  \\\n",
              "mean       0.579762      0.257491      0.494078      0.557105      0.160874   \n",
              "std        0.303148      0.101766      0.294031      0.281463      0.101699   \n",
              "min        0.000000      0.000000      0.000000      0.000000      0.000000   \n",
              "25%        0.285714      0.187500      0.285714      0.285714      0.080460   \n",
              "50%        0.714286      0.250000      0.428571      0.571429      0.149425   \n",
              "75%        0.857143      0.304688      0.714286      0.857143      0.218391   \n",
              "max        1.000000      1.000000      1.000000      1.000000      1.000000   \n",
              "\n",
              "       ...    Townsville   Tuggeranong         Uluru    WaggaWagga   \n",
              "count  ...  29092.000000  29092.000000  29092.000000  29092.000000  \\\n",
              "mean   ...      0.021037      0.020384      0.011034      0.021174   \n",
              "std    ...      0.143509      0.141311      0.104463      0.143967   \n",
              "min    ...      0.000000      0.000000      0.000000      0.000000   \n",
              "25%    ...      0.000000      0.000000      0.000000      0.000000   \n",
              "50%    ...      0.000000      0.000000      0.000000      0.000000   \n",
              "75%    ...      0.000000      0.000000      0.000000      0.000000   \n",
              "max    ...      1.000000      1.000000      1.000000      1.000000   \n",
              "\n",
              "            Walpole      Watsonia   Williamtown   Witchcliffe    Wollongong   \n",
              "count  29092.000000  29092.000000  29092.000000  29092.000000  29092.000000  \\\n",
              "mean       0.021174      0.021415      0.021277      0.020384      0.020968   \n",
              "std        0.143967      0.144765      0.144310      0.141311      0.143279   \n",
              "min        0.000000      0.000000      0.000000      0.000000      0.000000   \n",
              "25%        0.000000      0.000000      0.000000      0.000000      0.000000   \n",
              "50%        0.000000      0.000000      0.000000      0.000000      0.000000   \n",
              "75%        0.000000      0.000000      0.000000      0.000000      0.000000   \n",
              "max        1.000000      1.000000      1.000000      1.000000      1.000000   \n",
              "\n",
              "            Woomera  \n",
              "count  29092.000000  \n",
              "mean       0.021243  \n",
              "std        0.144196  \n",
              "min        0.000000  \n",
              "25%        0.000000  \n",
              "50%        0.000000  \n",
              "75%        0.000000  \n",
              "max        1.000000  \n",
              "\n",
              "[8 rows x 69 columns]"
            ]
          },
          "execution_count": 33,
          "metadata": {},
          "output_type": "execute_result"
        }
      ],
      "source": [
        "##Agregar métricas\n",
        "X_test.describe()"
      ]
    },
    {
      "cell_type": "code",
      "execution_count": 34,
      "metadata": {
        "id": "xJptXtX__2gZ"
      },
      "outputs": [],
      "source": [
        "###Revisión de Y - y_train, y_test\n",
        "y_train.fillna(y_train.mode()[0], inplace=True)\n",
        "y_test.fillna(y_test.mode()[0], inplace=True)\n"
      ]
    },
    {
      "cell_type": "markdown",
      "metadata": {
        "id": "jt7T3H28_4AJ"
      },
      "source": [
        "### Modelo Uno"
      ]
    },
    {
      "cell_type": "code",
      "execution_count": 35,
      "metadata": {
        "colab": {
          "base_uri": "https://localhost:8080/",
          "height": 75
        },
        "id": "gzPjx1SV_5IJ",
        "outputId": "36e0baeb-52f7-4caa-ed93-4529df827b42"
      },
      "outputs": [
        {
          "data": {
            "text/html": [
              "<style>#sk-container-id-1 {color: black;background-color: white;}#sk-container-id-1 pre{padding: 0;}#sk-container-id-1 div.sk-toggleable {background-color: white;}#sk-container-id-1 label.sk-toggleable__label {cursor: pointer;display: block;width: 100%;margin-bottom: 0;padding: 0.3em;box-sizing: border-box;text-align: center;}#sk-container-id-1 label.sk-toggleable__label-arrow:before {content: \"▸\";float: left;margin-right: 0.25em;color: #696969;}#sk-container-id-1 label.sk-toggleable__label-arrow:hover:before {color: black;}#sk-container-id-1 div.sk-estimator:hover label.sk-toggleable__label-arrow:before {color: black;}#sk-container-id-1 div.sk-toggleable__content {max-height: 0;max-width: 0;overflow: hidden;text-align: left;background-color: #f0f8ff;}#sk-container-id-1 div.sk-toggleable__content pre {margin: 0.2em;color: black;border-radius: 0.25em;background-color: #f0f8ff;}#sk-container-id-1 input.sk-toggleable__control:checked~div.sk-toggleable__content {max-height: 200px;max-width: 100%;overflow: auto;}#sk-container-id-1 input.sk-toggleable__control:checked~label.sk-toggleable__label-arrow:before {content: \"▾\";}#sk-container-id-1 div.sk-estimator input.sk-toggleable__control:checked~label.sk-toggleable__label {background-color: #d4ebff;}#sk-container-id-1 div.sk-label input.sk-toggleable__control:checked~label.sk-toggleable__label {background-color: #d4ebff;}#sk-container-id-1 input.sk-hidden--visually {border: 0;clip: rect(1px 1px 1px 1px);clip: rect(1px, 1px, 1px, 1px);height: 1px;margin: -1px;overflow: hidden;padding: 0;position: absolute;width: 1px;}#sk-container-id-1 div.sk-estimator {font-family: monospace;background-color: #f0f8ff;border: 1px dotted black;border-radius: 0.25em;box-sizing: border-box;margin-bottom: 0.5em;}#sk-container-id-1 div.sk-estimator:hover {background-color: #d4ebff;}#sk-container-id-1 div.sk-parallel-item::after {content: \"\";width: 100%;border-bottom: 1px solid gray;flex-grow: 1;}#sk-container-id-1 div.sk-label:hover label.sk-toggleable__label {background-color: #d4ebff;}#sk-container-id-1 div.sk-serial::before {content: \"\";position: absolute;border-left: 1px solid gray;box-sizing: border-box;top: 0;bottom: 0;left: 50%;z-index: 0;}#sk-container-id-1 div.sk-serial {display: flex;flex-direction: column;align-items: center;background-color: white;padding-right: 0.2em;padding-left: 0.2em;position: relative;}#sk-container-id-1 div.sk-item {position: relative;z-index: 1;}#sk-container-id-1 div.sk-parallel {display: flex;align-items: stretch;justify-content: center;background-color: white;position: relative;}#sk-container-id-1 div.sk-item::before, #sk-container-id-1 div.sk-parallel-item::before {content: \"\";position: absolute;border-left: 1px solid gray;box-sizing: border-box;top: 0;bottom: 0;left: 50%;z-index: -1;}#sk-container-id-1 div.sk-parallel-item {display: flex;flex-direction: column;z-index: 1;position: relative;background-color: white;}#sk-container-id-1 div.sk-parallel-item:first-child::after {align-self: flex-end;width: 50%;}#sk-container-id-1 div.sk-parallel-item:last-child::after {align-self: flex-start;width: 50%;}#sk-container-id-1 div.sk-parallel-item:only-child::after {width: 0;}#sk-container-id-1 div.sk-dashed-wrapped {border: 1px dashed gray;margin: 0 0.4em 0.5em 0.4em;box-sizing: border-box;padding-bottom: 0.4em;background-color: white;}#sk-container-id-1 div.sk-label label {font-family: monospace;font-weight: bold;display: inline-block;line-height: 1.2em;}#sk-container-id-1 div.sk-label-container {text-align: center;}#sk-container-id-1 div.sk-container {/* jupyter's `normalize.less` sets `[hidden] { display: none; }` but bootstrap.min.css set `[hidden] { display: none !important; }` so we also need the `!important` here to be able to override the default hidden behavior on the sphinx rendered scikit-learn.org. See: https://github.com/scikit-learn/scikit-learn/issues/21755 */display: inline-block !important;position: relative;}#sk-container-id-1 div.sk-text-repr-fallback {display: none;}</style><div id=\"sk-container-id-1\" class=\"sk-top-container\"><div class=\"sk-text-repr-fallback\"><pre>LogisticRegression(random_state=42, solver=&#x27;liblinear&#x27;)</pre><b>In a Jupyter environment, please rerun this cell to show the HTML representation or trust the notebook. <br />On GitHub, the HTML representation is unable to render, please try loading this page with nbviewer.org.</b></div><div class=\"sk-container\" hidden><div class=\"sk-item\"><div class=\"sk-estimator sk-toggleable\"><input class=\"sk-toggleable__control sk-hidden--visually\" id=\"sk-estimator-id-1\" type=\"checkbox\" checked><label for=\"sk-estimator-id-1\" class=\"sk-toggleable__label sk-toggleable__label-arrow\">LogisticRegression</label><div class=\"sk-toggleable__content\"><pre>LogisticRegression(random_state=42, solver=&#x27;liblinear&#x27;)</pre></div></div></div></div></div>"
            ],
            "text/plain": [
              "LogisticRegression(random_state=42, solver='liblinear')"
            ]
          },
          "execution_count": 35,
          "metadata": {},
          "output_type": "execute_result"
        }
      ],
      "source": [
        "from sklearn.linear_model import LogisticRegression\n",
        "\n",
        "reglog1 = LogisticRegression(solver='liblinear', random_state=42)\n",
        "\n",
        "reglog1.fit(X_train, y_train)"
      ]
    },
    {
      "cell_type": "code",
      "execution_count": 36,
      "metadata": {
        "colab": {
          "base_uri": "https://localhost:8080/"
        },
        "id": "j2QVTgsw_8M5",
        "outputId": "10e9758a-7cc1-47c1-e842-f2991a03b553"
      },
      "outputs": [
        {
          "data": {
            "text/plain": [
              "array([1, 0, 0, ..., 0, 0, 0])"
            ]
          },
          "execution_count": 36,
          "metadata": {},
          "output_type": "execute_result"
        }
      ],
      "source": [
        "y_pred_test = reglog1.predict(X_test)\n",
        "\n",
        "y_pred_test"
      ]
    },
    {
      "cell_type": "code",
      "execution_count": 37,
      "metadata": {
        "colab": {
          "base_uri": "https://localhost:8080/"
        },
        "id": "1pEGVcTP_-Th",
        "outputId": "9f35958c-0901-458c-8075-b332de83ca76"
      },
      "outputs": [
        {
          "data": {
            "text/plain": [
              "array([0.45482147, 0.98896772, 0.83523874, ..., 0.91068616, 0.76853167,\n",
              "       0.89024887])"
            ]
          },
          "execution_count": 37,
          "metadata": {},
          "output_type": "execute_result"
        }
      ],
      "source": [
        "##Probabilidad de que no llueva mañana corresponde a cero \n",
        "reglog1.predict_proba(X_test)[:,0]"
      ]
    },
    {
      "cell_type": "code",
      "execution_count": 38,
      "metadata": {
        "colab": {
          "base_uri": "https://localhost:8080/"
        },
        "id": "0nn_c_QzAA35",
        "outputId": "6fe8a67e-a168-4240-f1be-8e03081d5c0e"
      },
      "outputs": [
        {
          "data": {
            "text/plain": [
              "array([0.54517853, 0.01103228, 0.16476126, ..., 0.08931384, 0.23146833,\n",
              "       0.10975113])"
            ]
          },
          "execution_count": 38,
          "metadata": {},
          "output_type": "execute_result"
        }
      ],
      "source": [
        "##Probabilidad de que llueva mañana corresponde a uno\n",
        "reglog1.predict_proba(X_test)[:,1]"
      ]
    },
    {
      "cell_type": "code",
      "execution_count": 39,
      "metadata": {
        "colab": {
          "base_uri": "https://localhost:8080/"
        },
        "id": "UlbFWlD5AGju",
        "outputId": "16b60297-5f6f-44a1-b52e-f3133da16766"
      },
      "outputs": [
        {
          "name": "stdout",
          "output_type": "stream",
          "text": [
            "La eficiencia del modelo de manera general es: 0.8433\n"
          ]
        }
      ],
      "source": [
        "###Eficiencia del modelo con testeo\n",
        "from sklearn.metrics import accuracy_score\n",
        "\n",
        "print(\"La eficiencia del modelo de manera general es: {0:0.4f}\".format(accuracy_score(y_test, y_pred_test)))"
      ]
    },
    {
      "cell_type": "code",
      "execution_count": 40,
      "metadata": {
        "colab": {
          "base_uri": "https://localhost:8080/"
        },
        "id": "-7auiuHTAIpT",
        "outputId": "25b71aad-81c3-4beb-fe20-35f7531e55d2"
      },
      "outputs": [
        {
          "data": {
            "text/plain": [
              "array([0, 0, 0, ..., 0, 1, 0])"
            ]
          },
          "execution_count": 40,
          "metadata": {},
          "output_type": "execute_result"
        }
      ],
      "source": [
        "y_pred_train = reglog1.predict(X_train)\n",
        "\n",
        "y_pred_train"
      ]
    },
    {
      "cell_type": "code",
      "execution_count": 41,
      "metadata": {
        "colab": {
          "base_uri": "https://localhost:8080/"
        },
        "id": "9CLX5-daAKss",
        "outputId": "e5c73930-c481-4104-cf1e-96cfae0cff17"
      },
      "outputs": [
        {
          "name": "stdout",
          "output_type": "stream",
          "text": [
            "La eficiencia del modelo de manera general es: 0.8484\n"
          ]
        }
      ],
      "source": [
        "print(\"La eficiencia del modelo de manera general es: {0:0.4f}\".format(accuracy_score(y_train, y_pred_train)))"
      ]
    },
    {
      "cell_type": "code",
      "execution_count": 42,
      "metadata": {
        "colab": {
          "base_uri": "https://localhost:8080/",
          "height": 75
        },
        "id": "9VGm5W0OAO01",
        "outputId": "30eeb8d1-aeec-4bcd-d0e2-841b8549fa87"
      },
      "outputs": [
        {
          "data": {
            "text/html": [
              "<style>#sk-container-id-2 {color: black;background-color: white;}#sk-container-id-2 pre{padding: 0;}#sk-container-id-2 div.sk-toggleable {background-color: white;}#sk-container-id-2 label.sk-toggleable__label {cursor: pointer;display: block;width: 100%;margin-bottom: 0;padding: 0.3em;box-sizing: border-box;text-align: center;}#sk-container-id-2 label.sk-toggleable__label-arrow:before {content: \"▸\";float: left;margin-right: 0.25em;color: #696969;}#sk-container-id-2 label.sk-toggleable__label-arrow:hover:before {color: black;}#sk-container-id-2 div.sk-estimator:hover label.sk-toggleable__label-arrow:before {color: black;}#sk-container-id-2 div.sk-toggleable__content {max-height: 0;max-width: 0;overflow: hidden;text-align: left;background-color: #f0f8ff;}#sk-container-id-2 div.sk-toggleable__content pre {margin: 0.2em;color: black;border-radius: 0.25em;background-color: #f0f8ff;}#sk-container-id-2 input.sk-toggleable__control:checked~div.sk-toggleable__content {max-height: 200px;max-width: 100%;overflow: auto;}#sk-container-id-2 input.sk-toggleable__control:checked~label.sk-toggleable__label-arrow:before {content: \"▾\";}#sk-container-id-2 div.sk-estimator input.sk-toggleable__control:checked~label.sk-toggleable__label {background-color: #d4ebff;}#sk-container-id-2 div.sk-label input.sk-toggleable__control:checked~label.sk-toggleable__label {background-color: #d4ebff;}#sk-container-id-2 input.sk-hidden--visually {border: 0;clip: rect(1px 1px 1px 1px);clip: rect(1px, 1px, 1px, 1px);height: 1px;margin: -1px;overflow: hidden;padding: 0;position: absolute;width: 1px;}#sk-container-id-2 div.sk-estimator {font-family: monospace;background-color: #f0f8ff;border: 1px dotted black;border-radius: 0.25em;box-sizing: border-box;margin-bottom: 0.5em;}#sk-container-id-2 div.sk-estimator:hover {background-color: #d4ebff;}#sk-container-id-2 div.sk-parallel-item::after {content: \"\";width: 100%;border-bottom: 1px solid gray;flex-grow: 1;}#sk-container-id-2 div.sk-label:hover label.sk-toggleable__label {background-color: #d4ebff;}#sk-container-id-2 div.sk-serial::before {content: \"\";position: absolute;border-left: 1px solid gray;box-sizing: border-box;top: 0;bottom: 0;left: 50%;z-index: 0;}#sk-container-id-2 div.sk-serial {display: flex;flex-direction: column;align-items: center;background-color: white;padding-right: 0.2em;padding-left: 0.2em;position: relative;}#sk-container-id-2 div.sk-item {position: relative;z-index: 1;}#sk-container-id-2 div.sk-parallel {display: flex;align-items: stretch;justify-content: center;background-color: white;position: relative;}#sk-container-id-2 div.sk-item::before, #sk-container-id-2 div.sk-parallel-item::before {content: \"\";position: absolute;border-left: 1px solid gray;box-sizing: border-box;top: 0;bottom: 0;left: 50%;z-index: -1;}#sk-container-id-2 div.sk-parallel-item {display: flex;flex-direction: column;z-index: 1;position: relative;background-color: white;}#sk-container-id-2 div.sk-parallel-item:first-child::after {align-self: flex-end;width: 50%;}#sk-container-id-2 div.sk-parallel-item:last-child::after {align-self: flex-start;width: 50%;}#sk-container-id-2 div.sk-parallel-item:only-child::after {width: 0;}#sk-container-id-2 div.sk-dashed-wrapped {border: 1px dashed gray;margin: 0 0.4em 0.5em 0.4em;box-sizing: border-box;padding-bottom: 0.4em;background-color: white;}#sk-container-id-2 div.sk-label label {font-family: monospace;font-weight: bold;display: inline-block;line-height: 1.2em;}#sk-container-id-2 div.sk-label-container {text-align: center;}#sk-container-id-2 div.sk-container {/* jupyter's `normalize.less` sets `[hidden] { display: none; }` but bootstrap.min.css set `[hidden] { display: none !important; }` so we also need the `!important` here to be able to override the default hidden behavior on the sphinx rendered scikit-learn.org. See: https://github.com/scikit-learn/scikit-learn/issues/21755 */display: inline-block !important;position: relative;}#sk-container-id-2 div.sk-text-repr-fallback {display: none;}</style><div id=\"sk-container-id-2\" class=\"sk-top-container\"><div class=\"sk-text-repr-fallback\"><pre>LogisticRegression(C=100, random_state=42, solver=&#x27;liblinear&#x27;)</pre><b>In a Jupyter environment, please rerun this cell to show the HTML representation or trust the notebook. <br />On GitHub, the HTML representation is unable to render, please try loading this page with nbviewer.org.</b></div><div class=\"sk-container\" hidden><div class=\"sk-item\"><div class=\"sk-estimator sk-toggleable\"><input class=\"sk-toggleable__control sk-hidden--visually\" id=\"sk-estimator-id-2\" type=\"checkbox\" checked><label for=\"sk-estimator-id-2\" class=\"sk-toggleable__label sk-toggleable__label-arrow\">LogisticRegression</label><div class=\"sk-toggleable__content\"><pre>LogisticRegression(C=100, random_state=42, solver=&#x27;liblinear&#x27;)</pre></div></div></div></div></div>"
            ],
            "text/plain": [
              "LogisticRegression(C=100, random_state=42, solver='liblinear')"
            ]
          },
          "execution_count": 42,
          "metadata": {},
          "output_type": "execute_result"
        }
      ],
      "source": [
        "reglog2 = LogisticRegression(C=100 ,solver='liblinear', random_state=42)\n",
        "\n",
        "reglog2.fit(X_train, y_train)"
      ]
    },
    {
      "cell_type": "code",
      "execution_count": 43,
      "metadata": {
        "colab": {
          "base_uri": "https://localhost:8080/"
        },
        "id": "EPLuA4OSAj9k",
        "outputId": "637ff573-2b3e-4eea-d493-f34476e47636"
      },
      "outputs": [
        {
          "name": "stdout",
          "output_type": "stream",
          "text": [
            "La eficiencia del modelo de manera general es C100: 0.8484\n",
            "La eficiencia del modelo de manera general es C100: 0.8418\n"
          ]
        }
      ],
      "source": [
        "print(\"La eficiencia del modelo de manera general es C100: {:.4f}\".format(reglog2.score(X_train, y_train)))\n",
        "print(\"La eficiencia del modelo de manera general es C100: {:.4f}\".format(reglog2.score(X_test, y_test)))"
      ]
    },
    {
      "cell_type": "code",
      "execution_count": 44,
      "metadata": {
        "colab": {
          "base_uri": "https://localhost:8080/",
          "height": 447
        },
        "id": "O43pNEzoAkOl",
        "outputId": "5a57855a-648c-458c-ce5e-dd80a3883c8d"
      },
      "outputs": [
        {
          "data": {
            "text/plain": [
              "<Axes: >"
            ]
          },
          "execution_count": 44,
          "metadata": {},
          "output_type": "execute_result"
        },
        {
          "data": {
            "image/png": "[encoded data removed]",
            "text/plain": [
              "<Figure size 640x480 with 2 Axes>"
            ]
          },
          "metadata": {},
          "output_type": "display_data"
        }
      ],
      "source": [
        "##Hacer la gráfica a petición de Sergio :D\n",
        "##Métricas - Matriz de confusión\n",
        "from sklearn.metrics import confusion_matrix\n",
        "cm = confusion_matrix(y_test, y_pred_test)\n",
        "\n",
        "cm_matrix = pd.DataFrame(data=cm, columns=['Si Llueve Actual:1','No Llueve Actual:0'],\n",
        "                         index=['Si llueve Predecido:1','No llueve Predecido:0'])\n",
        "sns.heatmap(cm_matrix, annot=True, fmt='d', cmap='YlGnBu')"
      ]
    },
    {
      "cell_type": "code",
      "execution_count": 45,
      "metadata": {
        "colab": {
          "base_uri": "https://localhost:8080/"
        },
        "id": "Osjr_kpuDQ04",
        "outputId": "c730463d-1779-476d-bfa3-886609495398"
      },
      "outputs": [
        {
          "name": "stdout",
          "output_type": "stream",
          "text": [
            "              precision    recall  f1-score   support\n",
            "\n",
            "           0       0.85      0.97      0.91     22672\n",
            "           1       0.78      0.40      0.53      6420\n",
            "\n",
            "    accuracy                           0.84     29092\n",
            "   macro avg       0.82      0.69      0.72     29092\n",
            "weighted avg       0.84      0.84      0.82     29092\n",
            "\n"
          ]
        }
      ],
      "source": [
        "from sklearn.metrics import classification_report\n",
        "\n",
        "print(classification_report(y_test, y_pred_test))"
      ]
    },
    {
      "cell_type": "code",
      "execution_count": 46,
      "metadata": {
        "colab": {
          "base_uri": "https://localhost:8080/"
        },
        "id": "foj_bBtzDSJv",
        "outputId": "2ec88a1b-62a4-41dd-d7b8-5faf86baf95e"
      },
      "outputs": [
        {
          "data": {
            "text/plain": [
              "array([[0.45482147, 0.54517853],\n",
              "       [0.98896772, 0.01103228],\n",
              "       [0.83523874, 0.16476126],\n",
              "       [0.89409566, 0.10590434],\n",
              "       [0.62539263, 0.37460737],\n",
              "       [0.96789963, 0.03210037],\n",
              "       [0.98981536, 0.01018464],\n",
              "       [0.76764751, 0.23235249],\n",
              "       [0.80837108, 0.19162892],\n",
              "       [0.56077016, 0.43922984]])"
            ]
          },
          "execution_count": 46,
          "metadata": {},
          "output_type": "execute_result"
        }
      ],
      "source": [
        "###Probabilidades de las primeras 10 filas de llueva mañana o no\n",
        "y_pred_prob = reglog1.predict_proba(X_test)[0:10]\n",
        "\n",
        "y_pred_prob"
      ]
    },
    {
      "cell_type": "code",
      "execution_count": 47,
      "metadata": {
        "colab": {
          "base_uri": "https://localhost:8080/",
          "height": 363
        },
        "id": "u9asIAkUDTPg",
        "outputId": "d1d8795c-1637-437f-fc0f-63e56429f9e3"
      },
      "outputs": [
        {
          "data": {
            "text/html": [
              "<div>\n",
              "<style scoped>\n",
              "    .dataframe tbody tr th:only-of-type {\n",
              "        vertical-align: middle;\n",
              "    }\n",
              "\n",
              "    .dataframe tbody tr th {\n",
              "        vertical-align: top;\n",
              "    }\n",
              "\n",
              "    .dataframe thead th {\n",
              "        text-align: right;\n",
              "    }\n",
              "</style>\n",
              "<table border=\"1\" class=\"dataframe\">\n",
              "  <thead>\n",
              "    <tr style=\"text-align: right;\">\n",
              "      <th></th>\n",
              "      <th>Prob No Llueva (0)</th>\n",
              "      <th>Prob Llueva (1)</th>\n",
              "    </tr>\n",
              "  </thead>\n",
              "  <tbody>\n",
              "    <tr>\n",
              "      <th>0</th>\n",
              "      <td>0.454821</td>\n",
              "      <td>0.545179</td>\n",
              "    </tr>\n",
              "    <tr>\n",
              "      <th>1</th>\n",
              "      <td>0.988968</td>\n",
              "      <td>0.011032</td>\n",
              "    </tr>\n",
              "    <tr>\n",
              "      <th>2</th>\n",
              "      <td>0.835239</td>\n",
              "      <td>0.164761</td>\n",
              "    </tr>\n",
              "    <tr>\n",
              "      <th>3</th>\n",
              "      <td>0.894096</td>\n",
              "      <td>0.105904</td>\n",
              "    </tr>\n",
              "    <tr>\n",
              "      <th>4</th>\n",
              "      <td>0.625393</td>\n",
              "      <td>0.374607</td>\n",
              "    </tr>\n",
              "    <tr>\n",
              "      <th>5</th>\n",
              "      <td>0.967900</td>\n",
              "      <td>0.032100</td>\n",
              "    </tr>\n",
              "    <tr>\n",
              "      <th>6</th>\n",
              "      <td>0.989815</td>\n",
              "      <td>0.010185</td>\n",
              "    </tr>\n",
              "    <tr>\n",
              "      <th>7</th>\n",
              "      <td>0.767648</td>\n",
              "      <td>0.232352</td>\n",
              "    </tr>\n",
              "    <tr>\n",
              "      <th>8</th>\n",
              "      <td>0.808371</td>\n",
              "      <td>0.191629</td>\n",
              "    </tr>\n",
              "    <tr>\n",
              "      <th>9</th>\n",
              "      <td>0.560770</td>\n",
              "      <td>0.439230</td>\n",
              "    </tr>\n",
              "  </tbody>\n",
              "</table>\n",
              "</div>"
            ],
            "text/plain": [
              "   Prob No Llueva (0)  Prob Llueva (1)\n",
              "0            0.454821         0.545179\n",
              "1            0.988968         0.011032\n",
              "2            0.835239         0.164761\n",
              "3            0.894096         0.105904\n",
              "4            0.625393         0.374607\n",
              "5            0.967900         0.032100\n",
              "6            0.989815         0.010185\n",
              "7            0.767648         0.232352\n",
              "8            0.808371         0.191629\n",
              "9            0.560770         0.439230"
            ]
          },
          "execution_count": 47,
          "metadata": {},
          "output_type": "execute_result"
        }
      ],
      "source": [
        "y_pred_prob_df = pd.DataFrame(data=y_pred_prob, columns=['Prob No Llueva (0)', 'Prob Llueva (1)'])\n",
        "\n",
        "y_pred_prob_df"
      ]
    },
    {
      "cell_type": "code",
      "execution_count": 48,
      "metadata": {
        "id": "G0Bc99eoDUic"
      },
      "outputs": [],
      "source": [
        "###Grafica ROC - AUC\n",
        "\n",
        "y_pred1 = reglog1.predict_proba(X_test)[:,1]"
      ]
    },
    {
      "cell_type": "code",
      "execution_count": 49,
      "metadata": {
        "colab": {
          "base_uri": "https://localhost:8080/",
          "height": 411
        },
        "id": "pTw3CQHIDWiR",
        "outputId": "210fa5cf-aca6-4d8e-b421-6bca5b07cf8a"
      },
      "outputs": [
        {
          "data": {
            "image/png": "[encoded data removed]",
            "text/plain": [
              "<Figure size 600x400 with 1 Axes>"
            ]
          },
          "metadata": {},
          "output_type": "display_data"
        }
      ],
      "source": [
        "from sklearn.metrics import roc_curve\n",
        "\n",
        "fpr, tpr, thresholds = roc_curve(y_test, y_pred1, pos_label= 1) ## 'yes'\n",
        "\n",
        "plt.figure(figsize=(6,4))\n",
        "\n",
        "plt.plot(fpr, tpr, linewidth=2)\n",
        "\n",
        "plt.plot([0,1],[0,1], 'k--')\n",
        "\n",
        "plt.rcParams['font.size']=12\n",
        "\n",
        "plt.title('Curva de rendimiento del clasificador')\n",
        "\n",
        "plt.xlabel('Especificidad')\n",
        "\n",
        "plt.ylabel('Sensibilidad')\n",
        "\n",
        "plt.show()"
      ]
    },
    {
      "cell_type": "code",
      "execution_count": 50,
      "metadata": {
        "colab": {
          "base_uri": "https://localhost:8080/"
        },
        "id": "FSVYZxmgDXr7",
        "outputId": "77e5dfe9-2b4f-466e-9720-3f60ff156483"
      },
      "outputs": [
        {
          "data": {
            "text/plain": [
              "0.8652885893258759"
            ]
          },
          "execution_count": 50,
          "metadata": {},
          "output_type": "execute_result"
        }
      ],
      "source": [
        "from sklearn.metrics import roc_auc_score\n",
        "\n",
        "roc_auc = roc_auc_score(y_test, y_pred1)\n",
        "\n",
        "roc_auc"
      ]
    },
    {
      "cell_type": "markdown",
      "metadata": {
        "id": "XPSjDWlvD3dq"
      },
      "source": [
        "### Hiperparametrización GridSearchCV"
      ]
    },
    {
      "cell_type": "code",
      "execution_count": 51,
      "metadata": {
        "colab": {
          "base_uri": "https://localhost:8080/",
          "height": 118
        },
        "id": "E7Synbm7D8Qn",
        "outputId": "519882cc-703d-4beb-8499-f39834cebb80"
      },
      "outputs": [
        {
          "data": {
            "text/html": [
              "<style>#sk-container-id-3 {color: black;background-color: white;}#sk-container-id-3 pre{padding: 0;}#sk-container-id-3 div.sk-toggleable {background-color: white;}#sk-container-id-3 label.sk-toggleable__label {cursor: pointer;display: block;width: 100%;margin-bottom: 0;padding: 0.3em;box-sizing: border-box;text-align: center;}#sk-container-id-3 label.sk-toggleable__label-arrow:before {content: \"▸\";float: left;margin-right: 0.25em;color: #696969;}#sk-container-id-3 label.sk-toggleable__label-arrow:hover:before {color: black;}#sk-container-id-3 div.sk-estimator:hover label.sk-toggleable__label-arrow:before {color: black;}#sk-container-id-3 div.sk-toggleable__content {max-height: 0;max-width: 0;overflow: hidden;text-align: left;background-color: #f0f8ff;}#sk-container-id-3 div.sk-toggleable__content pre {margin: 0.2em;color: black;border-radius: 0.25em;background-color: #f0f8ff;}#sk-container-id-3 input.sk-toggleable__control:checked~div.sk-toggleable__content {max-height: 200px;max-width: 100%;overflow: auto;}#sk-container-id-3 input.sk-toggleable__control:checked~label.sk-toggleable__label-arrow:before {content: \"▾\";}#sk-container-id-3 div.sk-estimator input.sk-toggleable__control:checked~label.sk-toggleable__label {background-color: #d4ebff;}#sk-container-id-3 div.sk-label input.sk-toggleable__control:checked~label.sk-toggleable__label {background-color: #d4ebff;}#sk-container-id-3 input.sk-hidden--visually {border: 0;clip: rect(1px 1px 1px 1px);clip: rect(1px, 1px, 1px, 1px);height: 1px;margin: -1px;overflow: hidden;padding: 0;position: absolute;width: 1px;}#sk-container-id-3 div.sk-estimator {font-family: monospace;background-color: #f0f8ff;border: 1px dotted black;border-radius: 0.25em;box-sizing: border-box;margin-bottom: 0.5em;}#sk-container-id-3 div.sk-estimator:hover {background-color: #d4ebff;}#sk-container-id-3 div.sk-parallel-item::after {content: \"\";width: 100%;border-bottom: 1px solid gray;flex-grow: 1;}#sk-container-id-3 div.sk-label:hover label.sk-toggleable__label {background-color: #d4ebff;}#sk-container-id-3 div.sk-serial::before {content: \"\";position: absolute;border-left: 1px solid gray;box-sizing: border-box;top: 0;bottom: 0;left: 50%;z-index: 0;}#sk-container-id-3 div.sk-serial {display: flex;flex-direction: column;align-items: center;background-color: white;padding-right: 0.2em;padding-left: 0.2em;position: relative;}#sk-container-id-3 div.sk-item {position: relative;z-index: 1;}#sk-container-id-3 div.sk-parallel {display: flex;align-items: stretch;justify-content: center;background-color: white;position: relative;}#sk-container-id-3 div.sk-item::before, #sk-container-id-3 div.sk-parallel-item::before {content: \"\";position: absolute;border-left: 1px solid gray;box-sizing: border-box;top: 0;bottom: 0;left: 50%;z-index: -1;}#sk-container-id-3 div.sk-parallel-item {display: flex;flex-direction: column;z-index: 1;position: relative;background-color: white;}#sk-container-id-3 div.sk-parallel-item:first-child::after {align-self: flex-end;width: 50%;}#sk-container-id-3 div.sk-parallel-item:last-child::after {align-self: flex-start;width: 50%;}#sk-container-id-3 div.sk-parallel-item:only-child::after {width: 0;}#sk-container-id-3 div.sk-dashed-wrapped {border: 1px dashed gray;margin: 0 0.4em 0.5em 0.4em;box-sizing: border-box;padding-bottom: 0.4em;background-color: white;}#sk-container-id-3 div.sk-label label {font-family: monospace;font-weight: bold;display: inline-block;line-height: 1.2em;}#sk-container-id-3 div.sk-label-container {text-align: center;}#sk-container-id-3 div.sk-container {/* jupyter's `normalize.less` sets `[hidden] { display: none; }` but bootstrap.min.css set `[hidden] { display: none !important; }` so we also need the `!important` here to be able to override the default hidden behavior on the sphinx rendered scikit-learn.org. See: https://github.com/scikit-learn/scikit-learn/issues/21755 */display: inline-block !important;position: relative;}#sk-container-id-3 div.sk-text-repr-fallback {display: none;}</style><div id=\"sk-container-id-3\" class=\"sk-top-container\"><div class=\"sk-text-repr-fallback\"><pre>GridSearchCV(cv=5,\n",
              "             estimator=LogisticRegression(random_state=42, solver=&#x27;liblinear&#x27;),\n",
              "             param_grid=[{&#x27;penalty&#x27;: [&#x27;l1&#x27;, &#x27;l2&#x27;]}, {&#x27;C&#x27;: [1, 10, 100, 1000]}],\n",
              "             scoring=&#x27;accuracy&#x27;)</pre><b>In a Jupyter environment, please rerun this cell to show the HTML representation or trust the notebook. <br />On GitHub, the HTML representation is unable to render, please try loading this page with nbviewer.org.</b></div><div class=\"sk-container\" hidden><div class=\"sk-item sk-dashed-wrapped\"><div class=\"sk-label-container\"><div class=\"sk-label sk-toggleable\"><input class=\"sk-toggleable__control sk-hidden--visually\" id=\"sk-estimator-id-3\" type=\"checkbox\" ><label for=\"sk-estimator-id-3\" class=\"sk-toggleable__label sk-toggleable__label-arrow\">GridSearchCV</label><div class=\"sk-toggleable__content\"><pre>GridSearchCV(cv=5,\n",
              "             estimator=LogisticRegression(random_state=42, solver=&#x27;liblinear&#x27;),\n",
              "             param_grid=[{&#x27;penalty&#x27;: [&#x27;l1&#x27;, &#x27;l2&#x27;]}, {&#x27;C&#x27;: [1, 10, 100, 1000]}],\n",
              "             scoring=&#x27;accuracy&#x27;)</pre></div></div></div><div class=\"sk-parallel\"><div class=\"sk-parallel-item\"><div class=\"sk-item\"><div class=\"sk-label-container\"><div class=\"sk-label sk-toggleable\"><input class=\"sk-toggleable__control sk-hidden--visually\" id=\"sk-estimator-id-4\" type=\"checkbox\" ><label for=\"sk-estimator-id-4\" class=\"sk-toggleable__label sk-toggleable__label-arrow\">estimator: LogisticRegression</label><div class=\"sk-toggleable__content\"><pre>LogisticRegression(random_state=42, solver=&#x27;liblinear&#x27;)</pre></div></div></div><div class=\"sk-serial\"><div class=\"sk-item\"><div class=\"sk-estimator sk-toggleable\"><input class=\"sk-toggleable__control sk-hidden--visually\" id=\"sk-estimator-id-5\" type=\"checkbox\" ><label for=\"sk-estimator-id-5\" class=\"sk-toggleable__label sk-toggleable__label-arrow\">LogisticRegression</label><div class=\"sk-toggleable__content\"><pre>LogisticRegression(random_state=42, solver=&#x27;liblinear&#x27;)</pre></div></div></div></div></div></div></div></div></div></div>"
            ],
            "text/plain": [
              "GridSearchCV(cv=5,\n",
              "             estimator=LogisticRegression(random_state=42, solver='liblinear'),\n",
              "             param_grid=[{'penalty': ['l1', 'l2']}, {'C': [1, 10, 100, 1000]}],\n",
              "             scoring='accuracy')"
            ]
          },
          "execution_count": 51,
          "metadata": {},
          "output_type": "execute_result"
        }
      ],
      "source": [
        "from sklearn.model_selection import GridSearchCV\n",
        "\n",
        "parametros = [{'penalty':['l1','l2']},\n",
        "              {'C':[1, 10,100,1000]}]\n",
        "\n",
        "gridsearch = GridSearchCV(estimator=reglog1,\n",
        "                          param_grid=parametros,\n",
        "                          scoring='accuracy',\n",
        "                          cv=5,\n",
        "                          verbose=0)\n",
        "\n",
        "gridsearch.fit(X_train, y_train)"
      ]
    },
    {
      "cell_type": "code",
      "execution_count": 52,
      "metadata": {
        "colab": {
          "base_uri": "https://localhost:8080/",
          "height": 127
        },
        "id": "zh7S6K8IGtoL",
        "outputId": "4e56d4f9-b0c1-47da-cbae-e290f4d56bac"
      },
      "outputs": [
        {
          "name": "stdout",
          "output_type": "stream",
          "text": [
            "GridSearchCV Score: 0.8483\n",
            "Parámetros: {'penalty': 'l1'}\n",
            "Estimador: LogisticRegression(penalty='l1', random_state=42, solver='liblinear')\n"
          ]
        },
        {
          "data": {
            "text/html": [
              "<style>#sk-container-id-4 {color: black;background-color: white;}#sk-container-id-4 pre{padding: 0;}#sk-container-id-4 div.sk-toggleable {background-color: white;}#sk-container-id-4 label.sk-toggleable__label {cursor: pointer;display: block;width: 100%;margin-bottom: 0;padding: 0.3em;box-sizing: border-box;text-align: center;}#sk-container-id-4 label.sk-toggleable__label-arrow:before {content: \"▸\";float: left;margin-right: 0.25em;color: #696969;}#sk-container-id-4 label.sk-toggleable__label-arrow:hover:before {color: black;}#sk-container-id-4 div.sk-estimator:hover label.sk-toggleable__label-arrow:before {color: black;}#sk-container-id-4 div.sk-toggleable__content {max-height: 0;max-width: 0;overflow: hidden;text-align: left;background-color: #f0f8ff;}#sk-container-id-4 div.sk-toggleable__content pre {margin: 0.2em;color: black;border-radius: 0.25em;background-color: #f0f8ff;}#sk-container-id-4 input.sk-toggleable__control:checked~div.sk-toggleable__content {max-height: 200px;max-width: 100%;overflow: auto;}#sk-container-id-4 input.sk-toggleable__control:checked~label.sk-toggleable__label-arrow:before {content: \"▾\";}#sk-container-id-4 div.sk-estimator input.sk-toggleable__control:checked~label.sk-toggleable__label {background-color: #d4ebff;}#sk-container-id-4 div.sk-label input.sk-toggleable__control:checked~label.sk-toggleable__label {background-color: #d4ebff;}#sk-container-id-4 input.sk-hidden--visually {border: 0;clip: rect(1px 1px 1px 1px);clip: rect(1px, 1px, 1px, 1px);height: 1px;margin: -1px;overflow: hidden;padding: 0;position: absolute;width: 1px;}#sk-container-id-4 div.sk-estimator {font-family: monospace;background-color: #f0f8ff;border: 1px dotted black;border-radius: 0.25em;box-sizing: border-box;margin-bottom: 0.5em;}#sk-container-id-4 div.sk-estimator:hover {background-color: #d4ebff;}#sk-container-id-4 div.sk-parallel-item::after {content: \"\";width: 100%;border-bottom: 1px solid gray;flex-grow: 1;}#sk-container-id-4 div.sk-label:hover label.sk-toggleable__label {background-color: #d4ebff;}#sk-container-id-4 div.sk-serial::before {content: \"\";position: absolute;border-left: 1px solid gray;box-sizing: border-box;top: 0;bottom: 0;left: 50%;z-index: 0;}#sk-container-id-4 div.sk-serial {display: flex;flex-direction: column;align-items: center;background-color: white;padding-right: 0.2em;padding-left: 0.2em;position: relative;}#sk-container-id-4 div.sk-item {position: relative;z-index: 1;}#sk-container-id-4 div.sk-parallel {display: flex;align-items: stretch;justify-content: center;background-color: white;position: relative;}#sk-container-id-4 div.sk-item::before, #sk-container-id-4 div.sk-parallel-item::before {content: \"\";position: absolute;border-left: 1px solid gray;box-sizing: border-box;top: 0;bottom: 0;left: 50%;z-index: -1;}#sk-container-id-4 div.sk-parallel-item {display: flex;flex-direction: column;z-index: 1;position: relative;background-color: white;}#sk-container-id-4 div.sk-parallel-item:first-child::after {align-self: flex-end;width: 50%;}#sk-container-id-4 div.sk-parallel-item:last-child::after {align-self: flex-start;width: 50%;}#sk-container-id-4 div.sk-parallel-item:only-child::after {width: 0;}#sk-container-id-4 div.sk-dashed-wrapped {border: 1px dashed gray;margin: 0 0.4em 0.5em 0.4em;box-sizing: border-box;padding-bottom: 0.4em;background-color: white;}#sk-container-id-4 div.sk-label label {font-family: monospace;font-weight: bold;display: inline-block;line-height: 1.2em;}#sk-container-id-4 div.sk-label-container {text-align: center;}#sk-container-id-4 div.sk-container {/* jupyter's `normalize.less` sets `[hidden] { display: none; }` but bootstrap.min.css set `[hidden] { display: none !important; }` so we also need the `!important` here to be able to override the default hidden behavior on the sphinx rendered scikit-learn.org. See: https://github.com/scikit-learn/scikit-learn/issues/21755 */display: inline-block !important;position: relative;}#sk-container-id-4 div.sk-text-repr-fallback {display: none;}</style><div id=\"sk-container-id-4\" class=\"sk-top-container\"><div class=\"sk-text-repr-fallback\"><pre>LogisticRegression(random_state=42, solver=&#x27;liblinear&#x27;)</pre><b>In a Jupyter environment, please rerun this cell to show the HTML representation or trust the notebook. <br />On GitHub, the HTML representation is unable to render, please try loading this page with nbviewer.org.</b></div><div class=\"sk-container\" hidden><div class=\"sk-item\"><div class=\"sk-estimator sk-toggleable\"><input class=\"sk-toggleable__control sk-hidden--visually\" id=\"sk-estimator-id-6\" type=\"checkbox\" checked><label for=\"sk-estimator-id-6\" class=\"sk-toggleable__label sk-toggleable__label-arrow\">LogisticRegression</label><div class=\"sk-toggleable__content\"><pre>LogisticRegression(random_state=42, solver=&#x27;liblinear&#x27;)</pre></div></div></div></div></div>"
            ],
            "text/plain": [
              "LogisticRegression(random_state=42, solver='liblinear')"
            ]
          },
          "execution_count": 52,
          "metadata": {},
          "output_type": "execute_result"
        }
      ],
      "source": [
        "print('GridSearchCV Score: {:.4f}'.format(gridsearch.best_score_))\n",
        "\n",
        "print('Parámetros:', gridsearch.best_params_)\n",
        "\n",
        "print('Estimador:', gridsearch.best_estimator_)\n",
        "\n",
        "LogisticRegression(penalty='l2', random_state=42, solver='liblinear')"
      ]
    },
    {
      "cell_type": "code",
      "execution_count": 53,
      "metadata": {
        "id": "Q1vUwp8rGt6c"
      },
      "outputs": [],
      "source": [
        "dataN.to_csv('clima.csv', index=False)"
      ]
    },
    {
      "cell_type": "code",
      "execution_count": 54,
      "metadata": {
        "colab": {
          "base_uri": "https://localhost:8080/"
        },
        "id": "84ww6uXXHKCO",
        "outputId": "c09258aa-eb73-489c-823e-6f8974312aa3"
      },
      "outputs": [
        {
          "name": "stdout",
          "output_type": "stream",
          "text": [
            "<class 'pandas.core.frame.DataFrame'>\n",
            "RangeIndex: 145460 entries, 0 to 145459\n",
            "Data columns (total 70 columns):\n",
            " #   Column            Non-Null Count   Dtype  \n",
            "---  ------            --------------   -----  \n",
            " 0   MinTemp           145460 non-null  float64\n",
            " 1   MaxTemp           145460 non-null  float64\n",
            " 2   Rainfall          145460 non-null  float64\n",
            " 3   Evaporation       145460 non-null  float64\n",
            " 4   Sunshine          145460 non-null  float64\n",
            " 5   WindGustDir       145460 non-null  int32  \n",
            " 6   WindGustSpeed     145460 non-null  float64\n",
            " 7   WindDir9am        145460 non-null  int32  \n",
            " 8   WindDir3pm        145460 non-null  int32  \n",
            " 9   WindSpeed9am      145460 non-null  float64\n",
            " 10  WindSpeed3pm      145460 non-null  float64\n",
            " 11  Humidity9am       145460 non-null  float64\n",
            " 12  Humidity3pm       145460 non-null  float64\n",
            " 13  Pressure9am       145460 non-null  float64\n",
            " 14  Pressure3pm       145460 non-null  float64\n",
            " 15  Cloud9am          145460 non-null  float64\n",
            " 16  Cloud3pm          145460 non-null  float64\n",
            " 17  Temp9am           145460 non-null  float64\n",
            " 18  Temp3pm           145460 non-null  float64\n",
            " 19  RainToday         145460 non-null  int32  \n",
            " 20  RainTomorrow      145460 non-null  int32  \n",
            " 21  Adelaide          145460 non-null  bool   \n",
            " 22  Albany            145460 non-null  bool   \n",
            " 23  Albury            145460 non-null  bool   \n",
            " 24  AliceSprings      145460 non-null  bool   \n",
            " 25  BadgerysCreek     145460 non-null  bool   \n",
            " 26  Ballarat          145460 non-null  bool   \n",
            " 27  Bendigo           145460 non-null  bool   \n",
            " 28  Brisbane          145460 non-null  bool   \n",
            " 29  Cairns            145460 non-null  bool   \n",
            " 30  Canberra          145460 non-null  bool   \n",
            " 31  Cobar             145460 non-null  bool   \n",
            " 32  CoffsHarbour      145460 non-null  bool   \n",
            " 33  Dartmoor          145460 non-null  bool   \n",
            " 34  Darwin            145460 non-null  bool   \n",
            " 35  GoldCoast         145460 non-null  bool   \n",
            " 36  Hobart            145460 non-null  bool   \n",
            " 37  Katherine         145460 non-null  bool   \n",
            " 38  Launceston        145460 non-null  bool   \n",
            " 39  Melbourne         145460 non-null  bool   \n",
            " 40  MelbourneAirport  145460 non-null  bool   \n",
            " 41  Mildura           145460 non-null  bool   \n",
            " 42  Moree             145460 non-null  bool   \n",
            " 43  MountGambier      145460 non-null  bool   \n",
            " 44  MountGinini       145460 non-null  bool   \n",
            " 45  Newcastle         145460 non-null  bool   \n",
            " 46  Nhil              145460 non-null  bool   \n",
            " 47  NorahHead         145460 non-null  bool   \n",
            " 48  NorfolkIsland     145460 non-null  bool   \n",
            " 49  Nuriootpa         145460 non-null  bool   \n",
            " 50  PearceRAAF        145460 non-null  bool   \n",
            " 51  Penrith           145460 non-null  bool   \n",
            " 52  Perth             145460 non-null  bool   \n",
            " 53  PerthAirport      145460 non-null  bool   \n",
            " 54  Portland          145460 non-null  bool   \n",
            " 55  Richmond          145460 non-null  bool   \n",
            " 56  Sale              145460 non-null  bool   \n",
            " 57  SalmonGums        145460 non-null  bool   \n",
            " 58  Sydney            145460 non-null  bool   \n",
            " 59  SydneyAirport     145460 non-null  bool   \n",
            " 60  Townsville        145460 non-null  bool   \n",
            " 61  Tuggeranong       145460 non-null  bool   \n",
            " 62  Uluru             145460 non-null  bool   \n",
            " 63  WaggaWagga        145460 non-null  bool   \n",
            " 64  Walpole           145460 non-null  bool   \n",
            " 65  Watsonia          145460 non-null  bool   \n",
            " 66  Williamtown       145460 non-null  bool   \n",
            " 67  Witchcliffe       145460 non-null  bool   \n",
            " 68  Wollongong        145460 non-null  bool   \n",
            " 69  Woomera           145460 non-null  bool   \n",
            "dtypes: bool(49), float64(16), int32(5)\n",
            "memory usage: 27.3 MB\n"
          ]
        }
      ],
      "source": [
        "dataN.info()"
      ]
    }
  ],
  "metadata": {
    "colab": {
      "provenance": []
    },
    "kernelspec": {
      "display_name": "Python 3",
      "name": "python3"
    },
    "language_info": {
      "codemirror_mode": {
        "name": "ipython",
        "version": 3
      },
      "file_extension": ".py",
      "mimetype": "text/x-python",
      "name": "python",
      "nbconvert_exporter": "python",
      "pygments_lexer": "ipython3",
      "version": "3.11.3"
    }
  },
  "nbformat": 4,
  "nbformat_minor": 0
}
