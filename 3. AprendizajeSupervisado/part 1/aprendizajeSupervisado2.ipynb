{
  "cells": [
    {
      "cell_type": "markdown",
      "metadata": {
        "id": "nOern83T370O"
      },
      "source": [
        "# Clasificador Naive Bayes (multiclase)"
      ]
    },
    {
      "cell_type": "markdown",
      "metadata": {
        "id": "9sUuDvd639CL"
      },
      "source": [
        "Ejercicio: Vinos de Italia\n",
        "\n",
        "En este ejercicio se utilizará el conjunto de datos de Vinos de Italia (disponible en scikit-learn), para generar clasificación multicalse.\n",
        "\n",
        "El conjunto de datos consta de 13 características y el tipo de cultivo de vino. Estos datos tienen tres tipos de vino Class_0, Class_1 y Class_2. Aquí puedes construir un modelo para clasificar el tipo de vino."
      ]
    },
    {
      "cell_type": "markdown",
      "metadata": {
        "id": "CDs8qbCC4Tkp"
      },
      "source": [
        "## Importar librerías"
      ]
    },
    {
      "cell_type": "code",
      "execution_count": 1,
      "metadata": {
        "id": "qYPYXy7W3eP7"
      },
      "outputs": [],
      "source": [
        "# Libreria para calculos matematicos\n",
        "import numpy as np\n",
        "# Libreria para el manejo de datos\n",
        "import pandas as pd\n",
        "# Libreria para los gráficos\n",
        "import matplotlib.pyplot as plt\n",
        "\n",
        "# Librería para importar dataset de sklearn\n",
        "from sklearn import datasets\n",
        "\n",
        "# Libreria para el preprocesamiento de los datos\n",
        "from sklearn import preprocessing\n",
        "# Libreria para Naive Bayes\n",
        "from sklearn.naive_bayes import GaussianNB\n",
        "# Libreria para separar los datos\n",
        "from sklearn.model_selection import train_test_split\n",
        "# Libreria para el Accuracy\n",
        "from sklearn.metrics import accuracy_score"
      ]
    },
    {
      "cell_type": "markdown",
      "metadata": {
        "id": "dsERFDfd4ynK"
      },
      "source": [
        "### Cargamos los datos"
      ]
    },
    {
      "cell_type": "code",
      "execution_count": 2,
      "metadata": {
        "colab": {
          "base_uri": "https://localhost:8080/"
        },
        "id": "50tE2xwn40C4",
        "outputId": "77ae1d57-cd29-473c-ba3a-aae284774486"
      },
      "outputs": [
        {
          "name": "stdout",
          "output_type": "stream",
          "text": [
            "Caracteristicas: ['alcohol', 'malic_acid', 'ash', 'alcalinity_of_ash', 'magnesium', 'total_phenols', 'flavanoids', 'nonflavanoid_phenols', 'proanthocyanins', 'color_intensity', 'hue', 'od280/od315_of_diluted_wines', 'proline']\n",
            "-------------------------------------\n",
            "Clase:  ['class_0' 'class_1' 'class_2']\n"
          ]
        }
      ],
      "source": [
        "# Se carga el dataset a wine\n",
        "wine = datasets.load_wine()\n",
        "\n",
        "# Se imprime el nombre de las 13 características\n",
        "print(\"Caracteristicas:\", wine.feature_names)\n",
        "print(\"-------------------------------------\")\n",
        "# Se imprime el nombre de las variables objetivo\n",
        "print(\"Clase: \", wine.target_names )"
      ]
    },
    {
      "cell_type": "code",
      "execution_count": 3,
      "metadata": {
        "colab": {
          "base_uri": "https://localhost:8080/"
        },
        "id": "jOwvKuVs43Ob",
        "outputId": "ee4034d3-6d7c-4849-ef1f-8a42a1574977"
      },
      "outputs": [
        {
          "name": "stdout",
          "output_type": "stream",
          "text": [
            "[[1.423e+01 1.710e+00 2.430e+00 1.560e+01 1.270e+02 2.800e+00 3.060e+00\n",
            "  2.800e-01 2.290e+00 5.640e+00 1.040e+00 3.920e+00 1.065e+03]\n",
            " [1.320e+01 1.780e+00 2.140e+00 1.120e+01 1.000e+02 2.650e+00 2.760e+00\n",
            "  2.600e-01 1.280e+00 4.380e+00 1.050e+00 3.400e+00 1.050e+03]\n",
            " [1.316e+01 2.360e+00 2.670e+00 1.860e+01 1.010e+02 2.800e+00 3.240e+00\n",
            "  3.000e-01 2.810e+00 5.680e+00 1.030e+00 3.170e+00 1.185e+03]\n",
            " [1.437e+01 1.950e+00 2.500e+00 1.680e+01 1.130e+02 3.850e+00 3.490e+00\n",
            "  2.400e-01 2.180e+00 7.800e+00 8.600e-01 3.450e+00 1.480e+03]\n",
            " [1.324e+01 2.590e+00 2.870e+00 2.100e+01 1.180e+02 2.800e+00 2.690e+00\n",
            "  3.900e-01 1.820e+00 4.320e+00 1.040e+00 2.930e+00 7.350e+02]]\n",
            "(178, 13)\n"
          ]
        }
      ],
      "source": [
        "# Se muestran los primeros 5 registros del dataset\n",
        "print(wine.data[0:5])\n",
        "\n",
        "# Se observa la cantidad de registros del dataset\n",
        "print(wine.data.shape)"
      ]
    },
    {
      "cell_type": "markdown",
      "metadata": {
        "id": "rIceqe2L443Z"
      },
      "source": [
        "### Aplicamos la separación del data set para pruebas y entrenamiento"
      ]
    },
    {
      "cell_type": "code",
      "execution_count": 4,
      "metadata": {
        "id": "7Rwl3eWy47Yj"
      },
      "outputs": [],
      "source": [
        "# Se definen las características del modelo\n",
        "X = wine.data\n",
        "\n",
        "# Se define la etiqueta del modelo\n",
        "y = wine.target\n",
        "\n",
        "# Separo los datos\n",
        "X_train, X_test, y_train, y_test = train_test_split(X, y, train_size= 0.7, random_state= 1)\n"
      ]
    },
    {
      "cell_type": "markdown",
      "metadata": {
        "id": "OzlasWR95ety"
      },
      "source": [
        "### Se entrena el modelo y se imprime el Accuracy"
      ]
    },
    {
      "cell_type": "code",
      "execution_count": 5,
      "metadata": {
        "colab": {
          "base_uri": "https://localhost:8080/"
        },
        "id": "x-l2sHnP5goV",
        "outputId": "df8754c3-f610-47bc-cfa4-839731c917ae"
      },
      "outputs": [
        {
          "name": "stdout",
          "output_type": "stream",
          "text": [
            "Accuracy =  0.98\n"
          ]
        }
      ],
      "source": [
        "# Se crea el modelo\n",
        "nb = GaussianNB()\n",
        "\n",
        "# Se entrena el modelo\n",
        "nb.fit(X_train, y_train)\n",
        "\n",
        "# Se genera la predicción\n",
        "prediction = nb.predict(X_test)\n",
        "\n",
        "# Se imprime el valor de la métrica Accuracy\n",
        "print(\"Accuracy = \", round(accuracy_score(y_test, prediction), 2))"
      ]
    }
  ],
  "metadata": {
    "colab": {
      "provenance": []
    },
    "kernelspec": {
      "display_name": "Python 3",
      "name": "python3"
    },
    "language_info": {
      "codemirror_mode": {
        "name": "ipython",
        "version": 3
      },
      "file_extension": ".py",
      "mimetype": "text/x-python",
      "name": "python",
      "nbconvert_exporter": "python",
      "pygments_lexer": "ipython3",
      "version": "3.11.3"
    }
  },
  "nbformat": 4,
  "nbformat_minor": 0
}
