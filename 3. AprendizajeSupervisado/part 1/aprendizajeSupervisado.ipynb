{
  "cells": [
    {
      "cell_type": "markdown",
      "metadata": {
        "id": "kF-0RlVLrSEi"
      },
      "source": [
        "#### Clasificador Naive Bayes\n",
        "\n",
        "Ahora suponga que desea calcular la probabilidad de jugar futbol cuando el clima está nublado y la temperatura es templada.\n",
        "\n",
        "Caracteristicas (entradas del modelo): clima, temperatura\n",
        "Variable objetivo (clase): jugar (0: No, 1:Si)"
      ]
    },
    {
      "cell_type": "markdown",
      "metadata": {
        "id": "pSwGCo7_sQxw"
      },
      "source": [
        "#### Importar librerias"
      ]
    },
    {
      "cell_type": "code",
      "execution_count": 8,
      "metadata": {
        "id": "Xbl_ueMVqmmJ"
      },
      "outputs": [],
      "source": [
        "# Libreria para calculos matematicos\n",
        "import numpy as np\n",
        "# Libreria para el manejo de datos\n",
        "import pandas as pd\n",
        "# Libreria para los gráficos\n",
        "import matplotlib.pyplot as plt\n",
        "\n",
        "# Libreria para el preprocesamiento de los datos\n",
        "from sklearn import preprocessing\n",
        "# Libreria para Naive Bayes\n",
        "from sklearn.naive_bayes import GaussianNB\n",
        "# Libreria para separar los datos\n",
        "from sklearn.model_selection import train_test_split\n",
        "# Libreria para el Accuracy\n",
        "from sklearn.metrics import accuracy_score"
      ]
    },
    {
      "cell_type": "markdown",
      "metadata": {
        "id": "jl0COEkLtrLt"
      },
      "source": [
        "#### Cargar los datos"
      ]
    },
    {
      "cell_type": "code",
      "execution_count": 9,
      "metadata": {
        "colab": {
          "base_uri": "https://localhost:8080/",
          "height": 488
        },
        "id": "T69oGr7Stvum",
        "outputId": "9cc8f0a0-dae7-48a9-eaeb-8cc34648a0cb"
      },
      "outputs": [
        {
          "data": {
            "text/html": [
              "<div>\n",
              "<style scoped>\n",
              "    .dataframe tbody tr th:only-of-type {\n",
              "        vertical-align: middle;\n",
              "    }\n",
              "\n",
              "    .dataframe tbody tr th {\n",
              "        vertical-align: top;\n",
              "    }\n",
              "\n",
              "    .dataframe thead th {\n",
              "        text-align: right;\n",
              "    }\n",
              "</style>\n",
              "<table border=\"1\" class=\"dataframe\">\n",
              "  <thead>\n",
              "    <tr style=\"text-align: right;\">\n",
              "      <th></th>\n",
              "      <th>clima</th>\n",
              "      <th>temperatura</th>\n",
              "      <th>jugar</th>\n",
              "    </tr>\n",
              "  </thead>\n",
              "  <tbody>\n",
              "    <tr>\n",
              "      <th>0</th>\n",
              "      <td>soleado</td>\n",
              "      <td>caliente</td>\n",
              "      <td>no</td>\n",
              "    </tr>\n",
              "    <tr>\n",
              "      <th>1</th>\n",
              "      <td>soleado</td>\n",
              "      <td>caliente</td>\n",
              "      <td>si</td>\n",
              "    </tr>\n",
              "    <tr>\n",
              "      <th>2</th>\n",
              "      <td>nublado</td>\n",
              "      <td>caliente</td>\n",
              "      <td>si</td>\n",
              "    </tr>\n",
              "    <tr>\n",
              "      <th>3</th>\n",
              "      <td>lluvioso</td>\n",
              "      <td>templado</td>\n",
              "      <td>si</td>\n",
              "    </tr>\n",
              "    <tr>\n",
              "      <th>4</th>\n",
              "      <td>luvioso</td>\n",
              "      <td>frio</td>\n",
              "      <td>no</td>\n",
              "    </tr>\n",
              "    <tr>\n",
              "      <th>5</th>\n",
              "      <td>lluvioso</td>\n",
              "      <td>frio</td>\n",
              "      <td>no</td>\n",
              "    </tr>\n",
              "    <tr>\n",
              "      <th>6</th>\n",
              "      <td>nublado</td>\n",
              "      <td>frio</td>\n",
              "      <td>si</td>\n",
              "    </tr>\n",
              "    <tr>\n",
              "      <th>7</th>\n",
              "      <td>soleado</td>\n",
              "      <td>templado</td>\n",
              "      <td>no</td>\n",
              "    </tr>\n",
              "    <tr>\n",
              "      <th>8</th>\n",
              "      <td>soleado</td>\n",
              "      <td>frio</td>\n",
              "      <td>si</td>\n",
              "    </tr>\n",
              "    <tr>\n",
              "      <th>9</th>\n",
              "      <td>lluvioso</td>\n",
              "      <td>templado</td>\n",
              "      <td>si</td>\n",
              "    </tr>\n",
              "    <tr>\n",
              "      <th>10</th>\n",
              "      <td>soleado</td>\n",
              "      <td>templado</td>\n",
              "      <td>si</td>\n",
              "    </tr>\n",
              "    <tr>\n",
              "      <th>11</th>\n",
              "      <td>nublado</td>\n",
              "      <td>templado</td>\n",
              "      <td>si</td>\n",
              "    </tr>\n",
              "    <tr>\n",
              "      <th>12</th>\n",
              "      <td>nublado</td>\n",
              "      <td>caliente</td>\n",
              "      <td>si</td>\n",
              "    </tr>\n",
              "    <tr>\n",
              "      <th>13</th>\n",
              "      <td>lluvioso</td>\n",
              "      <td>templado</td>\n",
              "      <td>no</td>\n",
              "    </tr>\n",
              "  </tbody>\n",
              "</table>\n",
              "</div>"
            ],
            "text/plain": [
              "       clima temperatura jugar\n",
              "0    soleado    caliente    no\n",
              "1    soleado    caliente    si\n",
              "2    nublado    caliente    si\n",
              "3   lluvioso    templado    si\n",
              "4    luvioso        frio    no\n",
              "5   lluvioso        frio    no\n",
              "6    nublado        frio    si\n",
              "7    soleado    templado    no\n",
              "8    soleado        frio    si\n",
              "9   lluvioso    templado    si\n",
              "10   soleado    templado    si\n",
              "11   nublado    templado    si\n",
              "12   nublado    caliente    si\n",
              "13  lluvioso    templado    no"
            ]
          },
          "execution_count": 9,
          "metadata": {},
          "output_type": "execute_result"
        }
      ],
      "source": [
        "# Leer el archivo plano y cargarlo en un dataframe\n",
        "data = pd.read_csv(\"./data/exercise1.csv\", sep=\";\")\n",
        "\n",
        "data"
      ]
    },
    {
      "cell_type": "markdown",
      "metadata": {
        "id": "H8WfRhaGuPfw"
      },
      "source": [
        "#### Pre-procesamiento"
      ]
    },
    {
      "cell_type": "code",
      "execution_count": 10,
      "metadata": {
        "colab": {
          "base_uri": "https://localhost:8080/",
          "height": 488
        },
        "id": "ZfFuSe3guRK3",
        "outputId": "05588e3d-ca8d-401d-ae6b-e9b394861cdb"
      },
      "outputs": [
        {
          "data": {
            "text/html": [
              "<div>\n",
              "<style scoped>\n",
              "    .dataframe tbody tr th:only-of-type {\n",
              "        vertical-align: middle;\n",
              "    }\n",
              "\n",
              "    .dataframe tbody tr th {\n",
              "        vertical-align: top;\n",
              "    }\n",
              "\n",
              "    .dataframe thead th {\n",
              "        text-align: right;\n",
              "    }\n",
              "</style>\n",
              "<table border=\"1\" class=\"dataframe\">\n",
              "  <thead>\n",
              "    <tr style=\"text-align: right;\">\n",
              "      <th></th>\n",
              "      <th>clima</th>\n",
              "      <th>temperatura</th>\n",
              "      <th>jugar</th>\n",
              "      <th>clima2</th>\n",
              "      <th>temperatura2</th>\n",
              "      <th>jugar2</th>\n",
              "    </tr>\n",
              "  </thead>\n",
              "  <tbody>\n",
              "    <tr>\n",
              "      <th>0</th>\n",
              "      <td>soleado</td>\n",
              "      <td>caliente</td>\n",
              "      <td>no</td>\n",
              "      <td>3</td>\n",
              "      <td>0</td>\n",
              "      <td>0</td>\n",
              "    </tr>\n",
              "    <tr>\n",
              "      <th>1</th>\n",
              "      <td>soleado</td>\n",
              "      <td>caliente</td>\n",
              "      <td>si</td>\n",
              "      <td>3</td>\n",
              "      <td>0</td>\n",
              "      <td>1</td>\n",
              "    </tr>\n",
              "    <tr>\n",
              "      <th>2</th>\n",
              "      <td>nublado</td>\n",
              "      <td>caliente</td>\n",
              "      <td>si</td>\n",
              "      <td>2</td>\n",
              "      <td>0</td>\n",
              "      <td>1</td>\n",
              "    </tr>\n",
              "    <tr>\n",
              "      <th>3</th>\n",
              "      <td>lluvioso</td>\n",
              "      <td>templado</td>\n",
              "      <td>si</td>\n",
              "      <td>0</td>\n",
              "      <td>2</td>\n",
              "      <td>1</td>\n",
              "    </tr>\n",
              "    <tr>\n",
              "      <th>4</th>\n",
              "      <td>luvioso</td>\n",
              "      <td>frio</td>\n",
              "      <td>no</td>\n",
              "      <td>1</td>\n",
              "      <td>1</td>\n",
              "      <td>0</td>\n",
              "    </tr>\n",
              "    <tr>\n",
              "      <th>5</th>\n",
              "      <td>lluvioso</td>\n",
              "      <td>frio</td>\n",
              "      <td>no</td>\n",
              "      <td>0</td>\n",
              "      <td>1</td>\n",
              "      <td>0</td>\n",
              "    </tr>\n",
              "    <tr>\n",
              "      <th>6</th>\n",
              "      <td>nublado</td>\n",
              "      <td>frio</td>\n",
              "      <td>si</td>\n",
              "      <td>2</td>\n",
              "      <td>1</td>\n",
              "      <td>1</td>\n",
              "    </tr>\n",
              "    <tr>\n",
              "      <th>7</th>\n",
              "      <td>soleado</td>\n",
              "      <td>templado</td>\n",
              "      <td>no</td>\n",
              "      <td>3</td>\n",
              "      <td>2</td>\n",
              "      <td>0</td>\n",
              "    </tr>\n",
              "    <tr>\n",
              "      <th>8</th>\n",
              "      <td>soleado</td>\n",
              "      <td>frio</td>\n",
              "      <td>si</td>\n",
              "      <td>3</td>\n",
              "      <td>1</td>\n",
              "      <td>1</td>\n",
              "    </tr>\n",
              "    <tr>\n",
              "      <th>9</th>\n",
              "      <td>lluvioso</td>\n",
              "      <td>templado</td>\n",
              "      <td>si</td>\n",
              "      <td>0</td>\n",
              "      <td>2</td>\n",
              "      <td>1</td>\n",
              "    </tr>\n",
              "    <tr>\n",
              "      <th>10</th>\n",
              "      <td>soleado</td>\n",
              "      <td>templado</td>\n",
              "      <td>si</td>\n",
              "      <td>3</td>\n",
              "      <td>2</td>\n",
              "      <td>1</td>\n",
              "    </tr>\n",
              "    <tr>\n",
              "      <th>11</th>\n",
              "      <td>nublado</td>\n",
              "      <td>templado</td>\n",
              "      <td>si</td>\n",
              "      <td>2</td>\n",
              "      <td>2</td>\n",
              "      <td>1</td>\n",
              "    </tr>\n",
              "    <tr>\n",
              "      <th>12</th>\n",
              "      <td>nublado</td>\n",
              "      <td>caliente</td>\n",
              "      <td>si</td>\n",
              "      <td>2</td>\n",
              "      <td>0</td>\n",
              "      <td>1</td>\n",
              "    </tr>\n",
              "    <tr>\n",
              "      <th>13</th>\n",
              "      <td>lluvioso</td>\n",
              "      <td>templado</td>\n",
              "      <td>no</td>\n",
              "      <td>0</td>\n",
              "      <td>2</td>\n",
              "      <td>0</td>\n",
              "    </tr>\n",
              "  </tbody>\n",
              "</table>\n",
              "</div>"
            ],
            "text/plain": [
              "       clima temperatura jugar  clima2  temperatura2  jugar2\n",
              "0    soleado    caliente    no       3             0       0\n",
              "1    soleado    caliente    si       3             0       1\n",
              "2    nublado    caliente    si       2             0       1\n",
              "3   lluvioso    templado    si       0             2       1\n",
              "4    luvioso        frio    no       1             1       0\n",
              "5   lluvioso        frio    no       0             1       0\n",
              "6    nublado        frio    si       2             1       1\n",
              "7    soleado    templado    no       3             2       0\n",
              "8    soleado        frio    si       3             1       1\n",
              "9   lluvioso    templado    si       0             2       1\n",
              "10   soleado    templado    si       3             2       1\n",
              "11   nublado    templado    si       2             2       1\n",
              "12   nublado    caliente    si       2             0       1\n",
              "13  lluvioso    templado    no       0             2       0"
            ]
          },
          "execution_count": 10,
          "metadata": {},
          "output_type": "execute_result"
        }
      ],
      "source": [
        "# Convertir los valores de tipo cadena a tipo discreto (0, 1, 2)\n",
        "le = preprocessing.LabelEncoder()\n",
        "\n",
        "# Se adiciona una columna al dataframe con los valores discretos de Clima\n",
        "data['clima2'] = le.fit_transform(data['clima'])\n",
        "\n",
        "# Se adiciona una columna al dataframe con los valores discretos de Temperatura\n",
        "data['temperatura2'] = le.fit_transform(data['temperatura'])\n",
        "\n",
        "# Se adiciona una columna al dataframe con los valores discretos de Jugar\n",
        "data['jugar2'] = le.fit_transform(data['jugar'])\n",
        "\n",
        "data"
      ]
    },
    {
      "cell_type": "markdown",
      "metadata": {
        "id": "ixtq3Xprvzbw"
      },
      "source": [
        "#### Observo las estadisticas de los datos"
      ]
    },
    {
      "cell_type": "code",
      "execution_count": 11,
      "metadata": {
        "colab": {
          "base_uri": "https://localhost:8080/",
          "height": 300
        },
        "id": "MqKIrQBYvx2H",
        "outputId": "f3637307-dd7e-45ac-b75f-339066c98605"
      },
      "outputs": [
        {
          "data": {
            "text/html": [
              "<div>\n",
              "<style scoped>\n",
              "    .dataframe tbody tr th:only-of-type {\n",
              "        vertical-align: middle;\n",
              "    }\n",
              "\n",
              "    .dataframe tbody tr th {\n",
              "        vertical-align: top;\n",
              "    }\n",
              "\n",
              "    .dataframe thead th {\n",
              "        text-align: right;\n",
              "    }\n",
              "</style>\n",
              "<table border=\"1\" class=\"dataframe\">\n",
              "  <thead>\n",
              "    <tr style=\"text-align: right;\">\n",
              "      <th></th>\n",
              "      <th>clima2</th>\n",
              "      <th>temperatura2</th>\n",
              "      <th>jugar2</th>\n",
              "    </tr>\n",
              "  </thead>\n",
              "  <tbody>\n",
              "    <tr>\n",
              "      <th>count</th>\n",
              "      <td>14.000000</td>\n",
              "      <td>14.000000</td>\n",
              "      <td>14.000000</td>\n",
              "    </tr>\n",
              "    <tr>\n",
              "      <th>mean</th>\n",
              "      <td>1.714286</td>\n",
              "      <td>1.142857</td>\n",
              "      <td>0.642857</td>\n",
              "    </tr>\n",
              "    <tr>\n",
              "      <th>std</th>\n",
              "      <td>1.266647</td>\n",
              "      <td>0.864438</td>\n",
              "      <td>0.497245</td>\n",
              "    </tr>\n",
              "    <tr>\n",
              "      <th>min</th>\n",
              "      <td>0.000000</td>\n",
              "      <td>0.000000</td>\n",
              "      <td>0.000000</td>\n",
              "    </tr>\n",
              "    <tr>\n",
              "      <th>25%</th>\n",
              "      <td>0.250000</td>\n",
              "      <td>0.250000</td>\n",
              "      <td>0.000000</td>\n",
              "    </tr>\n",
              "    <tr>\n",
              "      <th>50%</th>\n",
              "      <td>2.000000</td>\n",
              "      <td>1.000000</td>\n",
              "      <td>1.000000</td>\n",
              "    </tr>\n",
              "    <tr>\n",
              "      <th>75%</th>\n",
              "      <td>3.000000</td>\n",
              "      <td>2.000000</td>\n",
              "      <td>1.000000</td>\n",
              "    </tr>\n",
              "    <tr>\n",
              "      <th>max</th>\n",
              "      <td>3.000000</td>\n",
              "      <td>2.000000</td>\n",
              "      <td>1.000000</td>\n",
              "    </tr>\n",
              "  </tbody>\n",
              "</table>\n",
              "</div>"
            ],
            "text/plain": [
              "          clima2  temperatura2     jugar2\n",
              "count  14.000000     14.000000  14.000000\n",
              "mean    1.714286      1.142857   0.642857\n",
              "std     1.266647      0.864438   0.497245\n",
              "min     0.000000      0.000000   0.000000\n",
              "25%     0.250000      0.250000   0.000000\n",
              "50%     2.000000      1.000000   1.000000\n",
              "75%     3.000000      2.000000   1.000000\n",
              "max     3.000000      2.000000   1.000000"
            ]
          },
          "execution_count": 11,
          "metadata": {},
          "output_type": "execute_result"
        }
      ],
      "source": [
        "# Solo valores discretos\n",
        "data.describe()"
      ]
    },
    {
      "cell_type": "code",
      "execution_count": 12,
      "metadata": {
        "colab": {
          "base_uri": "https://localhost:8080/",
          "height": 1000
        },
        "id": "MdQVzroLxsxT",
        "outputId": "c797b0ce-c4e4-4294-c2ca-9d99a2a284e1"
      },
      "outputs": [
        {
          "data": {
            "image/png": "[encoded data removed]",
            "text/plain": [
              "<Figure size 640x480 with 1 Axes>"
            ]
          },
          "metadata": {},
          "output_type": "display_data"
        },
        {
          "data": {
            "image/png": "[encoded data removed]",
            "text/plain": [
              "<Figure size 640x480 with 1 Axes>"
            ]
          },
          "metadata": {},
          "output_type": "display_data"
        },
        {
          "data": {
            "image/png": "[encoded data removed]",
            "text/plain": [
              "<Figure size 640x480 with 1 Axes>"
            ]
          },
          "metadata": {},
          "output_type": "display_data"
        }
      ],
      "source": [
        "# Histograma para ver la distribución de los datos en un espacio Clima\n",
        "plt.hist(data['clima2'], color = \"blue\")\n",
        "plt.xlabel(\"Clima\")\n",
        "plt.ylabel(\"Datos\")\n",
        "plt.show()\n",
        "\n",
        "# Temperatura\n",
        "plt.hist(data['temperatura2'], color = \"red\")\n",
        "plt.xlabel(\"Temperatura\")\n",
        "plt.ylabel(\"Datos\")\n",
        "plt.show()\n",
        "\n",
        "# Jugar\n",
        "plt.hist(data['jugar2'], color = \"orange\")\n",
        "plt.xlabel(\"Jugar\")\n",
        "plt.ylabel(\"Datos\")\n",
        "plt.show()"
      ]
    },
    {
      "cell_type": "markdown",
      "metadata": {
        "id": "F04KQ8HmymEJ"
      },
      "source": [
        "#### Creamos el modelo de predicción Naive Bayes"
      ]
    },
    {
      "cell_type": "code",
      "execution_count": 13,
      "metadata": {
        "colab": {
          "base_uri": "https://localhost:8080/"
        },
        "id": "gTeiVcPuypyc",
        "outputId": "9bf97243-a6f0-475a-d5b0-2f592db6314c"
      },
      "outputs": [
        {
          "name": "stdout",
          "output_type": "stream",
          "text": [
            "Predicción =  [1]\n"
          ]
        }
      ],
      "source": [
        "# Definir las características\n",
        "features = ['clima2','temperatura2']\n",
        "x = data[features].values\n",
        "\n",
        "# Definir la variable objetivo o clase\n",
        "y = data['jugar2']\n",
        "\n",
        "# Se crea el modelo\n",
        "nb = GaussianNB()\n",
        "\n",
        "# Se entrena el modelo\n",
        "nb.fit(x, y)\n",
        "\n",
        "# Se genera una predicción (nublado = 1, templado = 2)\n",
        "prediction = nb.predict([[1, 2]])\n",
        "\n",
        "print(\"Predicción = \", prediction)"
      ]
    },
    {
      "cell_type": "markdown",
      "metadata": {
        "id": "q4jgviUk0Df8"
      },
      "source": [
        "#### Separación de los datos (70% entrenamiento - 30% pruebas)"
      ]
    },
    {
      "cell_type": "code",
      "execution_count": 14,
      "metadata": {
        "id": "Uk-kbJ-N0w77"
      },
      "outputs": [],
      "source": [
        "# Definir las características\n",
        "features = ['clima2','temperatura2']\n",
        "x = data[features].values\n",
        "\n",
        "# Definir la variable objetivo o clase\n",
        "y = data['jugar2']\n",
        "\n",
        "# Separo los datos\n",
        "x_train, x_test, y_train, y_test = train_test_split(x, y, train_size= 0.7, random_state= 1)\n",
        "\n"
      ]
    },
    {
      "cell_type": "markdown",
      "metadata": {
        "id": "tGF5jaAK1phL"
      },
      "source": [
        "# Se realiza la predicción y se imprime el valor de la métrica (accuracy)"
      ]
    },
    {
      "cell_type": "code",
      "execution_count": 15,
      "metadata": {
        "colab": {
          "base_uri": "https://localhost:8080/"
        },
        "id": "oVrjpi_w1vMW",
        "outputId": "c6255482-58ec-4cfc-bd12-7849eaf064d4"
      },
      "outputs": [
        {
          "name": "stdout",
          "output_type": "stream",
          "text": [
            "Accuracy =  0.6\n"
          ]
        }
      ],
      "source": [
        "# Se crea el modelo\n",
        "nb = GaussianNB()\n",
        "\n",
        "# Se entrena el modelo\n",
        "nb.fit(x_train, y_train)\n",
        "\n",
        "# Se genera la predicción\n",
        "prediction = nb.predict(x_test)\n",
        "\n",
        "# Se imprime el valor de la métrica Accuracy\n",
        "print(\"Accuracy = \", accuracy_score(y_test, prediction))"
      ]
    }
  ],
  "metadata": {
    "colab": {
      "provenance": []
    },
    "kernelspec": {
      "display_name": "Python 3",
      "name": "python3"
    },
    "language_info": {
      "codemirror_mode": {
        "name": "ipython",
        "version": 3
      },
      "file_extension": ".py",
      "mimetype": "text/x-python",
      "name": "python",
      "nbconvert_exporter": "python",
      "pygments_lexer": "ipython3",
      "version": "3.11.3"
    }
  },
  "nbformat": 4,
  "nbformat_minor": 0
}
