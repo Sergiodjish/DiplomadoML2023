{
  "cells": [
    {
      "cell_type": "markdown",
      "metadata": {
        "id": "c5mE2aHJ7oQd"
      },
      "source": [
        "# Naive Bayes (balanceo y métricas)"
      ]
    },
    {
      "cell_type": "markdown",
      "metadata": {
        "id": "QrfkLUw_7qjQ"
      },
      "source": [
        "Ejercicio 3 : ¿comprar o alquilar casa?\n",
        "\n",
        "El ejercicio propone analizar las características para definir a partir de la probabilidad y el algoritmo de clasificación Naive Bayes si comprar o alquilar una casa."
      ]
    },
    {
      "cell_type": "markdown",
      "metadata": {
        "id": "V8b-0fV57vVE"
      },
      "source": [
        "Tareas\n",
        "\n",
        "Realizar el balanceo de los datos.\n",
        "\n",
        "\n",
        "*   Realizar el balanceo de los datos.\n",
        "*   Sumar los gastos y crear la respectiva característica.\n",
        "*   Generar la característica financiar, que corresponde al valor vivienda menos los ahorros.\n",
        "*   Las características para predecir son: gastos, ingresos, ahorros, hijos, trabajo, financiar.\n",
        "*   Aplicar las métricas: matriz de confusión, accuracy, precision, recall y f1 score.\n",
        "\n",
        "\n",
        "\n",
        "\n"
      ]
    },
    {
      "cell_type": "markdown",
      "metadata": {
        "id": "QnodS-y98GHh"
      },
      "source": [
        "| Variable       | Tipo             | Descripción                                         |\n",
        "|----------------|------------------|-----------------------------------------------------|\n",
        "| ingresos       | numérico entero  | Es el ingreso mensual de una familia                |\n",
        "| gastos_comunes | numérico entero  | Pagos relacionados con servicios públicos y otros gastos mensuales |"
      ]
    },
    {
      "cell_type": "markdown",
      "metadata": {
        "id": "3kBPwM8d8atK"
      },
      "source": [
        "### Importamos las librerías"
      ]
    },
    {
      "cell_type": "code",
      "execution_count": 1,
      "metadata": {
        "id": "I2CO_lX87ECm"
      },
      "outputs": [],
      "source": [
        "# Libreria para cálculos numéricos\n",
        "import numpy as np\n",
        "# Libreria para manipulación y análisis de datos\n",
        "import pandas as pd\n",
        "# Librería para las gráficas\n",
        "import matplotlib.pyplot as plt \n",
        "\n",
        "# Libreria para el preprocesamiento de los datos\n",
        "from sklearn import preprocessing\n",
        "# Libreria para el balanceo de los datos\n",
        "from sklearn.utils import resample\n",
        "# Librería para separar los datos de entrenamiento y de pruebas\n",
        "from sklearn.model_selection import train_test_split\n",
        "# Libreria para el modelo de clasificación Naive Bayes\n",
        "from sklearn.naive_bayes import GaussianNB\n",
        "# Libreria para la matriz de confusión\n",
        "from sklearn.metrics import confusion_matrix\n",
        "# Libreria para el reporte de clasificación\n",
        "from sklearn.metrics import classification_report\n",
        "# Librería para las métricas: Precision, Recall y F1 Score\n",
        "from sklearn.metrics import precision_score, recall_score, f1_score"
      ]
    },
    {
      "cell_type": "markdown",
      "metadata": {
        "id": "TKVQtUqO8jol"
      },
      "source": [
        "#### Cargamos los datos"
      ]
    },
    {
      "cell_type": "code",
      "execution_count": 2,
      "metadata": {
        "colab": {
          "base_uri": "https://localhost:8080/",
          "height": 424
        },
        "id": "2DRirFW88jb7",
        "outputId": "1a8c283a-6604-42b6-9f6c-e03234f27f87"
      },
      "outputs": [
        {
          "data": {
            "text/html": [
              "<div>\n",
              "<style scoped>\n",
              "    .dataframe tbody tr th:only-of-type {\n",
              "        vertical-align: middle;\n",
              "    }\n",
              "\n",
              "    .dataframe tbody tr th {\n",
              "        vertical-align: top;\n",
              "    }\n",
              "\n",
              "    .dataframe thead th {\n",
              "        text-align: right;\n",
              "    }\n",
              "</style>\n",
              "<table border=\"1\" class=\"dataframe\">\n",
              "  <thead>\n",
              "    <tr style=\"text-align: right;\">\n",
              "      <th></th>\n",
              "      <th>ingresos</th>\n",
              "      <th>gastos_comunes</th>\n",
              "      <th>pago_coche</th>\n",
              "      <th>gastos_otros</th>\n",
              "      <th>ahorros</th>\n",
              "      <th>vivienda</th>\n",
              "      <th>estado_civil</th>\n",
              "      <th>hijos</th>\n",
              "      <th>trabajo</th>\n",
              "      <th>comprar</th>\n",
              "    </tr>\n",
              "  </thead>\n",
              "  <tbody>\n",
              "    <tr>\n",
              "      <th>0</th>\n",
              "      <td>6000</td>\n",
              "      <td>1000</td>\n",
              "      <td>0</td>\n",
              "      <td>600</td>\n",
              "      <td>50000</td>\n",
              "      <td>400000</td>\n",
              "      <td>0</td>\n",
              "      <td>2</td>\n",
              "      <td>2</td>\n",
              "      <td>1</td>\n",
              "    </tr>\n",
              "    <tr>\n",
              "      <th>1</th>\n",
              "      <td>6745</td>\n",
              "      <td>944</td>\n",
              "      <td>123</td>\n",
              "      <td>429</td>\n",
              "      <td>43240</td>\n",
              "      <td>636897</td>\n",
              "      <td>1</td>\n",
              "      <td>3</td>\n",
              "      <td>6</td>\n",
              "      <td>0</td>\n",
              "    </tr>\n",
              "    <tr>\n",
              "      <th>2</th>\n",
              "      <td>6455</td>\n",
              "      <td>1033</td>\n",
              "      <td>98</td>\n",
              "      <td>795</td>\n",
              "      <td>57463</td>\n",
              "      <td>321779</td>\n",
              "      <td>2</td>\n",
              "      <td>1</td>\n",
              "      <td>8</td>\n",
              "      <td>1</td>\n",
              "    </tr>\n",
              "    <tr>\n",
              "      <th>3</th>\n",
              "      <td>7098</td>\n",
              "      <td>1278</td>\n",
              "      <td>15</td>\n",
              "      <td>254</td>\n",
              "      <td>54506</td>\n",
              "      <td>660933</td>\n",
              "      <td>0</td>\n",
              "      <td>0</td>\n",
              "      <td>3</td>\n",
              "      <td>0</td>\n",
              "    </tr>\n",
              "    <tr>\n",
              "      <th>4</th>\n",
              "      <td>6167</td>\n",
              "      <td>863</td>\n",
              "      <td>223</td>\n",
              "      <td>520</td>\n",
              "      <td>41512</td>\n",
              "      <td>348932</td>\n",
              "      <td>0</td>\n",
              "      <td>0</td>\n",
              "      <td>3</td>\n",
              "      <td>1</td>\n",
              "    </tr>\n",
              "    <tr>\n",
              "      <th>...</th>\n",
              "      <td>...</td>\n",
              "      <td>...</td>\n",
              "      <td>...</td>\n",
              "      <td>...</td>\n",
              "      <td>...</td>\n",
              "      <td>...</td>\n",
              "      <td>...</td>\n",
              "      <td>...</td>\n",
              "      <td>...</td>\n",
              "      <td>...</td>\n",
              "    </tr>\n",
              "    <tr>\n",
              "      <th>197</th>\n",
              "      <td>3831</td>\n",
              "      <td>690</td>\n",
              "      <td>352</td>\n",
              "      <td>488</td>\n",
              "      <td>10723</td>\n",
              "      <td>363120</td>\n",
              "      <td>0</td>\n",
              "      <td>0</td>\n",
              "      <td>2</td>\n",
              "      <td>0</td>\n",
              "    </tr>\n",
              "    <tr>\n",
              "      <th>198</th>\n",
              "      <td>3961</td>\n",
              "      <td>1030</td>\n",
              "      <td>270</td>\n",
              "      <td>475</td>\n",
              "      <td>21880</td>\n",
              "      <td>280421</td>\n",
              "      <td>2</td>\n",
              "      <td>3</td>\n",
              "      <td>8</td>\n",
              "      <td>0</td>\n",
              "    </tr>\n",
              "    <tr>\n",
              "      <th>199</th>\n",
              "      <td>3184</td>\n",
              "      <td>955</td>\n",
              "      <td>276</td>\n",
              "      <td>684</td>\n",
              "      <td>35565</td>\n",
              "      <td>388025</td>\n",
              "      <td>1</td>\n",
              "      <td>3</td>\n",
              "      <td>8</td>\n",
              "      <td>0</td>\n",
              "    </tr>\n",
              "    <tr>\n",
              "      <th>200</th>\n",
              "      <td>3334</td>\n",
              "      <td>867</td>\n",
              "      <td>369</td>\n",
              "      <td>652</td>\n",
              "      <td>19985</td>\n",
              "      <td>376892</td>\n",
              "      <td>1</td>\n",
              "      <td>2</td>\n",
              "      <td>5</td>\n",
              "      <td>0</td>\n",
              "    </tr>\n",
              "    <tr>\n",
              "      <th>201</th>\n",
              "      <td>3988</td>\n",
              "      <td>1157</td>\n",
              "      <td>105</td>\n",
              "      <td>382</td>\n",
              "      <td>11980</td>\n",
              "      <td>257580</td>\n",
              "      <td>0</td>\n",
              "      <td>0</td>\n",
              "      <td>4</td>\n",
              "      <td>0</td>\n",
              "    </tr>\n",
              "  </tbody>\n",
              "</table>\n",
              "<p>202 rows × 10 columns</p>\n",
              "</div>"
            ],
            "text/plain": [
              "     ingresos  gastos_comunes  pago_coche  gastos_otros  ahorros  vivienda   \n",
              "0        6000            1000           0           600    50000    400000  \\\n",
              "1        6745             944         123           429    43240    636897   \n",
              "2        6455            1033          98           795    57463    321779   \n",
              "3        7098            1278          15           254    54506    660933   \n",
              "4        6167             863         223           520    41512    348932   \n",
              "..        ...             ...         ...           ...      ...       ...   \n",
              "197      3831             690         352           488    10723    363120   \n",
              "198      3961            1030         270           475    21880    280421   \n",
              "199      3184             955         276           684    35565    388025   \n",
              "200      3334             867         369           652    19985    376892   \n",
              "201      3988            1157         105           382    11980    257580   \n",
              "\n",
              "     estado_civil  hijos  trabajo  comprar  \n",
              "0               0      2        2        1  \n",
              "1               1      3        6        0  \n",
              "2               2      1        8        1  \n",
              "3               0      0        3        0  \n",
              "4               0      0        3        1  \n",
              "..            ...    ...      ...      ...  \n",
              "197             0      0        2        0  \n",
              "198             2      3        8        0  \n",
              "199             1      3        8        0  \n",
              "200             1      2        5        0  \n",
              "201             0      0        4        0  \n",
              "\n",
              "[202 rows x 10 columns]"
            ]
          },
          "execution_count": 2,
          "metadata": {},
          "output_type": "execute_result"
        }
      ],
      "source": [
        "data = pd.read_csv(\"./data/comprar_alquilar.csv\")\n",
        "\n",
        "data"
      ]
    },
    {
      "cell_type": "markdown",
      "metadata": {
        "id": "bjsTabch8oNe"
      },
      "source": [
        "#### Preprocesamiento"
      ]
    },
    {
      "cell_type": "code",
      "execution_count": 3,
      "metadata": {
        "colab": {
          "base_uri": "https://localhost:8080/"
        },
        "id": "bOsOgT_Q8m1l",
        "outputId": "68dd33b3-3ab2-4644-871b-8a806cff74eb"
      },
      "outputs": [
        {
          "name": "stdout",
          "output_type": "stream",
          "text": [
            "Columna           NaN\n",
            "ingresos          0\n",
            "gastos_comunes    0\n",
            "pago_coche        0\n",
            "gastos_otros      0\n",
            "ahorros           0\n",
            "vivienda          0\n",
            "estado_civil      0\n",
            "hijos             0\n",
            "trabajo           0\n",
            "comprar           0\n",
            "dtype: int64\n"
          ]
        }
      ],
      "source": [
        "# Se observa si existen registros con NaN\n",
        "print(\"Columna           NaN\")\n",
        "print(data.isnull().sum(axis=0))\n",
        "\n",
        "# Si existen valores NaN se deben eliminar\n",
        "#data = data.dropna()"
      ]
    },
    {
      "cell_type": "code",
      "execution_count": 4,
      "metadata": {
        "colab": {
          "base_uri": "https://localhost:8080/",
          "height": 545
        },
        "id": "2mV0ssKZ9Lay",
        "outputId": "aaab0607-f0fc-4fe5-bf5b-c58a929a7a91"
      },
      "outputs": [
        {
          "data": {
            "image/png": "[encoded data removed]",
            "text/plain": [
              "<Figure size 640x480 with 9 Axes>"
            ]
          },
          "metadata": {},
          "output_type": "display_data"
        }
      ],
      "source": [
        "# Se genera el histograma de las características\n",
        "data_histograma = data\n",
        "data_histograma.drop(['comprar'], axis=1).hist()\n",
        "plt.rcParams['figure.figsize'] = (10, 8)\n",
        "plt.show()"
      ]
    },
    {
      "cell_type": "code",
      "execution_count": 5,
      "metadata": {
        "colab": {
          "base_uri": "https://localhost:8080/"
        },
        "id": "8KZIPqxv9M4i",
        "outputId": "1db521e0-3134-40dd-f2ba-30c2959fe971"
      },
      "outputs": [
        {
          "data": {
            "text/plain": [
              "comprar\n",
              "0    135\n",
              "1     67\n",
              "dtype: int64"
            ]
          },
          "execution_count": 5,
          "metadata": {},
          "output_type": "execute_result"
        }
      ],
      "source": [
        "# Se compara la cantidad de datos para la clase 0 y 1\n",
        "data.groupby('comprar').size()\n",
        "\n",
        "#data['comprar'].value_counts()"
      ]
    },
    {
      "cell_type": "code",
      "execution_count": 6,
      "metadata": {
        "colab": {
          "base_uri": "https://localhost:8080/"
        },
        "id": "F6WDfECL9QZw",
        "outputId": "cf9717b7-2b94-4498-bea5-ff1d38acc9d7"
      },
      "outputs": [
        {
          "data": {
            "text/plain": [
              "comprar\n",
              "0    135\n",
              "1    135\n",
              "Name: count, dtype: int64"
            ]
          },
          "execution_count": 6,
          "metadata": {},
          "output_type": "execute_result"
        }
      ],
      "source": [
        "# Como los datos estás desbalanceados, se utiliza la técnica de resample para balancear\n",
        "\n",
        "# OverSample: Se crean datos para balancear los registros al valor más alto (en este caso 0 con 135)\n",
        "# UnderSample: Se eliminan datos para balancear los registros al valor más bajo (en este 1 con 67)\n",
        "\n",
        "# Se utiliza oversample\n",
        "df_alto = data[data['comprar'] == 0]\n",
        "df_bajo = data[data['comprar'] == 1]\n",
        "\n",
        "data_oversample = resample(df_bajo,\n",
        "                    replace = True,\n",
        "                    n_samples = 135,\n",
        "                    random_state = 1)\n",
        "\n",
        "data2 = pd.concat([df_alto, data_oversample])\n",
        "\n",
        "data2['comprar'].value_counts()"
      ]
    },
    {
      "cell_type": "code",
      "execution_count": 7,
      "metadata": {
        "id": "RLezmlH49RrV"
      },
      "outputs": [],
      "source": [
        "# Se suma el valor de gastos comunes, coche y otros gastos para obtener el total de gastos \n",
        "# y se crea la característica de gastos\n",
        "data2['gastos'] = (data2['gastos_comunes'] + data2['pago_coche'] + data2['gastos_otros'])\n",
        "\n",
        "# Se crea la característica financiar que resta al valor de la vivienda el valor del ahorro\n",
        "data2['financiar'] = (data2['vivienda'] - data2['ahorros'])"
      ]
    },
    {
      "cell_type": "code",
      "execution_count": 8,
      "metadata": {
        "colab": {
          "base_uri": "https://localhost:8080/",
          "height": 300
        },
        "id": "wgcjGqrc9Tn5",
        "outputId": "2fdaa18f-df8f-4c64-b6f1-62e28bf38adc"
      },
      "outputs": [
        {
          "data": {
            "text/html": [
              "<div>\n",
              "<style scoped>\n",
              "    .dataframe tbody tr th:only-of-type {\n",
              "        vertical-align: middle;\n",
              "    }\n",
              "\n",
              "    .dataframe tbody tr th {\n",
              "        vertical-align: top;\n",
              "    }\n",
              "\n",
              "    .dataframe thead th {\n",
              "        text-align: right;\n",
              "    }\n",
              "</style>\n",
              "<table border=\"1\" class=\"dataframe\">\n",
              "  <thead>\n",
              "    <tr style=\"text-align: right;\">\n",
              "      <th></th>\n",
              "      <th>ingresos</th>\n",
              "      <th>gastos_comunes</th>\n",
              "      <th>pago_coche</th>\n",
              "      <th>gastos_otros</th>\n",
              "      <th>ahorros</th>\n",
              "      <th>vivienda</th>\n",
              "      <th>estado_civil</th>\n",
              "      <th>hijos</th>\n",
              "      <th>trabajo</th>\n",
              "      <th>comprar</th>\n",
              "      <th>gastos</th>\n",
              "      <th>financiar</th>\n",
              "    </tr>\n",
              "  </thead>\n",
              "  <tbody>\n",
              "    <tr>\n",
              "      <th>count</th>\n",
              "      <td>270.000000</td>\n",
              "      <td>270.000000</td>\n",
              "      <td>270.000000</td>\n",
              "      <td>270.000000</td>\n",
              "      <td>270.000000</td>\n",
              "      <td>270.000000</td>\n",
              "      <td>270.000000</td>\n",
              "      <td>270.000000</td>\n",
              "      <td>270.000000</td>\n",
              "      <td>270.000000</td>\n",
              "      <td>270.000000</td>\n",
              "      <td>270.000000</td>\n",
              "    </tr>\n",
              "    <tr>\n",
              "      <th>mean</th>\n",
              "      <td>5292.311111</td>\n",
              "      <td>978.348148</td>\n",
              "      <td>202.844444</td>\n",
              "      <td>510.929630</td>\n",
              "      <td>42089.270370</td>\n",
              "      <td>369569.881481</td>\n",
              "      <td>1.081481</td>\n",
              "      <td>1.381481</td>\n",
              "      <td>4.829630</td>\n",
              "      <td>0.500000</td>\n",
              "      <td>1692.122222</td>\n",
              "      <td>327480.611111</td>\n",
              "    </tr>\n",
              "    <tr>\n",
              "      <th>std</th>\n",
              "      <td>1638.901727</td>\n",
              "      <td>263.820960</td>\n",
              "      <td>120.497813</td>\n",
              "      <td>172.727342</td>\n",
              "      <td>16900.221776</td>\n",
              "      <td>128613.556428</td>\n",
              "      <td>0.804743</td>\n",
              "      <td>1.381916</td>\n",
              "      <td>2.438967</td>\n",
              "      <td>0.500929</td>\n",
              "      <td>323.862625</td>\n",
              "      <td>120200.048747</td>\n",
              "    </tr>\n",
              "    <tr>\n",
              "      <th>min</th>\n",
              "      <td>2008.000000</td>\n",
              "      <td>384.000000</td>\n",
              "      <td>0.000000</td>\n",
              "      <td>201.000000</td>\n",
              "      <td>10319.000000</td>\n",
              "      <td>176553.000000</td>\n",
              "      <td>0.000000</td>\n",
              "      <td>0.000000</td>\n",
              "      <td>0.000000</td>\n",
              "      <td>0.000000</td>\n",
              "      <td>1007.000000</td>\n",
              "      <td>154716.000000</td>\n",
              "    </tr>\n",
              "    <tr>\n",
              "      <th>25%</th>\n",
              "      <td>3997.250000</td>\n",
              "      <td>793.000000</td>\n",
              "      <td>99.000000</td>\n",
              "      <td>367.500000</td>\n",
              "      <td>28503.000000</td>\n",
              "      <td>283936.000000</td>\n",
              "      <td>0.000000</td>\n",
              "      <td>0.000000</td>\n",
              "      <td>3.000000</td>\n",
              "      <td>0.000000</td>\n",
              "      <td>1415.250000</td>\n",
              "      <td>241176.500000</td>\n",
              "    </tr>\n",
              "    <tr>\n",
              "      <th>50%</th>\n",
              "      <td>5659.500000</td>\n",
              "      <td>958.000000</td>\n",
              "      <td>199.500000</td>\n",
              "      <td>524.500000</td>\n",
              "      <td>41475.500000</td>\n",
              "      <td>336885.000000</td>\n",
              "      <td>1.000000</td>\n",
              "      <td>1.000000</td>\n",
              "      <td>5.000000</td>\n",
              "      <td>0.500000</td>\n",
              "      <td>1673.000000</td>\n",
              "      <td>297901.500000</td>\n",
              "    </tr>\n",
              "    <tr>\n",
              "      <th>75%</th>\n",
              "      <td>6515.000000</td>\n",
              "      <td>1170.250000</td>\n",
              "      <td>291.750000</td>\n",
              "      <td>656.750000</td>\n",
              "      <td>55687.500000</td>\n",
              "      <td>441181.000000</td>\n",
              "      <td>2.000000</td>\n",
              "      <td>3.000000</td>\n",
              "      <td>7.000000</td>\n",
              "      <td>1.000000</td>\n",
              "      <td>1927.500000</td>\n",
              "      <td>384290.250000</td>\n",
              "    </tr>\n",
              "    <tr>\n",
              "      <th>max</th>\n",
              "      <td>7984.000000</td>\n",
              "      <td>1585.000000</td>\n",
              "      <td>448.000000</td>\n",
              "      <td>828.000000</td>\n",
              "      <td>69934.000000</td>\n",
              "      <td>669540.000000</td>\n",
              "      <td>2.000000</td>\n",
              "      <td>4.000000</td>\n",
              "      <td>8.000000</td>\n",
              "      <td>1.000000</td>\n",
              "      <td>2543.000000</td>\n",
              "      <td>618621.000000</td>\n",
              "    </tr>\n",
              "  </tbody>\n",
              "</table>\n",
              "</div>"
            ],
            "text/plain": [
              "          ingresos  gastos_comunes  pago_coche  gastos_otros       ahorros   \n",
              "count   270.000000      270.000000  270.000000    270.000000    270.000000  \\\n",
              "mean   5292.311111      978.348148  202.844444    510.929630  42089.270370   \n",
              "std    1638.901727      263.820960  120.497813    172.727342  16900.221776   \n",
              "min    2008.000000      384.000000    0.000000    201.000000  10319.000000   \n",
              "25%    3997.250000      793.000000   99.000000    367.500000  28503.000000   \n",
              "50%    5659.500000      958.000000  199.500000    524.500000  41475.500000   \n",
              "75%    6515.000000     1170.250000  291.750000    656.750000  55687.500000   \n",
              "max    7984.000000     1585.000000  448.000000    828.000000  69934.000000   \n",
              "\n",
              "            vivienda  estado_civil       hijos     trabajo     comprar   \n",
              "count     270.000000    270.000000  270.000000  270.000000  270.000000  \\\n",
              "mean   369569.881481      1.081481    1.381481    4.829630    0.500000   \n",
              "std    128613.556428      0.804743    1.381916    2.438967    0.500929   \n",
              "min    176553.000000      0.000000    0.000000    0.000000    0.000000   \n",
              "25%    283936.000000      0.000000    0.000000    3.000000    0.000000   \n",
              "50%    336885.000000      1.000000    1.000000    5.000000    0.500000   \n",
              "75%    441181.000000      2.000000    3.000000    7.000000    1.000000   \n",
              "max    669540.000000      2.000000    4.000000    8.000000    1.000000   \n",
              "\n",
              "            gastos      financiar  \n",
              "count   270.000000     270.000000  \n",
              "mean   1692.122222  327480.611111  \n",
              "std     323.862625  120200.048747  \n",
              "min    1007.000000  154716.000000  \n",
              "25%    1415.250000  241176.500000  \n",
              "50%    1673.000000  297901.500000  \n",
              "75%    1927.500000  384290.250000  \n",
              "max    2543.000000  618621.000000  "
            ]
          },
          "execution_count": 8,
          "metadata": {},
          "output_type": "execute_result"
        }
      ],
      "source": [
        "# Se generan las estadísticas\n",
        "data2.describe()"
      ]
    },
    {
      "cell_type": "markdown",
      "metadata": {
        "id": "xIWC4Uh-9VU_"
      },
      "source": [
        "#### División del dataset en datos para entrenamiento y pruebas"
      ]
    },
    {
      "cell_type": "code",
      "execution_count": 9,
      "metadata": {
        "id": "taSWB1pm9WHD"
      },
      "outputs": [],
      "source": [
        "# Se definen las características\n",
        "features = ['gastos', 'ingresos', 'ahorros', 'hijos', 'trabajo', 'financiar']\n",
        "X = data2[features]\n",
        "# Se define la clase\n",
        "y = data2['comprar']\n",
        "\n",
        "# Se divide el dataset en datos para pruebas y entrenamiento\n",
        "X_train, X_test, y_train, y_test  = train_test_split(X, y, \n",
        "                                                     train_size= 0.8,\n",
        "                                                     random_state= 6)"
      ]
    },
    {
      "cell_type": "markdown",
      "metadata": {
        "id": "rWcIicWA9ZDt"
      },
      "source": [
        "#### Creamos el modelo y generamos la predicción"
      ]
    },
    {
      "cell_type": "code",
      "execution_count": 10,
      "metadata": {
        "id": "xNUjmfZ69bKB"
      },
      "outputs": [],
      "source": [
        "# Se crea el clasificador de tipo Naive Bayes\n",
        "nb = GaussianNB()\n",
        "\n",
        "# Se entrena el modelo\n",
        "nb.fit(X_train, y_train)\n",
        "\n",
        "# Se genera la predicción\n",
        "prediccion = nb.predict(X_test)"
      ]
    },
    {
      "cell_type": "markdown",
      "metadata": {
        "id": "VzGncReT9cX5"
      },
      "source": [
        "#### Métricas"
      ]
    },
    {
      "cell_type": "code",
      "execution_count": 11,
      "metadata": {
        "colab": {
          "base_uri": "https://localhost:8080/"
        },
        "id": "f0i9h2hp9eHd",
        "outputId": "977eff43-70b9-4180-fc57-88218f67b719"
      },
      "outputs": [
        {
          "name": "stdout",
          "output_type": "stream",
          "text": [
            "[[15  6]\n",
            " [ 7 26]]\n",
            "              precision    recall  f1-score   support\n",
            "\n",
            "           0       0.68      0.71      0.70        21\n",
            "           1       0.81      0.79      0.80        33\n",
            "\n",
            "    accuracy                           0.76        54\n",
            "   macro avg       0.75      0.75      0.75        54\n",
            "weighted avg       0.76      0.76      0.76        54\n",
            "\n"
          ]
        }
      ],
      "source": [
        "# Se genera la matriz de confusión\n",
        "print(confusion_matrix(y_test, prediccion))\n",
        "\n",
        "# Se genera el reporte de clasificación\n",
        "print(classification_report(y_test, prediccion))"
      ]
    },
    {
      "cell_type": "code",
      "execution_count": 12,
      "metadata": {
        "colab": {
          "base_uri": "https://localhost:8080/"
        },
        "id": "KE9jClF99ggN",
        "outputId": "2e8913b6-bc77-4b58-c2ee-10ebaa6ae420"
      },
      "outputs": [
        {
          "name": "stdout",
          "output_type": "stream",
          "text": [
            "Precision:  0.81\n",
            "Recall:  0.79\n",
            "F1 Score:  0.8\n"
          ]
        }
      ],
      "source": [
        "# Se genera la precision\n",
        "print(\"Precision: \", round(precision_score(y_test, prediccion),2))\n",
        "\n",
        "# Se genera el recall\n",
        "print(\"Recall: \", round(recall_score(y_test, prediccion),2))\n",
        "\n",
        "# Se genera el F1 Score\n",
        "print(\"F1 Score: \", round(f1_score(y_test, prediccion),2))"
      ]
    },
    {
      "cell_type": "markdown",
      "metadata": {
        "id": "gFHlNCnP9iBM"
      },
      "source": [
        "#### Predicción de prueba"
      ]
    },
    {
      "cell_type": "code",
      "execution_count": 13,
      "metadata": {
        "colab": {
          "base_uri": "https://localhost:8080/"
        },
        "id": "DazO56Qc9i3r",
        "outputId": "f6af137d-6f12-4952-ed82-e8ca520b5b52"
      },
      "outputs": [
        {
          "name": "stdout",
          "output_type": "stream",
          "text": [
            "Predicción:  [1]\n"
          ]
        }
      ],
      "source": [
        "# gastos = 1600\n",
        "# ingresos = 6000\n",
        "# ahorros = 50000 \n",
        "# hijos = 2\n",
        "# trabajo = 2\n",
        "# financiar = 350000\n",
        "prueba = pd.DataFrame({'gastos':    [1600],\n",
        "                       'ingresos':  [6000], \n",
        "                       'ahorros':   [50000], \n",
        "                       'hijos':     [2],\n",
        "                       'trabajo':   [2],\n",
        "                       'financiar': [350000]})\n",
        "print(\"Predicción: \", nb.predict(prueba))"
      ]
    },
    {
      "cell_type": "code",
      "execution_count": 14,
      "metadata": {
        "colab": {
          "base_uri": "https://localhost:8080/"
        },
        "id": "lO74M5B29nxf",
        "outputId": "d4b30486-3ace-4027-c71b-51f71c176d41"
      },
      "outputs": [
        {
          "name": "stdout",
          "output_type": "stream",
          "text": [
            "Predicción:  [0]\n"
          ]
        }
      ],
      "source": [
        "# gastos = 1496\n",
        "# ingresos = 6745\n",
        "# ahorros = 43240 \n",
        "# hijos = 3\n",
        "# trabajo = 6\n",
        "# financiar = 593657\n",
        "prueba = pd.DataFrame({'gastos':    [1496],\n",
        "                       'ingresos':  [6745], \n",
        "                       'ahorros':   [43240], \n",
        "                       'hijos':     [3],\n",
        "                       'trabajo':   [6],\n",
        "                       'financiar': [593657]})\n",
        "print(\"Predicción: \", nb.predict(prueba))"
      ]
    }
  ],
  "metadata": {
    "colab": {
      "provenance": []
    },
    "kernelspec": {
      "display_name": "Python 3",
      "name": "python3"
    },
    "language_info": {
      "codemirror_mode": {
        "name": "ipython",
        "version": 3
      },
      "file_extension": ".py",
      "mimetype": "text/x-python",
      "name": "python",
      "nbconvert_exporter": "python",
      "pygments_lexer": "ipython3",
      "version": "3.11.3"
    }
  },
  "nbformat": 4,
  "nbformat_minor": 0
}
