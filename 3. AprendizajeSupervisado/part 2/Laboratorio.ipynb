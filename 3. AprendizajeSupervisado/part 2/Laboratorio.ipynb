{
  "cells": [
    {
      "cell_type": "markdown",
      "metadata": {
        "id": "uZPrLlaPZ-tX"
      },
      "source": [
        "## Clasificación desempeño del estudiante (datos sin Indicador de Logro)"
      ]
    },
    {
      "cell_type": "markdown",
      "metadata": {
        "id": "MPBE8cDoZ-kk"
      },
      "source": [
        "El modelo predice la calificación final del estudiante a partir de un algoritmo de clasificación, el umbral de desempeño es:\n",
        "\n",
        "*   0 - Bajo desempeño (calificación entre 0.0 y 2.9)\n",
        "*   1 - Medio desempeño (calificación entre 3.0 y 4.0)\n",
        "*   2 - Alto desempeño (calificación entre 4.1 y 5.0)"
      ]
    },
    {
      "cell_type": "markdown",
      "metadata": {
        "id": "bJ5WYxCwaKs7"
      },
      "source": [
        "Tareas\n",
        "* Generar el balanceo de los datos.\n",
        "* Seleccionar las mejores características.\n",
        "* Dividir los datos en 80% para entrenamiento y 20% para pruebas\n",
        "* Aplicar hiperparámetros (gridsearch) a los algoritmos: Naive Bayes (NB), SVM, Árbol de decisión (DT) y Bosque Aleatorio (RF).\n",
        "* Entrenar los modelos con las mejores características.\n",
        "* Obtener las métricas: matriz de confusión, accuracy, precisión, recall y f1 score.\n",
        "* Crear una lista con los resultados f1 score obtenidos para los 4 algoritmos.\n",
        "* Generar una gráfica de barras para identificar cúal fue el algoritmo que obtuvo los mejores resultados."
      ]
    },
    {
      "cell_type": "markdown",
      "metadata": {
        "id": "JeZKLpj3aW_h"
      },
      "source": [
        "Diccionario de datos"
      ]
    },
    {
      "cell_type": "markdown",
      "metadata": {
        "id": "bJTDAVRjaZAL"
      },
      "source": [
        "Se importan las librerias"
      ]
    },
    {
      "cell_type": "code",
      "execution_count": 1,
      "metadata": {
        "id": "fYH-ckHrZ6Nf"
      },
      "outputs": [],
      "source": [
        "# Se importan las librerias\n",
        "import numpy as np\n",
        "import pandas as pd\n",
        "import seaborn as sb\n",
        "import matplotlib.pyplot as plt\n",
        "\n",
        "\n",
        "# Modelos Clasificación: Naive Bayes (NB), SVM, Árboles de Decisión (DT), Bosque Aleatorio (RF) \n",
        "# Libreria para Naive Bayes\n",
        "from sklearn.naive_bayes import GaussianNB\n",
        "# Libreria para SVM\n",
        "from sklearn.svm import SVC\n",
        "# Libreria para árboles de decisión\n",
        "from sklearn.tree import DecisionTreeClassifier\n",
        "# Libreria para Bosque Aleatorio\n",
        "from sklearn.ensemble import RandomForestClassifier\n",
        "\n",
        "# Libreria para el resample \n",
        "from sklearn.utils import resample\n",
        "# Mejores características - Eli5\n",
        "#pip install eli5\n",
        "from eli5 import show_weights \n",
        "# Libreria para dividir los datos de entrenamiento y de pruebas\n",
        "from sklearn.model_selection import train_test_split\n",
        "# Genera la matriz de confusión\n",
        "from sklearn.metrics import confusion_matrix\n",
        "# Gerera el reporte de la clasificación\n",
        "from sklearn.metrics import classification_report\n",
        "# Librerias para métricas del modelo\n",
        "from sklearn.metrics import precision_score, recall_score, f1_score, accuracy_score\n",
        "\n",
        "# Libreria para calcular la media y la desviación estándar utilizadas en las características\n",
        "from sklearn.preprocessing import StandardScaler\n",
        "# Libreria de búsqueda en cuadrícula\n",
        "from sklearn.model_selection import GridSearchCV"
      ]
    },
    {
      "cell_type": "markdown",
      "metadata": {
        "id": "yBJXTDB0ad5b"
      },
      "source": [
        "## Se cargan los datos al dataframe"
      ]
    },
    {
      "cell_type": "code",
      "execution_count": 2,
      "metadata": {
        "colab": {
          "base_uri": "https://localhost:8080/",
          "height": 424
        },
        "id": "NU4g6d9Eadar",
        "outputId": "6d4c9808-e2bd-4e2d-c39b-007537b9f2aa"
      },
      "outputs": [
        {
          "data": {
            "text/html": [
              "<div>\n",
              "<style scoped>\n",
              "    .dataframe tbody tr th:only-of-type {\n",
              "        vertical-align: middle;\n",
              "    }\n",
              "\n",
              "    .dataframe tbody tr th {\n",
              "        vertical-align: top;\n",
              "    }\n",
              "\n",
              "    .dataframe thead th {\n",
              "        text-align: right;\n",
              "    }\n",
              "</style>\n",
              "<table border=\"1\" class=\"dataframe\">\n",
              "  <thead>\n",
              "    <tr style=\"text-align: right;\">\n",
              "      <th></th>\n",
              "      <th>lab_1</th>\n",
              "      <th>tiempo_entrega_lab_1</th>\n",
              "      <th>intentos_lab_1</th>\n",
              "      <th>resultado_lab_1</th>\n",
              "      <th>lab_2</th>\n",
              "      <th>lab_3</th>\n",
              "      <th>grade</th>\n",
              "    </tr>\n",
              "  </thead>\n",
              "  <tbody>\n",
              "    <tr>\n",
              "      <th>0</th>\n",
              "      <td>4.4</td>\n",
              "      <td>0.63</td>\n",
              "      <td>2</td>\n",
              "      <td>3</td>\n",
              "      <td>4.4</td>\n",
              "      <td>4.9</td>\n",
              "      <td>2</td>\n",
              "    </tr>\n",
              "    <tr>\n",
              "      <th>1</th>\n",
              "      <td>3.3</td>\n",
              "      <td>0.33</td>\n",
              "      <td>1</td>\n",
              "      <td>3</td>\n",
              "      <td>3.3</td>\n",
              "      <td>3.7</td>\n",
              "      <td>1</td>\n",
              "    </tr>\n",
              "    <tr>\n",
              "      <th>2</th>\n",
              "      <td>4.7</td>\n",
              "      <td>0.78</td>\n",
              "      <td>3</td>\n",
              "      <td>3</td>\n",
              "      <td>4.3</td>\n",
              "      <td>4.8</td>\n",
              "      <td>2</td>\n",
              "    </tr>\n",
              "    <tr>\n",
              "      <th>3</th>\n",
              "      <td>4.3</td>\n",
              "      <td>0.28</td>\n",
              "      <td>1</td>\n",
              "      <td>3</td>\n",
              "      <td>4.0</td>\n",
              "      <td>4.9</td>\n",
              "      <td>2</td>\n",
              "    </tr>\n",
              "    <tr>\n",
              "      <th>4</th>\n",
              "      <td>4.2</td>\n",
              "      <td>0.50</td>\n",
              "      <td>10</td>\n",
              "      <td>3</td>\n",
              "      <td>3.1</td>\n",
              "      <td>4.9</td>\n",
              "      <td>1</td>\n",
              "    </tr>\n",
              "    <tr>\n",
              "      <th>...</th>\n",
              "      <td>...</td>\n",
              "      <td>...</td>\n",
              "      <td>...</td>\n",
              "      <td>...</td>\n",
              "      <td>...</td>\n",
              "      <td>...</td>\n",
              "      <td>...</td>\n",
              "    </tr>\n",
              "    <tr>\n",
              "      <th>463</th>\n",
              "      <td>2.2</td>\n",
              "      <td>3.89</td>\n",
              "      <td>6</td>\n",
              "      <td>3</td>\n",
              "      <td>3.0</td>\n",
              "      <td>3.5</td>\n",
              "      <td>1</td>\n",
              "    </tr>\n",
              "    <tr>\n",
              "      <th>464</th>\n",
              "      <td>4.6</td>\n",
              "      <td>0.35</td>\n",
              "      <td>1</td>\n",
              "      <td>0</td>\n",
              "      <td>0.0</td>\n",
              "      <td>0.0</td>\n",
              "      <td>0</td>\n",
              "    </tr>\n",
              "    <tr>\n",
              "      <th>465</th>\n",
              "      <td>4.6</td>\n",
              "      <td>0.48</td>\n",
              "      <td>1</td>\n",
              "      <td>0</td>\n",
              "      <td>5.0</td>\n",
              "      <td>0.0</td>\n",
              "      <td>1</td>\n",
              "    </tr>\n",
              "    <tr>\n",
              "      <th>466</th>\n",
              "      <td>4.6</td>\n",
              "      <td>0.00</td>\n",
              "      <td>0</td>\n",
              "      <td>0</td>\n",
              "      <td>0.0</td>\n",
              "      <td>0.0</td>\n",
              "      <td>0</td>\n",
              "    </tr>\n",
              "    <tr>\n",
              "      <th>467</th>\n",
              "      <td>4.5</td>\n",
              "      <td>0.00</td>\n",
              "      <td>0</td>\n",
              "      <td>0</td>\n",
              "      <td>0.0</td>\n",
              "      <td>0.0</td>\n",
              "      <td>0</td>\n",
              "    </tr>\n",
              "  </tbody>\n",
              "</table>\n",
              "<p>468 rows × 7 columns</p>\n",
              "</div>"
            ],
            "text/plain": [
              "     lab_1  tiempo_entrega_lab_1  intentos_lab_1  resultado_lab_1  lab_2   \n",
              "0      4.4                  0.63               2                3    4.4  \\\n",
              "1      3.3                  0.33               1                3    3.3   \n",
              "2      4.7                  0.78               3                3    4.3   \n",
              "3      4.3                  0.28               1                3    4.0   \n",
              "4      4.2                  0.50              10                3    3.1   \n",
              "..     ...                   ...             ...              ...    ...   \n",
              "463    2.2                  3.89               6                3    3.0   \n",
              "464    4.6                  0.35               1                0    0.0   \n",
              "465    4.6                  0.48               1                0    5.0   \n",
              "466    4.6                  0.00               0                0    0.0   \n",
              "467    4.5                  0.00               0                0    0.0   \n",
              "\n",
              "     lab_3  grade  \n",
              "0      4.9      2  \n",
              "1      3.7      1  \n",
              "2      4.8      2  \n",
              "3      4.9      2  \n",
              "4      4.9      1  \n",
              "..     ...    ...  \n",
              "463    3.5      1  \n",
              "464    0.0      0  \n",
              "465    0.0      1  \n",
              "466    0.0      0  \n",
              "467    0.0      0  \n",
              "\n",
              "[468 rows x 7 columns]"
            ]
          },
          "execution_count": 2,
          "metadata": {},
          "output_type": "execute_result"
        }
      ],
      "source": [
        "# Se cargan los registros en un DataFrame \n",
        "data = pd.read_csv(\"./data/student_performance.csv\", sep=\";\")\n",
        "\n",
        "data"
      ]
    },
    {
      "cell_type": "markdown",
      "metadata": {
        "id": "X49AwQnBalc8"
      },
      "source": [
        "## Pre procesamiento de los datos"
      ]
    },
    {
      "cell_type": "code",
      "execution_count": 3,
      "metadata": {
        "colab": {
          "base_uri": "https://localhost:8080/"
        },
        "id": "Q3JDno6cakZ9",
        "outputId": "ea55bf71-55ed-4201-94de-6b9522650c49"
      },
      "outputs": [
        {
          "name": "stdout",
          "output_type": "stream",
          "text": [
            "Columna         Cantidad NaN\n",
            "lab_1                   0\n",
            "tiempo_entrega_lab_1    0\n",
            "intentos_lab_1          0\n",
            "resultado_lab_1         0\n",
            "lab_2                   0\n",
            "lab_3                   0\n",
            "grade                   0\n",
            "dtype: int64\n",
            "(468, 7)\n"
          ]
        }
      ],
      "source": [
        "# Se buscan registros NaN para eliminarlos\n",
        "print('Columna         Cantidad NaN')\n",
        "print(data.isnull().sum(axis = 0))\n",
        "print(data.shape)\n",
        "\n",
        "# Se eliminan los registros NA\n",
        "#data = data.dropna()"
      ]
    },
    {
      "cell_type": "code",
      "execution_count": 4,
      "metadata": {
        "colab": {
          "base_uri": "https://localhost:8080/"
        },
        "id": "evODScfqapfv",
        "outputId": "092ca029-237d-431a-d0da-3a6bd03838e2"
      },
      "outputs": [
        {
          "data": {
            "text/plain": [
              "grade\n",
              "0    162\n",
              "1    200\n",
              "2    106\n",
              "dtype: int64"
            ]
          },
          "execution_count": 4,
          "metadata": {},
          "output_type": "execute_result"
        }
      ],
      "source": [
        "# Se consulta la cantidad de registros para Grade\n",
        "data.groupby('grade').size()"
      ]
    },
    {
      "cell_type": "code",
      "execution_count": 5,
      "metadata": {
        "colab": {
          "base_uri": "https://localhost:8080/"
        },
        "id": "HNT03N3Paq6u",
        "outputId": "20bd55d5-7592-4776-dc6e-2c35a03eefde"
      },
      "outputs": [
        {
          "data": {
            "text/plain": [
              "grade\n",
              "1    200\n",
              "0    200\n",
              "2    200\n",
              "Name: count, dtype: int64"
            ]
          },
          "execution_count": 5,
          "metadata": {},
          "output_type": "execute_result"
        }
      ],
      "source": [
        "# Se realiza el resample \n",
        "df_alto = data[data['grade'] == 0]\n",
        "df_bajo = data[data['grade'] == 1]\n",
        "df_medio = data[data['grade'] == 2]\n",
        "\n",
        "dftest = resample(df_alto,\n",
        "                    replace = True,\n",
        "                    n_samples = 200,\n",
        "                    random_state = 1)\n",
        "\n",
        "dftest2 = resample(df_medio,\n",
        "                    replace = True,\n",
        "                    n_samples = 200,\n",
        "                    random_state = 1)\n",
        "\n",
        "data2 = pd.concat([df_bajo, dftest, dftest2])\n",
        "\n",
        "#dftest['grade'].value_counts()\n",
        "#dftest2['grade'].value_counts()\n",
        "data2['grade'].value_counts()"
      ]
    },
    {
      "cell_type": "code",
      "execution_count": 6,
      "metadata": {
        "colab": {
          "base_uri": "https://localhost:8080/",
          "height": 300
        },
        "id": "YA457DS5ar_c",
        "outputId": "8527c5fa-c3b0-4529-8750-9d7f251e544f"
      },
      "outputs": [
        {
          "data": {
            "text/html": [
              "<div>\n",
              "<style scoped>\n",
              "    .dataframe tbody tr th:only-of-type {\n",
              "        vertical-align: middle;\n",
              "    }\n",
              "\n",
              "    .dataframe tbody tr th {\n",
              "        vertical-align: top;\n",
              "    }\n",
              "\n",
              "    .dataframe thead th {\n",
              "        text-align: right;\n",
              "    }\n",
              "</style>\n",
              "<table border=\"1\" class=\"dataframe\">\n",
              "  <thead>\n",
              "    <tr style=\"text-align: right;\">\n",
              "      <th></th>\n",
              "      <th>lab_1</th>\n",
              "      <th>tiempo_entrega_lab_1</th>\n",
              "      <th>intentos_lab_1</th>\n",
              "      <th>resultado_lab_1</th>\n",
              "      <th>lab_2</th>\n",
              "      <th>lab_3</th>\n",
              "      <th>grade</th>\n",
              "    </tr>\n",
              "  </thead>\n",
              "  <tbody>\n",
              "    <tr>\n",
              "      <th>count</th>\n",
              "      <td>600.000000</td>\n",
              "      <td>600.000000</td>\n",
              "      <td>600.000000</td>\n",
              "      <td>600.000000</td>\n",
              "      <td>600.00000</td>\n",
              "      <td>600.000000</td>\n",
              "      <td>600.000000</td>\n",
              "    </tr>\n",
              "    <tr>\n",
              "      <th>mean</th>\n",
              "      <td>2.954000</td>\n",
              "      <td>2.202933</td>\n",
              "      <td>3.060000</td>\n",
              "      <td>2.621667</td>\n",
              "      <td>3.29350</td>\n",
              "      <td>4.044833</td>\n",
              "      <td>1.000000</td>\n",
              "    </tr>\n",
              "    <tr>\n",
              "      <th>std</th>\n",
              "      <td>1.854422</td>\n",
              "      <td>4.200492</td>\n",
              "      <td>4.514092</td>\n",
              "      <td>0.888733</td>\n",
              "      <td>1.83559</td>\n",
              "      <td>1.590888</td>\n",
              "      <td>0.817178</td>\n",
              "    </tr>\n",
              "    <tr>\n",
              "      <th>min</th>\n",
              "      <td>0.000000</td>\n",
              "      <td>0.000000</td>\n",
              "      <td>0.000000</td>\n",
              "      <td>0.000000</td>\n",
              "      <td>0.00000</td>\n",
              "      <td>0.000000</td>\n",
              "      <td>0.000000</td>\n",
              "    </tr>\n",
              "    <tr>\n",
              "      <th>25%</th>\n",
              "      <td>1.000000</td>\n",
              "      <td>0.300000</td>\n",
              "      <td>1.000000</td>\n",
              "      <td>3.000000</td>\n",
              "      <td>1.60000</td>\n",
              "      <td>4.000000</td>\n",
              "      <td>0.000000</td>\n",
              "    </tr>\n",
              "    <tr>\n",
              "      <th>50%</th>\n",
              "      <td>3.550000</td>\n",
              "      <td>0.480000</td>\n",
              "      <td>1.000000</td>\n",
              "      <td>3.000000</td>\n",
              "      <td>4.00000</td>\n",
              "      <td>4.900000</td>\n",
              "      <td>1.000000</td>\n",
              "    </tr>\n",
              "    <tr>\n",
              "      <th>75%</th>\n",
              "      <td>4.700000</td>\n",
              "      <td>1.000000</td>\n",
              "      <td>3.000000</td>\n",
              "      <td>3.000000</td>\n",
              "      <td>4.90000</td>\n",
              "      <td>5.000000</td>\n",
              "      <td>2.000000</td>\n",
              "    </tr>\n",
              "    <tr>\n",
              "      <th>max</th>\n",
              "      <td>5.000000</td>\n",
              "      <td>22.080000</td>\n",
              "      <td>39.000000</td>\n",
              "      <td>3.000000</td>\n",
              "      <td>5.00000</td>\n",
              "      <td>5.000000</td>\n",
              "      <td>2.000000</td>\n",
              "    </tr>\n",
              "  </tbody>\n",
              "</table>\n",
              "</div>"
            ],
            "text/plain": [
              "            lab_1  tiempo_entrega_lab_1  intentos_lab_1  resultado_lab_1   \n",
              "count  600.000000            600.000000      600.000000       600.000000  \\\n",
              "mean     2.954000              2.202933        3.060000         2.621667   \n",
              "std      1.854422              4.200492        4.514092         0.888733   \n",
              "min      0.000000              0.000000        0.000000         0.000000   \n",
              "25%      1.000000              0.300000        1.000000         3.000000   \n",
              "50%      3.550000              0.480000        1.000000         3.000000   \n",
              "75%      4.700000              1.000000        3.000000         3.000000   \n",
              "max      5.000000             22.080000       39.000000         3.000000   \n",
              "\n",
              "           lab_2       lab_3       grade  \n",
              "count  600.00000  600.000000  600.000000  \n",
              "mean     3.29350    4.044833    1.000000  \n",
              "std      1.83559    1.590888    0.817178  \n",
              "min      0.00000    0.000000    0.000000  \n",
              "25%      1.60000    4.000000    0.000000  \n",
              "50%      4.00000    4.900000    1.000000  \n",
              "75%      4.90000    5.000000    2.000000  \n",
              "max      5.00000    5.000000    2.000000  "
            ]
          },
          "execution_count": 6,
          "metadata": {},
          "output_type": "execute_result"
        }
      ],
      "source": [
        "# Se genera las estadísticas del DataFrame\n",
        "data2.describe()"
      ]
    },
    {
      "cell_type": "code",
      "execution_count": 7,
      "metadata": {
        "colab": {
          "base_uri": "https://localhost:8080/"
        },
        "id": "EbyB29FAatC2",
        "outputId": "26e22539-fbd9-42a2-f14e-227db32673e8"
      },
      "outputs": [
        {
          "data": {
            "text/plain": [
              "lab_1                   float64\n",
              "tiempo_entrega_lab_1    float64\n",
              "intentos_lab_1            int64\n",
              "resultado_lab_1           int64\n",
              "lab_2                   float64\n",
              "lab_3                   float64\n",
              "grade                     int64\n",
              "dtype: object"
            ]
          },
          "execution_count": 7,
          "metadata": {},
          "output_type": "execute_result"
        }
      ],
      "source": [
        "# Se observa el tipo de datos de las columnas\n",
        "data2.dtypes"
      ]
    },
    {
      "cell_type": "markdown",
      "metadata": {
        "id": "Jl64yVTeavVl"
      },
      "source": [
        "## Predicción con todas las características\n",
        "### Se crea el set de entrenamiento y de pruebas\n"
      ]
    },
    {
      "cell_type": "code",
      "execution_count": 8,
      "metadata": {
        "id": "pbLJqALUaxzC"
      },
      "outputs": [],
      "source": [
        "# Se definen los valores de las características\t\n",
        "features = ['lab_1','tiempo_entrega_lab_1','intentos_lab_1','resultado_lab_1',\n",
        "            'lab_2','lab_3']\n",
        "\t\t\t\n",
        "# calificación\n",
        "X = data2[features]\n",
        "# se define la variable objetivo\n",
        "y = data2['grade'].values\n",
        "\n",
        "# Se dividen los datos para el entrenamiento (80% entrenamiento y 20% pruebas)\n",
        "X_train, X_test, y_train, y_test  = train_test_split(X, y, \n",
        "                                                     train_size= 0.8,\n",
        "                                                     random_state= 6)"
      ]
    },
    {
      "cell_type": "markdown",
      "metadata": {
        "id": "iaQo7EI5azdQ"
      },
      "source": [
        "### Mejores características Eli5"
      ]
    },
    {
      "cell_type": "code",
      "execution_count": 9,
      "metadata": {
        "colab": {
          "base_uri": "https://localhost:8080/",
          "height": 1000
        },
        "id": "C_z73VJBa1R5",
        "outputId": "15e6d744-c6af-45fa-e7e7-1c4f5a8ccc03"
      },
      "outputs": [
        {
          "data": {
            "text/html": [
              "\n",
              "    <style>\n",
              "    table.eli5-weights tr:hover {\n",
              "        filter: brightness(85%);\n",
              "    }\n",
              "</style>\n",
              "\n",
              "\n",
              "\n",
              "    \n",
              "\n",
              "    \n",
              "\n",
              "    \n",
              "\n",
              "    \n",
              "\n",
              "    \n",
              "\n",
              "    \n",
              "\n",
              "\n",
              "    \n",
              "\n",
              "    \n",
              "\n",
              "    \n",
              "\n",
              "    \n",
              "\n",
              "    \n",
              "\n",
              "    \n",
              "\n",
              "\n",
              "    \n",
              "\n",
              "    \n",
              "\n",
              "    \n",
              "\n",
              "    \n",
              "\n",
              "    \n",
              "        <table class=\"eli5-weights eli5-feature-importances\" style=\"border-collapse: collapse; border: none; margin-top: 0em; table-layout: auto;\">\n",
              "    <thead>\n",
              "    <tr style=\"border: none;\">\n",
              "        <th style=\"padding: 0 1em 0 0.5em; text-align: right; border: none;\">Weight</th>\n",
              "        <th style=\"padding: 0 0.5em 0 0.5em; text-align: left; border: none;\">Feature</th>\n",
              "    </tr>\n",
              "    </thead>\n",
              "    <tbody>\n",
              "    \n",
              "        <tr style=\"background-color: hsl(120, 100.00%, 80.00%); border: none;\">\n",
              "            <td style=\"padding: 0 1em 0 0.5em; text-align: right; border: none;\">\n",
              "                0.4509\n",
              "                \n",
              "            </td>\n",
              "            <td style=\"padding: 0 0.5em 0 0.5em; text-align: left; border: none;\">\n",
              "                lab_1\n",
              "            </td>\n",
              "        </tr>\n",
              "    \n",
              "        <tr style=\"background-color: hsl(120, 100.00%, 83.21%); border: none;\">\n",
              "            <td style=\"padding: 0 1em 0 0.5em; text-align: right; border: none;\">\n",
              "                0.3513\n",
              "                \n",
              "            </td>\n",
              "            <td style=\"padding: 0 0.5em 0 0.5em; text-align: left; border: none;\">\n",
              "                lab_2\n",
              "            </td>\n",
              "        </tr>\n",
              "    \n",
              "        <tr style=\"background-color: hsl(120, 100.00%, 92.90%); border: none;\">\n",
              "            <td style=\"padding: 0 1em 0 0.5em; text-align: right; border: none;\">\n",
              "                0.1027\n",
              "                \n",
              "            </td>\n",
              "            <td style=\"padding: 0 0.5em 0 0.5em; text-align: left; border: none;\">\n",
              "                lab_3\n",
              "            </td>\n",
              "        </tr>\n",
              "    \n",
              "        <tr style=\"background-color: hsl(120, 100.00%, 96.08%); border: none;\">\n",
              "            <td style=\"padding: 0 1em 0 0.5em; text-align: right; border: none;\">\n",
              "                0.0439\n",
              "                \n",
              "            </td>\n",
              "            <td style=\"padding: 0 0.5em 0 0.5em; text-align: left; border: none;\">\n",
              "                tiempo_entrega_lab_1\n",
              "            </td>\n",
              "        </tr>\n",
              "    \n",
              "        <tr style=\"background-color: hsl(120, 100.00%, 96.59%); border: none;\">\n",
              "            <td style=\"padding: 0 1em 0 0.5em; text-align: right; border: none;\">\n",
              "                0.0360\n",
              "                \n",
              "            </td>\n",
              "            <td style=\"padding: 0 0.5em 0 0.5em; text-align: left; border: none;\">\n",
              "                resultado_lab_1\n",
              "            </td>\n",
              "        </tr>\n",
              "    \n",
              "        <tr style=\"background-color: hsl(120, 100.00%, 98.14%); border: none;\">\n",
              "            <td style=\"padding: 0 1em 0 0.5em; text-align: right; border: none;\">\n",
              "                0.0151\n",
              "                \n",
              "            </td>\n",
              "            <td style=\"padding: 0 0.5em 0 0.5em; text-align: left; border: none;\">\n",
              "                intentos_lab_1\n",
              "            </td>\n",
              "        </tr>\n",
              "    \n",
              "    \n",
              "    </tbody>\n",
              "</table>\n",
              "    \n",
              "\n",
              "    \n",
              "\n",
              "\n",
              "    \n",
              "\n",
              "    \n",
              "\n",
              "    \n",
              "\n",
              "    \n",
              "\n",
              "    \n",
              "\n",
              "    \n",
              "        \n",
              "        <br>\n",
              "        <pre>lab_1 <= 4.050  (56.5%)\n",
              "    lab_2 <= 2.300  (19.6%)\n",
              "        lab_1 <= 3.650  (16.7%)  ---> [1.000, 0.000, 0.000]\n",
              "        lab_1 > 3.650  (2.9%)\n",
              "            resultado_lab_1 <= 2.500  (1.5%)  ---> [1.000, 0.000, 0.000]\n",
              "            resultado_lab_1 > 2.500  (1.5%)\n",
              "                lab_2 <= 0.650  (0.2%)  ---> [1.000, 0.000, 0.000]\n",
              "                lab_2 > 0.650  (1.2%)  ---> [0.000, 1.000, 0.000]\n",
              "    lab_2 > 2.300  (36.9%)\n",
              "        lab_1 <= 0.150  (9.6%)\n",
              "            tiempo_entrega_lab_1 <= 9.525  (8.8%)\n",
              "                lab_3 <= 4.950  (3.1%)  ---> [1.000, 0.000, 0.000]\n",
              "                lab_3 > 4.950  (5.6%)\n",
              "                    lab_2 <= 3.800  (0.8%)  ---> [1.000, 0.000, 0.000]\n",
              "                    lab_2 > 3.800  (4.8%)\n",
              "                        tiempo_entrega_lab_1 <= 0.450  (1.0%)\n",
              "                            tiempo_entrega_lab_1 <= 0.275  (0.2%)  ---> [1.000, 0.000, 0.000]\n",
              "                            tiempo_entrega_lab_1 > 0.275  (0.8%)  ---> [0.000, 1.000, 0.000]\n",
              "                        tiempo_entrega_lab_1 > 0.450  (3.8%)\n",
              "                            intentos_lab_1 <= 10.500  (3.5%)\n",
              "                                lab_2 <= 4.900  (0.8%)\n",
              "                                    tiempo_entrega_lab_1 <= 0.575  (0.2%)  ---> [1.000, 0.000, 0.000]\n",
              "                                    tiempo_entrega_lab_1 > 0.575  (0.6%)\n",
              "                                        intentos_lab_1 <= 2.500  (0.4%)  ---> [0.000, 1.000, 0.000]\n",
              "                                        intentos_lab_1 > 2.500  (0.2%)  ---> [1.000, 0.000, 0.000]\n",
              "                                lab_2 > 4.900  (2.7%)\n",
              "                                    tiempo_entrega_lab_1 <= 2.190  (1.2%)\n",
              "                                        intentos_lab_1 <= 5.500  (1.0%)\n",
              "                                            tiempo_entrega_lab_1 <= 1.525  (0.8%)  ---> [1.000, 0.000, 0.000]\n",
              "                                            tiempo_entrega_lab_1 > 1.525  (0.2%)  ---> [0.000, 1.000, 0.000]\n",
              "                                        intentos_lab_1 > 5.500  (0.2%)  ---> [0.000, 1.000, 0.000]\n",
              "                                    tiempo_entrega_lab_1 > 2.190  (1.5%)  ---> [1.000, 0.000, 0.000]\n",
              "                            intentos_lab_1 > 10.500  (0.2%)  ---> [0.000, 1.000, 0.000]\n",
              "            tiempo_entrega_lab_1 > 9.525  (0.8%)  ---> [0.000, 1.000, 0.000]\n",
              "        lab_1 > 0.150  (27.3%)\n",
              "            resultado_lab_1 <= 2.500  (0.8%)  ---> [1.000, 0.000, 0.000]\n",
              "            resultado_lab_1 > 2.500  (26.5%)\n",
              "                lab_1 <= 3.250  (20.2%)\n",
              "                    lab_2 <= 3.450  (3.3%)\n",
              "                        lab_1 <= 1.350  (1.5%)\n",
              "                            lab_1 <= 0.550  (0.2%)  ---> [0.000, 1.000, 0.000]\n",
              "                            lab_1 > 0.550  (1.2%)  ---> [1.000, 0.000, 0.000]\n",
              "                        lab_1 > 1.350  (1.9%)  ---> [0.000, 1.000, 0.000]\n",
              "                    lab_2 > 3.450  (16.9%)\n",
              "                        tiempo_entrega_lab_1 <= 0.265  (1.7%)\n",
              "                            lab_3 <= 4.950  (0.6%)\n",
              "                                lab_1 <= 2.300  (0.2%)  ---> [0.000, 1.000, 0.000]\n",
              "                                lab_1 > 2.300  (0.4%)  ---> [0.000, 0.000, 1.000]\n",
              "                            lab_3 > 4.950  (1.0%)  ---> [0.000, 1.000, 0.000]\n",
              "                        tiempo_entrega_lab_1 > 0.265  (15.2%)  ---> [0.000, 1.000, 0.000]\n",
              "                lab_1 > 3.250  (6.2%)\n",
              "                    lab_1 <= 3.550  (2.5%)\n",
              "                        lab_2 <= 3.950  (0.2%)  ---> [0.000, 1.000, 0.000]\n",
              "                        lab_2 > 3.950  (2.3%)  ---> [0.000, 0.000, 1.000]\n",
              "                    lab_1 > 3.550  (3.8%)  ---> [0.000, 1.000, 0.000]\n",
              "lab_1 > 4.050  (43.5%)\n",
              "    lab_2 <= 2.600  (9.2%)\n",
              "        lab_3 <= 2.250  (4.4%)\n",
              "            lab_2 <= 1.650  (4.2%)\n",
              "                lab_2 <= 0.550  (3.3%)  ---> [1.000, 0.000, 0.000]\n",
              "                lab_2 > 0.550  (0.8%)\n",
              "                    lab_3 <= 1.150  (0.6%)  ---> [1.000, 0.000, 0.000]\n",
              "                    lab_3 > 1.150  (0.2%)  ---> [0.000, 1.000, 0.000]\n",
              "            lab_2 > 1.650  (0.2%)  ---> [0.000, 1.000, 0.000]\n",
              "        lab_3 > 2.250  (4.8%)\n",
              "            tiempo_entrega_lab_1 <= 7.030  (4.6%)  ---> [0.000, 1.000, 0.000]\n",
              "            tiempo_entrega_lab_1 > 7.030  (0.2%)  ---> [0.000, 0.000, 1.000]\n",
              "    lab_2 > 2.600  (34.4%)\n",
              "        lab_3 <= 2.750  (1.5%)\n",
              "            lab_2 <= 3.300  (0.4%)  ---> [1.000, 0.000, 0.000]\n",
              "            lab_2 > 3.300  (1.0%)  ---> [0.000, 1.000, 0.000]\n",
              "        lab_3 > 2.750  (32.9%)\n",
              "            lab_2 <= 3.200  (2.7%)\n",
              "                lab_1 <= 4.650  (0.6%)\n",
              "                    intentos_lab_1 <= 2.500  (0.2%)  ---> [0.000, 0.000, 1.000]\n",
              "                    intentos_lab_1 > 2.500  (0.4%)  ---> [0.000, 1.000, 0.000]\n",
              "                lab_1 > 4.650  (2.1%)  ---> [0.000, 0.000, 1.000]\n",
              "            lab_2 > 3.200  (30.2%)  ---> [0.000, 0.000, 1.000]</pre>\n",
              "    \n",
              "\n",
              "\n",
              "\n"
            ],
            "text/plain": [
              "<IPython.core.display.HTML object>"
            ]
          },
          "execution_count": 9,
          "metadata": {},
          "output_type": "execute_result"
        }
      ],
      "source": [
        "# Se crea el modelo\n",
        "dtc = DecisionTreeClassifier() \n",
        "  \n",
        "# Se entrena el modelo\n",
        "dtc.fit(X_train, y_train)\n",
        "\n",
        "pred = dtc.predict(X_test)\n",
        "\n",
        "# Mejores caracteristicas - Eli5\n",
        "from eli5 import show_weights\n",
        "\n",
        "show_weights(dtc, feature_names = features)"
      ]
    },
    {
      "cell_type": "markdown",
      "metadata": {
        "id": "qKK5rMw8a3Y9"
      },
      "source": [
        "### Predicción con ajuste de Hiperparámetros (Grid Search)"
      ]
    },
    {
      "cell_type": "code",
      "execution_count": 10,
      "metadata": {
        "id": "E6uiwYCOa6jG"
      },
      "outputs": [],
      "source": [
        "# Se definen los valores de las características\n",
        "features = ['lab_1','lab_2','resultado_lab_1']\n",
        "# calificación\n",
        "X = data2[features]\n",
        "# se define la variable objetivo\n",
        "y = data2['grade'].values\n",
        "\n",
        "# Se dividen los datos para el entrenamiento (80% entrenamiento y 20% pruebas)\n",
        "X_train, X_test, y_train, y_test  = train_test_split(X, y, \n",
        "                                                     train_size= 0.8,\n",
        "                                                     random_state= 6)"
      ]
    },
    {
      "cell_type": "markdown",
      "metadata": {
        "id": "Pabhq-GQbK65"
      },
      "source": [
        "#### Naive Bayes"
      ]
    },
    {
      "cell_type": "code",
      "execution_count": 11,
      "metadata": {
        "colab": {
          "base_uri": "https://localhost:8080/"
        },
        "id": "KOYtoZgdbMSQ",
        "outputId": "e9586dff-ba5e-4e2f-a3f6-007a9ebb7b53"
      },
      "outputs": [
        {
          "name": "stdout",
          "output_type": "stream",
          "text": [
            "Fitting 10 folds for each of 100 candidates, totalling 1000 fits\n",
            "Best Parameters (GridSearch): GaussianNB(var_smoothing=0.0005336699231206307)\n",
            "-----------------------------------------------------------\n",
            "[[28 20  0]\n",
            " [ 6 29  7]\n",
            " [ 0  0 30]]\n",
            "              precision    recall  f1-score   support\n",
            "\n",
            "           0       0.82      0.58      0.68        48\n",
            "           1       0.59      0.69      0.64        42\n",
            "           2       0.81      1.00      0.90        30\n",
            "\n",
            "    accuracy                           0.73       120\n",
            "   macro avg       0.74      0.76      0.74       120\n",
            "weighted avg       0.74      0.72      0.72       120\n",
            "\n",
            "Precisión:  0.74\n",
            "Recall:  0.72\n",
            "F1-Score:  0.72\n"
          ]
        }
      ],
      "source": [
        "scaler = StandardScaler()\n",
        "X_train = scaler.fit_transform(X_train)\n",
        "X_test = scaler.transform(X_test)\n",
        "\n",
        "nb = GaussianNB()\n",
        "\n",
        "# Parámetros\n",
        "\n",
        "grid = {\n",
        "    'var_smoothing': np.logspace(0,-9, num=100)\n",
        "}\n",
        "\n",
        "grid_search = GridSearchCV(estimator = nb, \n",
        "                           param_grid = grid, \n",
        "                           cv= 10, \n",
        "                           verbose=1,\n",
        "                           n_jobs=-1,  \n",
        "                           scoring = \"accuracy\")\n",
        "\n",
        "searchResults = grid_search.fit(X_train, y_train.ravel())\n",
        "\n",
        "# extract the best model and evaluate it\n",
        "bestModel = searchResults.best_estimator_\n",
        "\n",
        "print(\"Best Parameters (GridSearch):\", bestModel)\n",
        "print(\"-----------------------------------------------------------\")\n",
        "\n",
        "# Se crea un objeto con los mejores ajustes de Hiperparámetros\n",
        "nb = bestModel\n",
        "\n",
        "# Se entrena el modelo\n",
        "nb.fit(X_train, y_train)\n",
        "\n",
        "pred = nb.predict(X_test)\n",
        "\n",
        "# Se imprime la matriz de confusión\n",
        "print(confusion_matrix(y_test, pred))\n",
        "# Se imprime la precisión del modelo\n",
        "print(classification_report(y_test, pred))\n",
        "\n",
        "# Otras métricas clasificación: Precisión, Recall, F1-Score\n",
        "print(\"Precisión: \", round(precision_score(y_test, pred, average='weighted'), 2))\n",
        "print(\"Recall: \", round(recall_score(y_test, pred, average='weighted'),2))\n",
        "print(\"F1-Score: \", round(f1_score(y_test, pred, average='weighted'),2))"
      ]
    },
    {
      "cell_type": "markdown",
      "metadata": {
        "id": "eoy6dR4RbP1J"
      },
      "source": [
        "#### SVM"
      ]
    },
    {
      "cell_type": "code",
      "execution_count": 12,
      "metadata": {
        "colab": {
          "base_uri": "https://localhost:8080/"
        },
        "id": "j1jZooncbQ9u",
        "outputId": "0bf171d6-b7d2-41aa-8bb9-3d39046f832b"
      },
      "outputs": [
        {
          "name": "stdout",
          "output_type": "stream",
          "text": [
            "Fitting 10 folds for each of 147 candidates, totalling 1470 fits\n",
            "Best Parameters (GridSearch): SVC(C=1000.0, gamma=10.0)\n",
            "-----------------------------------------------------------\n",
            "[[45  3  0]\n",
            " [ 5 35  2]\n",
            " [ 0  0 30]]\n",
            "              precision    recall  f1-score   support\n",
            "\n",
            "           0       0.90      0.94      0.92        48\n",
            "           1       0.92      0.83      0.88        42\n",
            "           2       0.94      1.00      0.97        30\n",
            "\n",
            "    accuracy                           0.92       120\n",
            "   macro avg       0.92      0.92      0.92       120\n",
            "weighted avg       0.92      0.92      0.92       120\n",
            "\n",
            "Precisión:  0.92\n",
            "Recall:  0.92\n",
            "F1-Score:  0.92\n"
          ]
        }
      ],
      "source": [
        "##### INSERTE SU CÓDIGO AQUÍ #####\n",
        "# Normalización de los datos\n",
        "scaler = StandardScaler()\n",
        "X_train = scaler.fit_transform(X_train)\n",
        "X_test = scaler.transform(X_test)\n",
        "\n",
        "# Creación del clasificador\n",
        "svm = SVC()\n",
        "\n",
        "# Definición de los parámetros\n",
        "grid = {\n",
        "    'C': np.logspace(-3, 3, 7),\n",
        "    'gamma': np.logspace(-3, 3, 7),\n",
        "    'kernel': ['linear', 'rbf', 'sigmoid']\n",
        "}\n",
        "\n",
        "# Búsqueda de los mejores hiperparámetros\n",
        "grid_search = GridSearchCV(estimator=svm,\n",
        "                           param_grid=grid,\n",
        "                           cv=10,\n",
        "                           verbose=1,\n",
        "                           n_jobs=-1,\n",
        "                           scoring='accuracy')\n",
        "\n",
        "searchResults = grid_search.fit(X_train, y_train.ravel())\n",
        "\n",
        "# Obtener el mejor modelo y evaluarlo\n",
        "bestModel = searchResults.best_estimator_\n",
        "\n",
        "print(\"Best Parameters (GridSearch):\", bestModel)\n",
        "print(\"-----------------------------------------------------------\")\n",
        "\n",
        "# Entrenamiento del modelo con los mejores hiperparámetros\n",
        "svm = bestModel\n",
        "svm.fit(X_train, y_train)\n",
        "\n",
        "pred = svm.predict(X_test)\n",
        "\n",
        "# Imprimir la matriz de confusión\n",
        "print(confusion_matrix(y_test, pred))\n",
        "\n",
        "# Imprimir la precisión del modelo\n",
        "print(classification_report(y_test, pred))\n",
        "\n",
        "# Imprimir otras métricas de clasificación: Precisión, Recall, F1-Score\n",
        "print(\"Precisión: \", round(precision_score(y_test, pred, average='weighted'), 2))\n",
        "print(\"Recall: \", round(recall_score(y_test, pred, average='weighted'), 2))\n",
        "print(\"F1-Score: \", round(f1_score(y_test, pred, average='weighted'), 2))"
      ]
    },
    {
      "cell_type": "markdown",
      "metadata": {
        "id": "W8xVShWVbTcr"
      },
      "source": [
        "#### Árbol de Decisión (DT)"
      ]
    },
    {
      "cell_type": "code",
      "execution_count": 13,
      "metadata": {
        "colab": {
          "base_uri": "https://localhost:8080/"
        },
        "id": "lJG5E7E3bVHl",
        "outputId": "7fd095d2-93bf-42fe-eb8b-5af914555293"
      },
      "outputs": [
        {
          "name": "stdout",
          "output_type": "stream",
          "text": [
            "Fitting 10 folds for each of 8 candidates, totalling 80 fits\n",
            "Best Parameters (GridSearch): DecisionTreeClassifier(max_depth=7)\n",
            "-----------------------------------------------------------\n",
            "[[45  3  0]\n",
            " [ 6 35  1]\n",
            " [ 0  1 29]]\n",
            "              precision    recall  f1-score   support\n",
            "\n",
            "           0       0.88      0.94      0.91        48\n",
            "           1       0.90      0.83      0.86        42\n",
            "           2       0.97      0.97      0.97        30\n",
            "\n",
            "    accuracy                           0.91       120\n",
            "   macro avg       0.92      0.91      0.91       120\n",
            "weighted avg       0.91      0.91      0.91       120\n",
            "\n",
            "Precisión:  0.91\n",
            "Recall:  0.91\n",
            "F1-Score:  0.91\n"
          ]
        }
      ],
      "source": [
        "scaler = StandardScaler()\n",
        "X_train = scaler.fit_transform(X_train)\n",
        "X_test = scaler.transform(X_test)\n",
        "\n",
        "# Crear un objeto del árbol de decisión\n",
        "dt = DecisionTreeClassifier()\n",
        "\n",
        "# Parámetros\n",
        "grid = {\n",
        "    'criterion': ['gini', 'entropy'],\n",
        "    'max_depth': [3, 5, 7, 9]\n",
        "}\n",
        "\n",
        "grid_search = GridSearchCV(estimator=dt, \n",
        "                           param_grid=grid, \n",
        "                           cv=10, \n",
        "                           verbose=1,\n",
        "                           n_jobs=-1,  \n",
        "                           scoring=\"accuracy\")\n",
        "\n",
        "searchResults = grid_search.fit(X_train, y_train.ravel())\n",
        "\n",
        "# Extraer el mejor modelo y evaluarlo\n",
        "bestModel = searchResults.best_estimator_\n",
        "\n",
        "print(\"Best Parameters (GridSearch):\", bestModel)\n",
        "print(\"-----------------------------------------------------------\")\n",
        "\n",
        "# Crear un objeto con los mejores ajustes de Hiperparámetros\n",
        "dt = bestModel\n",
        "\n",
        "# Entrenar el modelo\n",
        "dt.fit(X_train, y_train)\n",
        "\n",
        "pred = dt.predict(X_test)\n",
        "\n",
        "# Imprimir la matriz de confusión\n",
        "print(confusion_matrix(y_test, pred))\n",
        "\n",
        "# Imprimir la precisión del modelo\n",
        "print(classification_report(y_test, pred))\n",
        "\n",
        "# Otras métricas clasificación: Precisión, Recall, F1-Score\n",
        "print(\"Precisión: \", round(precision_score(y_test, pred, average='weighted'), 2))\n",
        "print(\"Recall: \", round(recall_score(y_test, pred, average='weighted'), 2))\n",
        "print(\"F1-Score: \", round(f1_score(y_test, pred, average='weighted'), 2))"
      ]
    },
    {
      "cell_type": "markdown",
      "metadata": {
        "id": "bFU3TKepbXjK"
      },
      "source": [
        "#### Bosque Aleatorio (RF)\n"
      ]
    },
    {
      "cell_type": "code",
      "execution_count": 14,
      "metadata": {
        "colab": {
          "base_uri": "https://localhost:8080/"
        },
        "id": "oyCNH5PLbYj_",
        "outputId": "ceb010de-7424-4f72-800e-beac773852f1"
      },
      "outputs": [
        {
          "name": "stdout",
          "output_type": "stream",
          "text": [
            "Fitting 10 folds for each of 72 candidates, totalling 720 fits\n",
            "Best Parameters (GridSearch): RandomForestClassifier(max_depth=10, n_estimators=10)\n",
            "-----------------------------------------------------------\n",
            "[[45  3  0]\n",
            " [ 4 36  2]\n",
            " [ 0  1 29]]\n",
            "              precision    recall  f1-score   support\n",
            "\n",
            "           0       0.92      0.94      0.93        48\n",
            "           1       0.90      0.86      0.88        42\n",
            "           2       0.94      0.97      0.95        30\n",
            "\n",
            "    accuracy                           0.92       120\n",
            "   macro avg       0.92      0.92      0.92       120\n",
            "weighted avg       0.92      0.92      0.92       120\n",
            "\n",
            "Precisión:  0.92\n",
            "Recall:  0.92\n",
            "F1-Score:  0.92\n"
          ]
        }
      ],
      "source": [
        "scaler = StandardScaler()\n",
        "X_train = scaler.fit_transform(X_train)\n",
        "X_test = scaler.transform(X_test)\n",
        "\n",
        "rf = RandomForestClassifier()\n",
        "\n",
        "# Parámetros\n",
        "grid = {\n",
        "    'n_estimators': [10, 50, 100],\n",
        "    'max_depth': [None, 5, 10],\n",
        "    'min_samples_split': [2, 5],\n",
        "    'min_samples_leaf': [1, 2],\n",
        "    'max_features': ['auto', 'sqrt']\n",
        "}\n",
        "\n",
        "grid_search = GridSearchCV(estimator=rf, \n",
        "                           param_grid=grid, \n",
        "                           cv=10, \n",
        "                           verbose=1, \n",
        "                           n_jobs=-1,\n",
        "                           scoring='accuracy')\n",
        "\n",
        "searchResults = grid_search.fit(X_train, y_train.ravel())\n",
        "\n",
        "# extraer el mejor modelo y evaluarlo\n",
        "bestModel = searchResults.best_estimator_\n",
        "\n",
        "print(\"Best Parameters (GridSearch):\", bestModel)\n",
        "print(\"-----------------------------------------------------------\")\n",
        "\n",
        "# Se crea un objeto con los mejores ajustes de Hiperparámetros\n",
        "rf = bestModel\n",
        "\n",
        "# Se entrena el modelo\n",
        "rf.fit(X_train, y_train)\n",
        "\n",
        "pred = rf.predict(X_test)\n",
        "\n",
        "# Se imprime la matriz de confusión\n",
        "print(confusion_matrix(y_test, pred))\n",
        "# Se imprime la precisión del modelo\n",
        "print(classification_report(y_test, pred))\n",
        "\n",
        "# Otras métricas clasificación: Precisión, Recall, F1-Score\n",
        "print(\"Precisión: \", round(precision_score(y_test, pred, average='weighted'), 2))\n",
        "print(\"Recall: \", round(recall_score(y_test, pred, average='weighted'), 2))\n",
        "print(\"F1-Score: \", round(f1_score(y_test, pred, average='weighted'), 2))"
      ]
    },
    {
      "cell_type": "markdown",
      "metadata": {
        "id": "2qk343CJbdIm"
      },
      "source": [
        "### Gráfica de barras para la predicción"
      ]
    },
    {
      "cell_type": "code",
      "execution_count": 15,
      "metadata": {
        "colab": {
          "base_uri": "https://localhost:8080/",
          "height": 472
        },
        "id": "kPoU2rGcbgA0",
        "outputId": "caa91e8e-60fa-4cf8-806e-b8c8d6dd836f"
      },
      "outputs": [
        {
          "data": {
            "image/png": "[encoded data removed]",
            "text/plain": [
              "<Figure size 640x480 with 1 Axes>"
            ]
          },
          "metadata": {},
          "output_type": "display_data"
        }
      ],
      "source": [
        "# F1-score\n",
        "x = ['NB','SVM','DT','RF']\n",
        "y = [0.72,0.92,0.91,0.92]\n",
        "plt.bar(x,y)\n",
        "plt.show()"
      ]
    }
  ],
  "metadata": {
    "colab": {
      "provenance": []
    },
    "kernelspec": {
      "display_name": "Python 3",
      "name": "python3"
    },
    "language_info": {
      "codemirror_mode": {
        "name": "ipython",
        "version": 3
      },
      "file_extension": ".py",
      "mimetype": "text/x-python",
      "name": "python",
      "nbconvert_exporter": "python",
      "pygments_lexer": "ipython3",
      "version": "3.11.3"
    }
  },
  "nbformat": 4,
  "nbformat_minor": 0
}
