{
 "cells": [
  {
   "attachments": {},
   "cell_type": "markdown",
   "metadata": {},
   "source": [
    "## Expresiones Regulares - NLP"
   ]
  },
  {
   "attachments": {},
   "cell_type": "markdown",
   "metadata": {},
   "source": [
    "#### Se instala NLTK\n",
    "\n",
    "*La librería Natural language toolkit (NLTK) es una bilbioteca o librería muy popular para el procesamiento de lenguaje natural escrita en Python.*"
   ]
  },
  {
   "cell_type": "code",
   "execution_count": 1,
   "metadata": {},
   "outputs": [],
   "source": [
    "# Se instala nltk\n",
    "#!pip install nltk\n"
   ]
  },
  {
   "attachments": {},
   "cell_type": "markdown",
   "metadata": {},
   "source": [
    "#### Se instala twikenizer\n",
    "\n",
    "*La librería ...*"
   ]
  },
  {
   "cell_type": "code",
   "execution_count": 2,
   "metadata": {},
   "outputs": [],
   "source": [
    "# Se instala spacy\n",
    "#!pip3 install tweetokenizer"
   ]
  },
  {
   "attachments": {},
   "cell_type": "markdown",
   "metadata": {},
   "source": [
    "#### Importamos las librerias"
   ]
  },
  {
   "cell_type": "code",
   "execution_count": 3,
   "metadata": {},
   "outputs": [],
   "source": [
    "# Libreria para expresiones regulares\n",
    "import re\n",
    "\n",
    "# Libreria TweetTokenizer\n",
    "from nltk.tokenize import TweetTokenizer"
   ]
  },
  {
   "attachments": {},
   "cell_type": "markdown",
   "metadata": {},
   "source": [
    "#### Cargamos el texto para las pruebas"
   ]
  },
  {
   "cell_type": "code",
   "execution_count": 4,
   "metadata": {},
   "outputs": [],
   "source": [
    "### Texto 1:\n",
    "texto = \"\"\"\n",
    " De: monete_que_no_ve@lostresmonetes.net\n",
    " Enviado el: Jueves, 18 de noviembre de 2012 a las 13:22\n",
    " Para: torpedo@submarino.com\n",
    " Asunto: Re: Conquistar el mundo\n",
    " Hola.\n",
    " Aapfojewagf ajwa wjepofoisa jvgoisajigf jewapoijewagomsod moisjaoigjpoewijsn dsanigeaoi.\n",
    " Ajfpoijwafe sodvm osznfinewahaw eoansjgndsakjnglkjds.\n",
    " Alkjndszkng aigpiewannalkjndkjnlkjdznvns ln sa nfpoiewa npoinpewnpofn.\n",
    " N\n",
    " De: torpedo@submarino.com\n",
    " Enviado el: Jueves, 18 de noviembre de 2012 a las 12:42\n",
    " Para: monete_que_no_ve@lostresmonetes.net\n",
    " Asunto: Re: Conquistar el mundo\n",
    " Hola.\n",
    " Aapfojewagf ajwa wjepofoisa jvgoisajigf jewapoijewagomsod moisjaoigjpoewijsn dsanigeaoi.\n",
    " Ajfpoijwafe sodvm osznfinewahaw eoansjgndsakjnglkjds.\n",
    " Alkjndszkng aigpiewannalkjndkjnlkjdznvns ln sa nfpoiewa npoinpewnpofn.\n",
    " N\n",
    " De: monete_que_no_ve@lostresmonetes.net\n",
    " Enviado el: Jueves, 18 de noviembre de 2012 a las 11:57\n",
    " Para: torpedo@submarino.com\n",
    " Asunto: Re: Conquistar el mundo\n",
    " Hola.\n",
    " Aapfojewagf ajwa wjepofoisa jvgoisajigf jewapoijewagomsod moisjaoigjpoewijsn dsanigeaoi.\n",
    " Ajfpoijwafe sodvm osznfinewahaw eoansjgndsakjnglkjds.\n",
    " Alkjndszkng aigpiewannalkjndkjnlkjdznvns ln sa nfpoiewa npoinpewnpofn.\n",
    " N\n",
    " De: torpedo@submarino.com\n",
    " Enviado el: Jueves, 18 de noviembre de 2012 a las 11:54\n",
    " Para: monete_que_no_ve@lostresmonetes.net\n",
    " Asunto: Re: Conquistar el mundo\n",
    " Hola.\n",
    " Aapfojewagf ajwa wjepofoisa jvgoisajigf jewapoijewagomsod moisjaoigjpoewijsn dsanigeaoi.\n",
    " Ajfpoijwafe sodvm osznfinewahaw eoansjgndsakjnglkjds.\n",
    " Alkjndszkng aigpiewannalkjndkjnlkjdznvns ln sa nfpoiewa npoinpewnpofn.\n",
    " N\n",
    " De: monete_que_no_ve@lostresmonetes.net\n",
    " Enviado el: Jueves, 18 de noviembre de 2012 a las 09:15\n",
    " Para: torpedo@submarino.com\n",
    " Asunto: Conquistar el mundo\n",
    " Hola.\n",
    " Aapfojew mi primo el monete que no habla (Monete.que.no.habla@lostresmonetes.net) agf ajwa wjepofoisa jvgoisajigf.\n",
    " Para la ninia + w@pa del tuenti, hoygan (Monete_que_no_escucha@lostresmonetes.co.uk).\n",
    " Ajfpoijwafe sodvm osznfinewahaw eoansjgndsakjnglkjds.\n",
    " Alkjndszkng aigpiewannalkjndkjnlkjdznvns ln sa nfpoiewa npoinpewnpofn.\n",
    " Nsznvcknvknkxzvnoisajpoijewaoi jmsam lkvznapiunea engnal nfsl.\n",
    " \"\"\""
   ]
  },
  {
   "cell_type": "code",
   "execution_count": 5,
   "metadata": {},
   "outputs": [],
   "source": [
    "### Texto 2:\n",
    "texto1= \"\"\"La segunda ola de contagios en Chile, que comenzó en diciembre, \n",
    "se agravó en marzo tras las vacaciones de verano en esa región de Suramérica. Un poco más del 83 % de \n",
    "la población se encuentra en cuarentena total, incluida al capital,\n",
    "donde viven más de 7 millones de personas y todos los comercios no esenciales permanecen cerrados.\n",
    "\n",
    "Las nuevas medidas fueron adoptadas ante la realidad de las cifras: 23.677 muertos y más de un millón \n",
    "de infectados, de los cuales 42.794 se encuentran en etapa activa de la enfermedad y pueden contagiar. No obstante,\n",
    "Chile ha inoculado con una dosis a casi 7 millones de personas, lo que representa el 45 % de \n",
    "su población y lo sitúa como tercer país del mundo con más porcentaje de población vacunada.\"\"\""
   ]
  },
  {
   "attachments": {},
   "cell_type": "markdown",
   "metadata": {},
   "source": [
    "#### Busqueda en el texto de una expresión regular"
   ]
  },
  {
   "cell_type": "code",
   "execution_count": 6,
   "metadata": {},
   "outputs": [
    {
     "name": "stdout",
     "output_type": "stream",
     "text": [
      "['monete_que_no_ve@lostresmonetes.net', 'torpedo@submarino.com', 'torpedo@submarino.com', 'monete_que_no_ve@lostresmonetes.net', 'monete_que_no_ve@lostresmonetes.net', 'torpedo@submarino.com', 'torpedo@submarino.com', 'monete_que_no_ve@lostresmonetes.net', 'monete_que_no_ve@lostresmonetes.net', 'torpedo@submarino.com', 'Monete.que.no.habla@lostresmonetes.net', 'w@pa', 'Monete_que_no_escucha@lostresmonetes.co.uk']\n",
      "13\n",
      "--------------------------\n",
      "[('', 'La'), (' ', 'las'), ('\\n', 'la'), ('\\n', 'Las'), (' ', 'la'), (' ', 'las'), (' ', 'la')]\n",
      "--------------------------\n",
      "['2012 a las 13:22', '2012 a las 12:42', '2012 a las 11:57', '2012 a las 11:54', '2012 a las 09:15']\n"
     ]
    }
   ],
   "source": [
    "# Expresiones Regulares a Buscar\n",
    "\n",
    "# Correos electrónicos\n",
    "r1 = re.findall(r'[\\w\\.-]+@[\\w\\.-]+',texto)\n",
    "# Artículos\n",
    "r2= re.findall(r'(^|[^a-zA-Z])([lL]a|[lL]as)[^a-zA-Z]', texto1)\n",
    "# Fechas\n",
    "r3= re.findall(r'20[1-4][0-9]\\sa\\slas\\s[0-2][0-9]:[0-5][0-9]', texto)\n",
    "\n",
    "\n",
    "print(r1)\n",
    "print(len(r1))\n",
    "print(\"--------------------------\")\n",
    "print(r2)\n",
    "print(\"--------------------------\")\n",
    "print(r3)"
   ]
  },
  {
   "attachments": {},
   "cell_type": "markdown",
   "metadata": {},
   "source": [
    "#### Manejo de Span con la función findeter"
   ]
  },
  {
   "cell_type": "code",
   "execution_count": 7,
   "metadata": {},
   "outputs": [
    {
     "name": "stdout",
     "output_type": "stream",
     "text": [
      "Found <re.Match object; span=(55, 61), match='Jueves'>\n",
      "Found <re.Match object; span=(428, 434), match='Jueves'>\n",
      "Found <re.Match object; span=(829, 835), match='Jueves'>\n",
      "Found <re.Match object; span=(1202, 1208), match='Jueves'>\n",
      "Found <re.Match object; span=(1603, 1609), match='Jueves'>\n"
     ]
    }
   ],
   "source": [
    "# Se utiliza la función findeter para iterar y encontrar la posición del span en un texto\n",
    "patron = 'Jueves'\n",
    "\n",
    "for match in re.finditer(patron, texto):\n",
    "    print('Found {!r}'.format(match))"
   ]
  },
  {
   "cell_type": "code",
   "execution_count": 8,
   "metadata": {},
   "outputs": [
    {
     "name": "stdout",
     "output_type": "stream",
     "text": [
      "<re.Match object; span=(31, 36), match='Chile'>\n",
      "31\n",
      "36\n",
      "(31, 36)\n"
     ]
    }
   ],
   "source": [
    "# Otro ejemplo\n",
    "patron = \"Chile\"\n",
    "\n",
    "encontrado = re.search(patron,texto1)\n",
    "print(encontrado)\n",
    "print(encontrado.start())\n",
    "print(encontrado.end())\n",
    "print(encontrado.span())"
   ]
  },
  {
   "attachments": {},
   "cell_type": "markdown",
   "metadata": {},
   "source": [
    "#### Expresiones regulares para segmentar"
   ]
  },
  {
   "cell_type": "code",
   "execution_count": 9,
   "metadata": {},
   "outputs": [
    {
     "name": "stdout",
     "output_type": "stream",
     "text": [
      "['. U', '. N']\n"
     ]
    }
   ],
   "source": [
    "r3= re.findall(r'[.]+[\" \"][A-Z]', texto1)\n",
    "\n",
    "print(r3)"
   ]
  },
  {
   "attachments": {},
   "cell_type": "markdown",
   "metadata": {},
   "source": [
    "#### Tokenizador: TweetTokenizer"
   ]
  },
  {
   "cell_type": "code",
   "execution_count": 10,
   "metadata": {},
   "outputs": [
    {
     "data": {
      "text/plain": [
       "['Comunicado',\n",
       " 'de',\n",
       " 'la',\n",
       " 'Sociedad',\n",
       " 'Colombiana',\n",
       " 'de',\n",
       " 'Pediatría',\n",
       " '.',\n",
       " 'Toca',\n",
       " 'volver',\n",
       " 'al',\n",
       " 'colegio',\n",
       " '.',\n",
       " '#LaEducacionPresencialEsVital',\n",
       " '@dario_maldonado',\n",
       " '@sandragarciajar',\n",
       " '@MSantamariaS',\n",
       " '@angelperezmar',\n",
       " '@patolinecamacho',\n",
       " '@julrubiano',\n",
       " '@AnzolaDeToro',\n",
       " '@villamizar',\n",
       " '@Brigittelgb']"
      ]
     },
     "execution_count": 10,
     "metadata": {},
     "output_type": "execute_result"
    }
   ],
   "source": [
    "token = TweetTokenizer()\n",
    "\n",
    "t1 = \"This is a cooool #dummysmiley: :-) :-P <3 and some arrows < > -> <--\"\n",
    "t2 = \"Comunicado de la Sociedad Colombiana de Pediatría. Toca volver al colegio. #LaEducacionPresencialEsVital @dario_maldonado @sandragarciajar @MSantamariaS @angelperezmar @patolinecamacho @julrubiano @AnzolaDeToro @villamizar @Brigittelgb\"\n",
    "t3 = \"No dejemos de lado la educación superior, según @ASCUN1, en las IES privadas la disminución de matrícula total es de 10,1% (10.9% en pregrado y 5,6% en posgrado) equivalente a 63.772 alumnos en 2 semestre de 2020. Apoyo a las IES es fundamental #LaEducacionPresencialEsVital\"\n",
    "\n",
    "token.tokenize(t2)"
   ]
  }
 ],
 "metadata": {
  "kernelspec": {
   "display_name": "Python 3",
   "language": "python",
   "name": "python3"
  },
  "language_info": {
   "codemirror_mode": {
    "name": "ipython",
    "version": 3
   },
   "file_extension": ".py",
   "mimetype": "text/x-python",
   "name": "python",
   "nbconvert_exporter": "python",
   "pygments_lexer": "ipython3",
   "version": "3.9.13"
  },
  "orig_nbformat": 4,
  "vscode": {
   "interpreter": {
    "hash": "aee8b7b246df8f9039afb4144a1f6fd8d2ca17a180786b69acc140d282b71a49"
   }
  }
 },
 "nbformat": 4,
 "nbformat_minor": 2
}
