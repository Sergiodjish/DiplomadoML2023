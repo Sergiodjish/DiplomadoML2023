{
 "cells": [
  {
   "attachments": {},
   "cell_type": "markdown",
   "metadata": {},
   "source": [
    "## Taller 2 Tokenización y segmentación PLN\n",
    "\n",
    "*El proceso de tokenización es la tarea de segmentar en palabras el texto en ejecución.*\n",
    "\n",
    "*Esta práctica trata sobre el preprocesamiento básico de texto, con las herramientas disponibles para el idioma español y vistas en clase. Para el desarrollo de esta práctica, se utilizó el conjunto de datos almacenados en el directorio DataSet, consta de 10 Archivos de texto de diferentes tamaños.*"
   ]
  },
  {
   "attachments": {},
   "cell_type": "markdown",
   "metadata": {},
   "source": [
    "### Paso 1: Se instala la librería nltk.\n",
    "*La librería Natural language toolkit (NLTK) es una bilbioteca o librería muy popular para el procesamiento de lenguaje natural escrita en Python.*"
   ]
  },
  {
   "cell_type": "code",
   "execution_count": 1,
   "metadata": {},
   "outputs": [],
   "source": [
    "#!pip install nltk"
   ]
  },
  {
   "attachments": {},
   "cell_type": "markdown",
   "metadata": {},
   "source": [
    "### Paso 2: Se importa la librería nltk para realizar el proceso de tokenización.\n",
    "*Para iniciar a trabajar con nltk se descarga lo que se denomina el corpora NLTK. Se teclea lo siguiente: nltk.download() después de la librería, se obtiene un GUI desde el que se descarga los paquetes necesarios.*"
   ]
  },
  {
   "cell_type": "code",
   "execution_count": 2,
   "metadata": {},
   "outputs": [],
   "source": [
    "import nltk\n",
    "#nltk.download()"
   ]
  },
  {
   "attachments": {},
   "cell_type": "markdown",
   "metadata": {},
   "source": [
    "### Paso 3: Se importa la librería os y se usa el método listdir para listar los archivos del DataSet.\n",
    "*La librería o biblioteca os, permite acceder a diferentes funcionalidades y dependencias del Sistema Operativo, sobre todo aquellas que corresponden al entorno y manipulación de estructura de directorios.*\n",
    "\n",
    "*El método de Python listdir() devuelve una lista que contiene los nombres de las entradas en el directorio dado por la ruta.*"
   ]
  },
  {
   "cell_type": "code",
   "execution_count": 3,
   "metadata": {},
   "outputs": [
    {
     "data": {
      "text/plain": [
       "['text3',\n",
       " 'text4',\n",
       " 'text5',\n",
       " 'text2',\n",
       " '.DS_Store',\n",
       " 'text10',\n",
       " 'text9',\n",
       " 'text7',\n",
       " 'text6',\n",
       " 'text8']"
      ]
     },
     "execution_count": 3,
     "metadata": {},
     "output_type": "execute_result"
    }
   ],
   "source": [
    "import os\n",
    "contenido = os.listdir('DataSet/')\n",
    "contenido"
   ]
  },
  {
   "attachments": {},
   "cell_type": "markdown",
   "metadata": {},
   "source": [
    "### Paso 4: Se leen los archivos que se encuentran dentro del DataSet y se almacenan en vector, finalmente, el vector se pasa al DataFrame vectorpd.\n",
    "*Se usa open para comenzar a leer un arhivo en Python, incluyendo el argumento 'r' que significa modo lectura. En este caso, se usa para leer los archivos listados anteriormente*\n",
    "*Enseguida, se almacena todo el contenido de los archivos en un vector para preprocesar el contenido en un DataFrame.*"
   ]
  },
  {
   "cell_type": "code",
   "execution_count": 4,
   "metadata": {},
   "outputs": [],
   "source": [
    "#Se importan las librerías numpy y pandas para cargar el vector a un DataFrame.\n",
    "import numpy as np\n",
    "import pandas as pd\n",
    "\n",
    "#Se define el vector donde se va almacenar el contenido de los archivos raw.\n",
    "vector=[]\n",
    "\n",
    "#Se define el ciclo para recorrer cada uno de los archivos que se encuentran dentro de DataSet.\n",
    "for archivo in contenido:\n",
    "    #Se lee cada uno de los archivos de DataSet urilizando el encoding ISO-8859-1.\n",
    "    with open('DataSet/'+archivo,'r',encoding='ISO-8859-1') as fname:\n",
    "        #El contenido de cada archivo leído, se almacena en vector.\n",
    "        vector = fname.readlines()\n",
    "        #El vector se pasa a un DataFrame para hacer el tratamiento de los datos (Eliminar los \\n, <doc, ENDOFARTICLE).\n",
    "        vectorpd = pd.DataFrame(vector)\n",
    "#Se imprimen las 10 primeras líneas del vector.\n",
    "#print(vectorpd[:10])"
   ]
  },
  {
   "attachments": {},
   "cell_type": "markdown",
   "metadata": {},
   "source": [
    "### Paso 5: Se hace el preprocesamiento del DataFrame vectorpd.\n",
    "*El preprocesamiento consiste en organizar y limpiar los datos que se encuentran almacenados en el DataFrame y que se usarán en el proceso de tokenización. Para este caso, se eliminaron los saltos de línea '\\n', las etiquetas que inician con '<' y la palabra reservada 'ENDOFARTICLE', que se encuetran dentro de los archivos a procesar.*"
   ]
  },
  {
   "cell_type": "code",
   "execution_count": 5,
   "metadata": {
    "scrolled": false
   },
   "outputs": [
    {
     "name": "stderr",
     "output_type": "stream",
     "text": [
      "/var/folders/0m/xmkg_d4s05j9zcbpwwncd19w0000gn/T/ipykernel_7711/2065204919.py:4: FutureWarning: Using the level keyword in DataFrame and Series aggregations is deprecated and will be removed in a future version. Use groupby instead. df.any(level=1) should use df.groupby(level=1).any()\n",
      "  vectorpd = vectorpd[~vectorpd.stack().str.contains('<').any(level=0)]\n",
      "/var/folders/0m/xmkg_d4s05j9zcbpwwncd19w0000gn/T/ipykernel_7711/2065204919.py:6: FutureWarning: Using the level keyword in DataFrame and Series aggregations is deprecated and will be removed in a future version. Use groupby instead. df.any(level=1) should use df.groupby(level=1).any()\n",
      "  vectorpd = vectorpd[~vectorpd.stack().str.contains('ENDOFARTICLE.').any(level=0)]\n"
     ]
    },
    {
     "data": {
      "text/html": [
       "<div>\n",
       "<style scoped>\n",
       "    .dataframe tbody tr th:only-of-type {\n",
       "        vertical-align: middle;\n",
       "    }\n",
       "\n",
       "    .dataframe tbody tr th {\n",
       "        vertical-align: top;\n",
       "    }\n",
       "\n",
       "    .dataframe thead th {\n",
       "        text-align: right;\n",
       "    }\n",
       "</style>\n",
       "<table border=\"1\" class=\"dataframe\">\n",
       "  <thead>\n",
       "    <tr style=\"text-align: right;\">\n",
       "      <th></th>\n",
       "      <th>0</th>\n",
       "    </tr>\n",
       "  </thead>\n",
       "  <tbody>\n",
       "    <tr>\n",
       "      <th>1</th>\n",
       "      <td>Pragmática Sanción de 1713, norma promulgada p...</td>\n",
       "    </tr>\n",
       "    <tr>\n",
       "      <th>21</th>\n",
       "      <td>La Universidad Complutense de Madrid (UCM) es ...</td>\n",
       "    </tr>\n",
       "    <tr>\n",
       "      <th>23</th>\n",
       "      <td>Historia.\\n</td>\n",
       "    </tr>\n",
       "    <tr>\n",
       "      <th>25</th>\n",
       "      <td>Los orígenes de la Universidad Complutense se ...</td>\n",
       "    </tr>\n",
       "    <tr>\n",
       "      <th>27</th>\n",
       "      <td>La nueva Universidad de Madrid pretendía ser u...</td>\n",
       "    </tr>\n",
       "    <tr>\n",
       "      <th>...</th>\n",
       "      <td>...</td>\n",
       "    </tr>\n",
       "    <tr>\n",
       "      <th>326618</th>\n",
       "      <td>Ciudades oficiales.\\n</td>\n",
       "    </tr>\n",
       "    <tr>\n",
       "      <th>326619</th>\n",
       "      <td>Eisenstadt;\\n</td>\n",
       "    </tr>\n",
       "    <tr>\n",
       "      <th>326620</th>\n",
       "      <td>Rust;\\n</td>\n",
       "    </tr>\n",
       "    <tr>\n",
       "      <th>326622</th>\n",
       "      <td>Véase también.\\n</td>\n",
       "    </tr>\n",
       "    <tr>\n",
       "      <th>326623</th>\n",
       "      <td>Organización territorial de Austria;\\n</td>\n",
       "    </tr>\n",
       "  </tbody>\n",
       "</table>\n",
       "<p>136079 rows × 1 columns</p>\n",
       "</div>"
      ],
      "text/plain": [
       "                                                        0\n",
       "1       Pragmática Sanción de 1713, norma promulgada p...\n",
       "21      La Universidad Complutense de Madrid (UCM) es ...\n",
       "23                                            Historia.\\n\n",
       "25      Los orígenes de la Universidad Complutense se ...\n",
       "27      La nueva Universidad de Madrid pretendía ser u...\n",
       "...                                                   ...\n",
       "326618                              Ciudades oficiales.\\n\n",
       "326619                                      Eisenstadt;\\n\n",
       "326620                                            Rust;\\n\n",
       "326622                                   Véase también.\\n\n",
       "326623             Organización territorial de Austria;\\n\n",
       "\n",
       "[136079 rows x 1 columns]"
      ]
     },
     "execution_count": 5,
     "metadata": {},
     "output_type": "execute_result"
    }
   ],
   "source": [
    "#Se reemplaza el \\n con NaN y se eliminan del DataFrame.\n",
    "vectorpd = vectorpd.replace(\"\\n\", np.NaN).dropna()\n",
    "#Se busca en el DataFrame las filas que contienen '<' y se eliminan.\n",
    "vectorpd = vectorpd[~vectorpd.stack().str.contains('<').any(level=0)]\n",
    "#Se busca en el DataFrame las filas que contienen 'ENDOFARTICLE.' y se eliminan.\n",
    "vectorpd = vectorpd[~vectorpd.stack().str.contains('ENDOFARTICLE.').any(level=0)]\n",
    "#Se imprime el vectorpd para verificar el contenido del DataFrame.\n",
    "vectorpd"
   ]
  },
  {
   "attachments": {},
   "cell_type": "markdown",
   "metadata": {},
   "source": [
    "### Paso 6: Se importa la librería nltk y el word_tokenize para tokenizar por palabras el DataFrame. Finalmente, las palabras que se tokenizaron se almacenan en el vectorpalabras.\n",
    "*Para realizar el proceso de tokenización se utilizó el método word-tokenize de la librería nltk, que recibe como parámetro de entrada el DataFrame ya preprocesado y posteriormente, se covierte a un vector de palabras que contiene la tokenización de los archivos del DataSet.*"
   ]
  },
  {
   "cell_type": "code",
   "execution_count": 6,
   "metadata": {
    "scrolled": false
   },
   "outputs": [
    {
     "name": "stdout",
     "output_type": "stream",
     "text": [
      "[['Pragmática', 'Sanción', 'de', '1713', ',', 'norma', 'promulgada', 'por', 'el', 'emperador', 'Carlos', 'VI', ',', 'de', 'la', 'Casa', 'de', 'Austria', ',', 'en', '1713', 'que', 'facilitó', 'la', 'futura', 'entronización', 'de', 'su', 'hija', 'María', 'Teresa', 'I.', 'Ésta', 'fue', 'la', 'primera', 'ley', 'fundamental', 'común', 'para', 'todas', 'las', 'zonas', 'de', 'los', 'Habsburgo', ',', 'se', 'decreto', 'con', 'un', 'intento', 'del', 'emperador', 'por', 'lograr', 'la', 'integracion', 'de', 'los', 'territorios', 'del', 'sacro', 'imperio', ';', 'sin', 'embargo', ',', 'el', 'proyecto', 'unificador', 'no', 'pudo', 'alcanzarse', 'del', 'todo', ',', 'pues', 'Hungría', 'puso', 'como', 'condicon', 'para', 'aceptar', 'la', 'Pragmática', 'Sanción', 'que', 'fuera', 'ratificada', 'su', 'constitucion', 'y', 'autonomia', ',', 'lo', 'que', 'en', 'realidad', 'fortalecio', 'el', 'separatismo', 'Hungaro', '.'], ['La', 'Universidad', 'Complutense', 'de', 'Madrid', '(', 'UCM', ')', 'es', 'una', 'importante', 'universidad', 'española', 'localizada', 'en', 'la', 'Ciudad', 'Universitaria', 'de', 'Madrid', ',', 'España', '.'], ['Historia', '.'], ['Los', 'orígenes', 'de', 'la', 'Universidad', 'Complutense', 'se', 'encuentran', 'en', 'Universidad', 'Cisneriana', 'de', 'Alcalá', 'de', 'Henares', '.', 'Tras', 'languidecer', 'durante', 'el', 'siglo', 'XVIII', ',', 'mediante', 'Real', 'Orden', 'de', 'la', 'Reina', 'Regente', 'de', '29', 'de', 'octubre', 'de', '1836', ',', 'se', 'decretó', 'su', 'supresión', 'en', 'Alcalá', 'y', 'traslado', 'a', 'Madrid', ',', 'donde', 'pasó', 'a', 'denominarse', 'Universidad', 'Central', '.', 'Esta', 'Real', 'Orden', 'se', 'expidió', 'tras', 'la', 'resolución', 'del', 'Claustro', 'alcalaíno', 'de', 'abandonar', 'Alcalá', 'y', 'trasladarse', 'a', 'Madrid', ';', 'de', 'ahí', 'que', 'la', 'universidad', 'madrileña', 'mantenga', 'títulos', 'y', 'privilegios', 'de', 'la', 'antigua', 'institución', 'alcalaína', '.', 'La', 'Universidad', 'se', 'ubicó', 'en', 'un', 'principio', 'en', 'el', 'antiguo', 'Seminario', 'de', 'Nobles', ',', 'y', 'posteriormente', 'en', 'el', 'convento', 'de', 'las', 'Salesas', 'Nuevas', '.', 'Entre', '1840', 'y', '1843', 'se', 'trasladaron', 'los', 'fondos', 'de', 'la', 'biblioteca', 'alcalaína', '.', 'En', '1843', 'pasó', 'a', 'ocupar', 'un', 'edificio', 'desamortizado', 'en', 'la', 'calle', 'Noviciado', 'el', 'antiguo', 'noviciado', 'de', 'los', 'jesuitas', ',', 'donde', 'permanecería', 'casi', 'un', 'siglo', '.'], ['La', 'nueva', 'Universidad', 'de', 'Madrid', 'pretendía', 'ser', 'un', 'modelo', 'que', 'rompiera', 'con', 'las', 'antiguas', 'estructuras', '.', 'Orillando', 'la', 'tradición', 'cisneriana', ',', 'esta', 'de', 'Madrid', 'sería', 'la', 'denominada', 'por', 'más', 'de', 'cien', 'años', 'como', '«', 'Universidad', 'Central', '»', ',', 'siguiendo', 'el', 'entonces', 'ponderado', 'modelo', 'centralista', 'francés', '.', 'En', 'su', 'torno', 'girarían', 'el', 'resto', 'de', 'universidades', 'españolas', ',', 'para', 'las', 'que', 'debía', 'servir', 'de', 'ejemplo', '.', 'Se', 'dotaba', 'así', 'a', 'la', 'capital', 'de', 'España', 'de', 'una', 'Universidad', 'de', 'la', 'que', 'carecía', '.', 'Desde', 'la', 'ley', 'Moyano', '(', '1857', ')', 'esta', 'universidad', 'fue', 'la', 'única', 'autorizada', 'en', 'España', 'para', 'dar', 'el', 'título', 'de', 'doctor', ',', 'hasta', 'que', 'en', '1954', ',', 'fue', 'concedida', 'esta', 'potestad', 'a', 'la', 'Universidad', 'de', 'Salamanca', ',', 'tras', 'la', 'celebración', 'de', 'su', 'VII', 'centenario', ',', 'y', 'posteriormente', 'al', 'resto', 'de', 'las', 'universidades', 'españolas', 'de', 'la', 'época', '.'], ['En', '1927', 'se', 'planificó', 'la', 'construcción', 'de', 'un', 'área', 'universitaria', 'en', 'la', 'zona', 'de', 'Moncloa', ',', 'en', 'terrenos', 'cedidos', 'por', 'el', 'rey', 'Alfonso', 'XIII', 'para', 'tal', 'fin', ',', 'conocidos', 'antiguamente', 'como', '«', 'Los', 'descampados', '»', '.', 'Durante', 'esta', 'etapa', 'se', 'constituyó', 'en', 'núcleo', 'de', 'la', 'denominada', 'Edad', 'de', 'Plata', 'de', 'la', 'cultura', 'española', '.', 'En', 'sus', 'aulas', 'impartieron', 'magisterio', ',', 'entre', 'otros', ',', 'José', 'Ortega', 'y', 'Gasset', ',', 'Manuel', 'García', 'Morente', ',', 'Luis', 'Jiménez', 'de', 'Asúa', ',', 'Santiago', 'Ramón', 'y', 'Cajal', 'y', 'Blas', 'Cabrera', '.'], ['La', 'Guerra', 'Civil', 'convirtió', 'a', 'la', 'Ciudad', 'Universitaria', 'de', 'Madrid', 'en', 'frente', 'de', 'batalla', ',', 'causando', 'la', 'destrucción', 'de', 'edificios', 'de', 'facultades', 'e', 'institutos', 'ubicados', 'en', 'su', 'recinto', ',', 'así', 'como', 'la', 'pérdida', 'de', 'parte', 'de', 'su', 'rico', 'patrimonio', 'científico', ',', 'artístico', 'y', 'bibliográfico', ',', 'procedente', 'en', 'parte', 'de', 'la', 'antigua', 'Universidad', 'de', 'la', 'ciudad', 'complutense', '.', 'Se', 'perdió', 'también', ',', 'en', 'su', 'mayor', 'parte', 'por', 'haberse', 'exiliado', ',', 'una', 'buena', 'parte', 'del', 'prestigioso', 'profesorado', 'que', 'hasta', 'entonces', 'había', 'ejercido', 'la', 'docencia', 'en', 'la', 'Universidad', 'Complutense', 'de', 'Madrid', '.'], ['Hacia', '1954', 'las', 'otras', 'universidades', 'de', 'España', ',', 'empezando', 'por', 'la', 'de', 'Salamanca', ',', 'recuperan', 'la', 'capacidad', 'de', 'expedir', 'títulos', 'de', 'doctor', 'y', 'la', 'de', 'Madrid', 'pierde', 'el', 'nombre', 'de', 'Universidad', 'Central', ',', 'pasando', 'a', 'llamarse', 'de', 'manera', 'oficiosa', '«', 'Complutense', 'de', 'Madrid', '»', '.', 'En', '1970', 'el', 'Gobierno', 'acomete', 'planes', 'de', 'reforma', 'de', 'la', 'Enseñanza', 'Superior', ',', 'y', 'la', 'universidad', 'se', 'dividió', 'en', 'dos', ':', 'las', 'enseñanzas', 'de', 'ciencias', 'experimentales', ',', 'ciencias', 'de', 'la', 'salud', ',', 'ciencias', 'sociales', 'y', 'humanidades', 'se', 'agruparon', 'en', 'la', 'Universidad', 'Complutense', 'de', 'Madrid', ',', 'mientras', 'que', 'las', 'escuelas', 'superiores', 'de', 'enseñanzas', 'técnicas', ',', 'así', 'como', 'otras', 'que', 'estaban', 'adscritas', 'a', 'otros', 'organismos', 'como', 'el', 'Ejército', 'o', 'el', 'Ministerio', 'de', 'Industria', 'se', 'agruparon', 'en', 'la', 'Universidad', 'Politécnica', 'de', 'Madrid', '.'], ['Por', 'entonces', 'también', 'se', 'crea', 'el', 'campus', 'de', 'Somosaguas', 'para', 'albergar', 'el', 'grueso', 'de', 'las', 'facultades', 'de', 'Ciencias', 'Sociales', ',', 'y', 'conseguir', 'así', 'distanciar', 'a', 'los', 'futuros', 'políticos', 'y', 'economistas', 'de', 'las', 'reacciones', 'contra', 'el', 'régimen', 'franquista', 'que', 'se', 'producían', 'en', 'el', 'campus', 'principal', 'de', 'Ciudad', 'Universitaria', '.'], ['Su', 'actividad', 'se', 'distribuye', 'en', 'dos', 'campus', ',', 'el', 'de', 'Ciudad', 'Universitaria', ',', 'situado', 'en', 'distrito', 'de', 'Moncloa', 'y', 'que', 'comparte', 'con', 'la', 'Universidad', 'Politécnica', 'de', 'Madrid', 'y', 'la', 'Universidad', 'Nacional', 'de', 'Educación', 'a', 'Distancia', ',', 'y', 'el', 'de', 'Somosaguas', ',', 'perteneciente', 'al', 'término', 'municipal', 'de', 'Pozuelo', 'de', 'Alarcón', '.'], ['La', 'Universidad', 'Complutense', 'actualmente', '.'], ['La', 'Universidad', 'Complutense', 'de', 'Madrid', 'ha', 'jugado', 'un', 'papel', 'fundamental', 'en', 'el', 'desarrollo', 'político', 'de', 'España', 'desde', 'su', 'fundación', ',', 'en', 'cualquier', 'nivel', ',', 'tanto', 'parlamentario', 'como', 'ministerial', ',', 'en', 'todas', 'las', 'etapas', 'del', 'gobierno', 'de', 'España', 'desde', 'el', 'Siglo', 'de', 'las', 'Luces', ',', 'y', 'su', 'situación', 'estuvo', 'marcada', 'especialmente', 'durante', 'la', 'Segunda', 'República', 'y', ',', 'tras', 'la', 'muerte', 'de', 'Franco', ',', 'durante', 'la', 'Transición', 'Española', 'hacia', 'la', 'Democracia', '.', 'Por', 'ejemplo', ',', 'la', 'actual', 'Vicepresidenta', 'del', 'Gobierno', ',', 'María', 'Teresa', 'Fernández', 'de', 'la', 'Vega', 'y', 'el', 'anterior', 'Presidente', 'del', 'Gobierno', ',', 'José', 'María', 'Aznar', 'se', 'licenciaron', 'en', 'esta', 'Universidad', '.'], ['La', 'Universidad', 'Complutense', 'es', 'la', 'universidad', 'con', 'mayor', 'número', 'de', 'alumnos', 'presenciales', 'de', 'toda', 'España', '(', 'según', 'datos', 'de', 'la', 'propia', 'Universidad', ',', 'en', 'el', 'curso', '2006', '2007', 'contó', 'con', 'un', 'total', 'de', '88.177', 'alumnos', ',', 'aunque', 'la', 'UNED', 'la', 'supera', 'en', 'número', 'total', 'de', 'alumnos', ')', 'y', 'es', 'la', 'segunda', 'de', 'toda', 'Europa', '.', 'Para', 'ese', 'mismo', 'curso', 'contó', 'con', 'el', 'trabajo', 'de', 'más', 'de', '6.000', 'profesores', '.'], ['Además', ',', 'la', 'biblioteca', 'de', 'la', 'universidad', 'es', 'una', 'de', 'las', 'bibliotecas', 'más', 'importantes', 'de', 'España', ',', 'siendo', 'la', 'segunda', 'en', 'fondos', 'bibliográficos', 'después', 'de', 'la', 'Biblioteca', 'Nacional', 'de', 'España', '.'], ['Para', 'el', 'curso', '2007', '2008', 'cuenta', 'con', '78', 'titulaciones', ',', 'entre', 'ellas', ':', 'Psicología', ',', 'Biología', ',', 'Económicas', ',', 'Comunicación', 'audiovisual', ',', 'Derecho', ',', 'Turismo', ',', 'Periodismo', ',', 'Publicidad', 'y', 'relaciones', 'públicas', ',', 'Documentación', ',', 'Farmacia', ',', 'Medicina', ',', 'Enfermería', ',', 'Veterinaria', ',', 'Odontología', ',', 'Fisioterapia', ',', 'Magisterio', ',', 'Matemáticas', ',', 'Física', ',', 'Química', ',', 'Ingeniería', 'Informática', ',', 'Filologías', '(', 'alemana', ',', 'eslava', ',', 'hebrea', ',', 'hispánica', ',', 'inglesa', ',', 'italiana', ',', 'románica', '...', ')', ',', 'Filosofía', ',', 'Geografía', ',', 'Bellas', 'Artes', ',', 'Geología', ',', 'Ingeniería', 'química', ',', 'Historia', ',', 'Ciencias', 'Políticas', 'y', 'de', 'la', 'Administración', ',', 'Sociología', ',', 'Ingeniería', 'electrónica', ',', 'Ingeniería', 'genética', ',', 'Ingeniería', 'de', 'materiales', ',', 'Nutrición', 'y', 'dietética', ',', 'Ingeniería', 'geológica', ',', 'Estadística', ',', 'Ciencias', 'Técnicas', 'y', 'Estadísticas', ',', 'Empresariales', ',', 'Trabajo', 'Social', ',', 'Administración', 'y', 'Dirección', 'de', 'Empresas', ',', 'Logopedia', ',', 'Historia', 'del', 'Arte', ',', 'Historia', 'y', 'Ciencias', 'de', 'la', 'Música', ',', 'Óptica', 'y', 'Optometría', ',', 'Podología', ',', 'Terapia', 'Ocupacional', ',', 'Traducción', 'e', 'Interpretación', '.'], ['Real', 'Colegio', 'Complutense', 'en', 'Harvard', '.'], ['Institución', 'creada', 'en', '1990', 'por', 'la', 'intercesión', 'de', 'don', 'Juan', 'Carlos', 'I', ',', 'quien', 'consiguió', 'que', 'se', 'firmara', 'el', 'único', 'acuerdo', 'institucional', 'de', 'estas', 'características', 'que', 'tiene', 'la', 'Universidad', 'de', 'Harvard', 'con', 'la', 'Universidad', 'Complutense', ',', 'de', 'ahí', 'que', 'lleve', '``', 'Real', \"''\", 'en', 'el', 'nombre', 'de', 'esta', 'institución', '.', 'El', 'Real', 'Colegio', 'permite', 'la', 'incorporación', 'a', 'proyectos', 'de', 'investigación', 'americanos', ',', 'a', 'los', 'estudiantes', 'españoles', '.'], ['Campus', 'de', 'Ciudad', 'Universitaria', '.'], ['Escuela', 'Universitaria', 'de', 'Enfermería', ',', 'Fisioterapia', 'y', 'Podología', '.'], ['Facultad', 'de', 'Bellas', 'Artes', '.'], ['Facultad', 'de', 'Ciencias', 'Biológicas', '.'], ['Facultad', 'de', 'Ciencias', 'de', 'la', 'Educación', '.'], ['Facultad', 'de', 'Ciencias', 'Físicas', '.'], ['Facultad', 'de', 'Ciencias', 'Geológicas', '.'], ['Facultad', 'de', 'Ciencias', 'de', 'la', 'Información', '.'], ['Facultad', 'de', 'Ciencias', 'Matemáticas', '.'], ['Facultad', 'de', 'Ciencias', 'Químicas', '.'], ['Facultad', 'de', 'Derecho', '.'], ['Facultad', 'de', 'Farmacia', '.'], ['Facultad', 'de', 'Filología', '.'], ['Facultad', 'de', 'Filosofía', '.'], ['Facultad', 'de', 'Geografía', 'e', 'Historia', '.'], ['Facultad', 'de', 'Informática', '.'], ['Facultad', 'de', 'Medicina', '.'], ['Facultad', 'de', 'Odontología', '.'], ['Facultad', 'de', 'Veterinaria', '.'], ['Campus', 'de', 'Somosaguas', '.'], ['Facultad', 'de', 'Ciencias', 'Políticas', 'y', 'Sociología', '.'], ['Facultad', 'de', 'Ciencias', 'Económicas', 'y', 'Empresariales', '.'], ['Facultad', 'de', 'Psicología', '.'], ['Escuela', 'Universitaria', 'de', 'Trabajo', 'Social', '.'], ['Otros', 'Campus', '.'], ['Escuela', 'Universitaria', 'de', 'Ciencias', 'Empresariales', '.'], ['Escuela', 'Universitaria', 'de', 'Óptica', '.'], ['Facultad', 'de', 'Ciencias', 'de', 'la', 'Documentación', '.'], ['Véase', 'también', '.'], ['Universidad', ';'], ['Clasificación', 'académica', 'de', 'universidades', 'de', 'España', ';'], ['Ranking', 'de', 'universidades', 'españolas', ';'], ['ASAAF', ',', 'Asociación', 'de', 'Astrónomos', 'Aficionados', ';']]\n"
     ]
    }
   ],
   "source": [
    "#Se importa la librería nltk para tokenizar las palabras.\n",
    "import nltk\n",
    "from nltk.tokenize import word_tokenize\n",
    "\n",
    "#Se define el vector donde quedan almacenadas las palabras tokenizadas.\n",
    "vectorpalabras = []\n",
    "\n",
    "#Se hace el proceso de tokenizado para el DataFrame y se adiciona el contenido al vectorpalabras.\n",
    "vectorpalabras.append(vectorpd.apply(lambda row: nltk.word_tokenize(row[0]), axis=1))\n",
    "#Se convierte el DataFrame vectorpalabras a la lista vectorpalabras.\n",
    "vectorpalabras=vectorpalabras[0].tolist()\n",
    "#Se imprime la lista vectorpalabras.\n",
    "#print(vectorpalabras)\n",
    "print(vectorpalabras[:50])"
   ]
  }
 ],
 "metadata": {
  "kernelspec": {
   "display_name": "Python 3",
   "language": "python",
   "name": "python3"
  },
  "language_info": {
   "codemirror_mode": {
    "name": "ipython",
    "version": 3
   },
   "file_extension": ".py",
   "mimetype": "text/x-python",
   "name": "python",
   "nbconvert_exporter": "python",
   "pygments_lexer": "ipython3",
   "version": "3.9.13"
  },
  "vscode": {
   "interpreter": {
    "hash": "aee8b7b246df8f9039afb4144a1f6fd8d2ca17a180786b69acc140d282b71a49"
   }
  }
 },
 "nbformat": 4,
 "nbformat_minor": 4
}
